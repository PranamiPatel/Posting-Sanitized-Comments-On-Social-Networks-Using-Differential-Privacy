{
 "cells": [
  {
   "cell_type": "code",
   "execution_count": 1,
   "metadata": {
    "_cell_guid": "b1076dfc-b9ad-4769-8c92-a6c4dae69d19",
    "_uuid": "8f2839f25d086af736a60e9eeb907d3b93b6e0e5",
    "execution": {
     "iopub.execute_input": "2025-03-17T05:31:38.672358Z",
     "iopub.status.busy": "2025-03-17T05:31:38.671919Z",
     "iopub.status.idle": "2025-03-17T05:31:59.178051Z",
     "shell.execute_reply": "2025-03-17T05:31:59.177102Z",
     "shell.execute_reply.started": "2025-03-17T05:31:38.672293Z"
    }
   },
   "outputs": [],
   "source": [
    "import pandas as pd\n",
    "import torch\n",
    "from torch.utils.data import DataLoader\n",
    "from transformers import BertTokenizer, BertForSequenceClassification, AdamW\n",
    "from transformers import get_linear_schedule_with_warmup\n",
    "from sklearn.model_selection import train_test_split\n",
    "from sklearn.metrics import accuracy_score\n",
    "from datasets import Dataset\n",
    "import numpy as np"
   ]
  },
  {
   "cell_type": "code",
   "execution_count": 2,
   "metadata": {
    "execution": {
     "iopub.execute_input": "2025-03-17T05:31:59.179689Z",
     "iopub.status.busy": "2025-03-17T05:31:59.179188Z",
     "iopub.status.idle": "2025-03-17T05:31:59.525144Z",
     "shell.execute_reply": "2025-03-17T05:31:59.524256Z",
     "shell.execute_reply.started": "2025-03-17T05:31:59.179663Z"
    }
   },
   "outputs": [
    {
     "data": {
      "text/html": [
       "<div>\n",
       "<style scoped>\n",
       "    .dataframe tbody tr th:only-of-type {\n",
       "        vertical-align: middle;\n",
       "    }\n",
       "\n",
       "    .dataframe tbody tr th {\n",
       "        vertical-align: top;\n",
       "    }\n",
       "\n",
       "    .dataframe thead th {\n",
       "        text-align: right;\n",
       "    }\n",
       "</style>\n",
       "<table border=\"1\" class=\"dataframe\">\n",
       "  <thead>\n",
       "    <tr style=\"text-align: right;\">\n",
       "      <th></th>\n",
       "      <th>Unnamed: 0</th>\n",
       "      <th>user_gender</th>\n",
       "      <th>comment</th>\n",
       "    </tr>\n",
       "  </thead>\n",
       "  <tbody>\n",
       "    <tr>\n",
       "      <th>0</th>\n",
       "      <td>0</td>\n",
       "      <td>Female</td>\n",
       "      <td>wow...love it jess</td>\n",
       "    </tr>\n",
       "    <tr>\n",
       "      <th>1</th>\n",
       "      <td>1</td>\n",
       "      <td>Female</td>\n",
       "      <td>This is a great picture of u!!!! Beautiful</td>\n",
       "    </tr>\n",
       "    <tr>\n",
       "      <th>2</th>\n",
       "      <td>2</td>\n",
       "      <td>Female</td>\n",
       "      <td>Hey boo!! Your G loves you to the moon and the...</td>\n",
       "    </tr>\n",
       "    <tr>\n",
       "      <th>3</th>\n",
       "      <td>3</td>\n",
       "      <td>Female</td>\n",
       "      <td>He said he loves you more and to not argue wit...</td>\n",
       "    </tr>\n",
       "    <tr>\n",
       "      <th>4</th>\n",
       "      <td>4</td>\n",
       "      <td>Female</td>\n",
       "      <td>I can't wait either! I miss him so very much!</td>\n",
       "    </tr>\n",
       "  </tbody>\n",
       "</table>\n",
       "</div>"
      ],
      "text/plain": [
       "   Unnamed: 0 user_gender                                            comment\n",
       "0           0      Female                                 wow...love it jess\n",
       "1           1      Female         This is a great picture of u!!!! Beautiful\n",
       "2           2      Female  Hey boo!! Your G loves you to the moon and the...\n",
       "3           3      Female  He said he loves you more and to not argue wit...\n",
       "4           4      Female      I can't wait either! I miss him so very much!"
      ]
     },
     "execution_count": 2,
     "metadata": {},
     "output_type": "execute_result"
    }
   ],
   "source": [
    "data = pd.read_csv(\"/kaggle/input/dataset/dataset.csv\")\n",
    "data.head()"
   ]
  },
  {
   "cell_type": "code",
   "execution_count": 3,
   "metadata": {
    "execution": {
     "iopub.execute_input": "2025-03-17T05:31:59.527101Z",
     "iopub.status.busy": "2025-03-17T05:31:59.526873Z",
     "iopub.status.idle": "2025-03-17T05:31:59.543618Z",
     "shell.execute_reply": "2025-03-17T05:31:59.542786Z",
     "shell.execute_reply.started": "2025-03-17T05:31:59.527081Z"
    }
   },
   "outputs": [],
   "source": [
    "data['user_gender'] = data['user_gender'].map({'Male' : 0, 'Female' : 1})"
   ]
  },
  {
   "cell_type": "code",
   "execution_count": 4,
   "metadata": {
    "execution": {
     "iopub.execute_input": "2025-03-17T05:31:59.545180Z",
     "iopub.status.busy": "2025-03-17T05:31:59.544882Z",
     "iopub.status.idle": "2025-03-17T05:31:59.572836Z",
     "shell.execute_reply": "2025-03-17T05:31:59.572260Z",
     "shell.execute_reply.started": "2025-03-17T05:31:59.545151Z"
    }
   },
   "outputs": [],
   "source": [
    "train_data, val_data = train_test_split(data, test_size=0.2, random_state=42)"
   ]
  },
  {
   "cell_type": "code",
   "execution_count": 5,
   "metadata": {
    "execution": {
     "iopub.execute_input": "2025-03-17T05:31:59.573894Z",
     "iopub.status.busy": "2025-03-17T05:31:59.573605Z",
     "iopub.status.idle": "2025-03-17T05:31:59.727934Z",
     "shell.execute_reply": "2025-03-17T05:31:59.727273Z",
     "shell.execute_reply.started": "2025-03-17T05:31:59.573866Z"
    }
   },
   "outputs": [],
   "source": [
    "# Convert to Hugging Face Dataset format\n",
    "train_dataset = Dataset.from_pandas(train_data)\n",
    "val_dataset = Dataset.from_pandas(val_data)"
   ]
  },
  {
   "cell_type": "code",
   "execution_count": 6,
   "metadata": {
    "execution": {
     "iopub.execute_input": "2025-03-17T05:31:59.729894Z",
     "iopub.status.busy": "2025-03-17T05:31:59.729631Z",
     "iopub.status.idle": "2025-03-17T05:32:00.942805Z",
     "shell.execute_reply": "2025-03-17T05:32:00.942081Z",
     "shell.execute_reply.started": "2025-03-17T05:31:59.729871Z"
    }
   },
   "outputs": [
    {
     "data": {
      "application/vnd.jupyter.widget-view+json": {
       "model_id": "ee4f176befed4fd2afcfafe52eb95c70",
       "version_major": 2,
       "version_minor": 0
      },
      "text/plain": [
       "tokenizer_config.json:   0%|          | 0.00/49.0 [00:00<?, ?B/s]"
      ]
     },
     "metadata": {},
     "output_type": "display_data"
    },
    {
     "data": {
      "application/vnd.jupyter.widget-view+json": {
       "model_id": "23603689ce534c17b78c22ad4457eb85",
       "version_major": 2,
       "version_minor": 0
      },
      "text/plain": [
       "vocab.txt:   0%|          | 0.00/213k [00:00<?, ?B/s]"
      ]
     },
     "metadata": {},
     "output_type": "display_data"
    },
    {
     "data": {
      "application/vnd.jupyter.widget-view+json": {
       "model_id": "10c5878998be44029dd0d3a64a96d465",
       "version_major": 2,
       "version_minor": 0
      },
      "text/plain": [
       "tokenizer.json:   0%|          | 0.00/436k [00:00<?, ?B/s]"
      ]
     },
     "metadata": {},
     "output_type": "display_data"
    },
    {
     "data": {
      "application/vnd.jupyter.widget-view+json": {
       "model_id": "1b78253ad9fc4c81a8afc4ffb57c91b6",
       "version_major": 2,
       "version_minor": 0
      },
      "text/plain": [
       "config.json:   0%|          | 0.00/570 [00:00<?, ?B/s]"
      ]
     },
     "metadata": {},
     "output_type": "display_data"
    }
   ],
   "source": [
    "# Load the BERT tokenizer\n",
    "tokenizer = BertTokenizer.from_pretrained(\"bert-base-cased\")"
   ]
  },
  {
   "cell_type": "code",
   "execution_count": 7,
   "metadata": {
    "execution": {
     "iopub.execute_input": "2025-03-17T05:32:00.943738Z",
     "iopub.status.busy": "2025-03-17T05:32:00.943531Z",
     "iopub.status.idle": "2025-03-17T05:33:07.759178Z",
     "shell.execute_reply": "2025-03-17T05:33:07.758289Z",
     "shell.execute_reply.started": "2025-03-17T05:32:00.943719Z"
    }
   },
   "outputs": [
    {
     "data": {
      "application/vnd.jupyter.widget-view+json": {
       "model_id": "8e3a43c4a2254940a0e06f3dfde64bf4",
       "version_major": 2,
       "version_minor": 0
      },
      "text/plain": [
       "Map:   0%|          | 0/152083 [00:00<?, ? examples/s]"
      ]
     },
     "metadata": {},
     "output_type": "display_data"
    },
    {
     "data": {
      "application/vnd.jupyter.widget-view+json": {
       "model_id": "e1371e6feaa54940b09b5f0f6af0bc25",
       "version_major": 2,
       "version_minor": 0
      },
      "text/plain": [
       "Map:   0%|          | 0/38021 [00:00<?, ? examples/s]"
      ]
     },
     "metadata": {},
     "output_type": "display_data"
    }
   ],
   "source": [
    "# Tokenize the dataset\n",
    "def tokenize_function(examples):\n",
    "    return tokenizer(examples[\"comment\"], padding=\"max_length\", truncation=True, max_length=128)\n",
    "\n",
    "train_dataset = train_dataset.map(tokenize_function, batched=True)\n",
    "val_dataset = val_dataset.map(tokenize_function, batched=True)"
   ]
  },
  {
   "cell_type": "code",
   "execution_count": 8,
   "metadata": {
    "execution": {
     "iopub.execute_input": "2025-03-17T05:33:07.761699Z",
     "iopub.status.busy": "2025-03-17T05:33:07.761489Z",
     "iopub.status.idle": "2025-03-17T05:33:07.766416Z",
     "shell.execute_reply": "2025-03-17T05:33:07.765735Z",
     "shell.execute_reply.started": "2025-03-17T05:33:07.761679Z"
    }
   },
   "outputs": [],
   "source": [
    "# Set the format for PyTorch\n",
    "train_dataset.set_format(type='torch', columns=['input_ids', 'attention_mask', 'user_gender'])\n",
    "val_dataset.set_format(type='torch', columns=['input_ids', 'attention_mask', 'user_gender'])"
   ]
  },
  {
   "cell_type": "code",
   "execution_count": 9,
   "metadata": {
    "execution": {
     "iopub.execute_input": "2025-03-17T05:33:07.767673Z",
     "iopub.status.busy": "2025-03-17T05:33:07.767475Z",
     "iopub.status.idle": "2025-03-17T05:33:07.781899Z",
     "shell.execute_reply": "2025-03-17T05:33:07.781240Z",
     "shell.execute_reply.started": "2025-03-17T05:33:07.767656Z"
    }
   },
   "outputs": [],
   "source": [
    "# Create DataLoaders\n",
    "train_loader = DataLoader(train_dataset, batch_size=16, shuffle=True)\n",
    "val_loader = DataLoader(val_dataset, batch_size=16)"
   ]
  },
  {
   "cell_type": "code",
   "execution_count": 10,
   "metadata": {
    "execution": {
     "iopub.execute_input": "2025-03-17T05:33:07.783077Z",
     "iopub.status.busy": "2025-03-17T05:33:07.782766Z",
     "iopub.status.idle": "2025-03-17T05:33:10.408628Z",
     "shell.execute_reply": "2025-03-17T05:33:10.408019Z",
     "shell.execute_reply.started": "2025-03-17T05:33:07.783046Z"
    }
   },
   "outputs": [
    {
     "data": {
      "application/vnd.jupyter.widget-view+json": {
       "model_id": "87c3841c9055479faef0f2257cd5f03f",
       "version_major": 2,
       "version_minor": 0
      },
      "text/plain": [
       "model.safetensors:   0%|          | 0.00/436M [00:00<?, ?B/s]"
      ]
     },
     "metadata": {},
     "output_type": "display_data"
    },
    {
     "name": "stderr",
     "output_type": "stream",
     "text": [
      "Some weights of BertForSequenceClassification were not initialized from the model checkpoint at bert-base-cased and are newly initialized: ['classifier.bias', 'classifier.weight']\n",
      "You should probably TRAIN this model on a down-stream task to be able to use it for predictions and inference.\n"
     ]
    }
   ],
   "source": [
    "# Load the BERT model for sequence classification\n",
    "model = BertForSequenceClassification.from_pretrained(\"bert-base-cased\", num_labels=2)"
   ]
  },
  {
   "cell_type": "code",
   "execution_count": 11,
   "metadata": {
    "execution": {
     "iopub.execute_input": "2025-03-17T05:33:10.409702Z",
     "iopub.status.busy": "2025-03-17T05:33:10.409467Z",
     "iopub.status.idle": "2025-03-17T05:33:10.416856Z",
     "shell.execute_reply": "2025-03-17T05:33:10.416014Z",
     "shell.execute_reply.started": "2025-03-17T05:33:10.409682Z"
    }
   },
   "outputs": [
    {
     "name": "stderr",
     "output_type": "stream",
     "text": [
      "/usr/local/lib/python3.10/dist-packages/transformers/optimization.py:591: FutureWarning: This implementation of AdamW is deprecated and will be removed in a future version. Use the PyTorch implementation torch.optim.AdamW instead, or set `no_deprecation_warning=True` to disable this warning\n",
      "  warnings.warn(\n"
     ]
    }
   ],
   "source": [
    "# Set up the optimizer and learning rate scheduler\n",
    "optimizer = AdamW(model.parameters(), lr=2e-5)\n",
    "total_steps = len(train_loader) * 3  # 3 epochs\n",
    "scheduler = get_linear_schedule_with_warmup(optimizer, num_warmup_steps=0, num_training_steps=total_steps)"
   ]
  },
  {
   "cell_type": "code",
   "execution_count": 12,
   "metadata": {
    "execution": {
     "iopub.execute_input": "2025-03-17T05:33:10.418068Z",
     "iopub.status.busy": "2025-03-17T05:33:10.417793Z",
     "iopub.status.idle": "2025-03-17T05:33:10.833609Z",
     "shell.execute_reply": "2025-03-17T05:33:10.832826Z",
     "shell.execute_reply.started": "2025-03-17T05:33:10.418040Z"
    }
   },
   "outputs": [
    {
     "data": {
      "text/plain": [
       "BertForSequenceClassification(\n",
       "  (bert): BertModel(\n",
       "    (embeddings): BertEmbeddings(\n",
       "      (word_embeddings): Embedding(28996, 768, padding_idx=0)\n",
       "      (position_embeddings): Embedding(512, 768)\n",
       "      (token_type_embeddings): Embedding(2, 768)\n",
       "      (LayerNorm): LayerNorm((768,), eps=1e-12, elementwise_affine=True)\n",
       "      (dropout): Dropout(p=0.1, inplace=False)\n",
       "    )\n",
       "    (encoder): BertEncoder(\n",
       "      (layer): ModuleList(\n",
       "        (0-11): 12 x BertLayer(\n",
       "          (attention): BertAttention(\n",
       "            (self): BertSdpaSelfAttention(\n",
       "              (query): Linear(in_features=768, out_features=768, bias=True)\n",
       "              (key): Linear(in_features=768, out_features=768, bias=True)\n",
       "              (value): Linear(in_features=768, out_features=768, bias=True)\n",
       "              (dropout): Dropout(p=0.1, inplace=False)\n",
       "            )\n",
       "            (output): BertSelfOutput(\n",
       "              (dense): Linear(in_features=768, out_features=768, bias=True)\n",
       "              (LayerNorm): LayerNorm((768,), eps=1e-12, elementwise_affine=True)\n",
       "              (dropout): Dropout(p=0.1, inplace=False)\n",
       "            )\n",
       "          )\n",
       "          (intermediate): BertIntermediate(\n",
       "            (dense): Linear(in_features=768, out_features=3072, bias=True)\n",
       "            (intermediate_act_fn): GELUActivation()\n",
       "          )\n",
       "          (output): BertOutput(\n",
       "            (dense): Linear(in_features=3072, out_features=768, bias=True)\n",
       "            (LayerNorm): LayerNorm((768,), eps=1e-12, elementwise_affine=True)\n",
       "            (dropout): Dropout(p=0.1, inplace=False)\n",
       "          )\n",
       "        )\n",
       "      )\n",
       "    )\n",
       "    (pooler): BertPooler(\n",
       "      (dense): Linear(in_features=768, out_features=768, bias=True)\n",
       "      (activation): Tanh()\n",
       "    )\n",
       "  )\n",
       "  (dropout): Dropout(p=0.1, inplace=False)\n",
       "  (classifier): Linear(in_features=768, out_features=2, bias=True)\n",
       ")"
      ]
     },
     "execution_count": 12,
     "metadata": {},
     "output_type": "execute_result"
    }
   ],
   "source": [
    "# Training loop\n",
    "device = torch.device(\"cuda\") if torch.cuda.is_available() else torch.device(\"cpu\")\n",
    "model.to(device)"
   ]
  },
  {
   "cell_type": "code",
   "execution_count": 13,
   "metadata": {
    "execution": {
     "iopub.execute_input": "2025-03-17T05:33:10.834626Z",
     "iopub.status.busy": "2025-03-17T05:33:10.834385Z",
     "iopub.status.idle": "2025-03-17T06:38:25.103122Z",
     "shell.execute_reply": "2025-03-17T06:38:25.102154Z",
     "shell.execute_reply.started": "2025-03-17T05:33:10.834606Z"
    }
   },
   "outputs": [
    {
     "name": "stdout",
     "output_type": "stream",
     "text": [
      "Epoch 1, Average Training Loss: 0.5197292381140048\n",
      "Validation Accuracy: 0.7800163067778333\n",
      "Epoch 2, Average Training Loss: 0.36271893750353407\n",
      "Validation Accuracy: 0.7999000552326346\n"
     ]
    }
   ],
   "source": [
    "best_val_accuracy = 0\n",
    "\n",
    "for epoch in range(2):  \n",
    "    model.train()\n",
    "    total_loss = 0\n",
    "    for batch in train_loader:\n",
    "        optimizer.zero_grad()\n",
    "        input_ids = batch['input_ids'].to(device)\n",
    "        attention_mask = batch['attention_mask'].to(device)\n",
    "        labels = batch['user_gender'].to(device)\n",
    "        \n",
    "        outputs = model(input_ids, attention_mask=attention_mask, labels=labels)\n",
    "        loss = outputs.loss\n",
    "        total_loss += loss.item()\n",
    "        \n",
    "        loss.backward()\n",
    "        torch.nn.utils.clip_grad_norm_(model.parameters(), max_norm=1.0)  # Gradient clipping\n",
    "        optimizer.step()\n",
    "        scheduler.step()\n",
    "    \n",
    "    avg_train_loss = total_loss / len(train_loader)\n",
    "    print(f\"Epoch {epoch + 1}, Average Training Loss: {avg_train_loss}\")\n",
    "\n",
    "    # Validation loop\n",
    "    model.eval()\n",
    "    val_preds, val_labels = [], []\n",
    "    with torch.no_grad():\n",
    "        for batch in val_loader:\n",
    "            input_ids = batch['input_ids'].to(device)\n",
    "            attention_mask = batch['attention_mask'].to(device)\n",
    "            labels = batch['user_gender'].to(device)\n",
    "            \n",
    "            outputs = model(input_ids, attention_mask=attention_mask)\n",
    "            logits = outputs.logits\n",
    "            preds = torch.argmax(logits, dim=-1)\n",
    "            \n",
    "            val_preds.extend(preds.cpu().numpy())\n",
    "            val_labels.extend(labels.cpu().numpy())\n",
    "    \n",
    "    val_accuracy = accuracy_score(val_labels, val_preds)\n",
    "    print(f\"Validation Accuracy: {val_accuracy}\")\n",
    "    \n",
    "    # Save the best model to avoid overfitting\n",
    "    if val_accuracy > best_val_accuracy:\n",
    "        best_val_accuracy = val_accuracy\n",
    "        model.save_pretrained(\"/kaggle/working/bert\")\n",
    "        tokenizer.save_pretrained(\"/kaggle/working/token\")"
   ]
  },
  {
   "cell_type": "code",
   "execution_count": null,
   "metadata": {
    "execution": {
     "iopub.execute_input": "2025-03-17T06:38:25.104312Z",
     "iopub.status.busy": "2025-03-17T06:38:25.104031Z",
     "iopub.status.idle": "2025-03-17T06:40:32.618165Z",
     "shell.execute_reply": "2025-03-17T06:40:32.617402Z",
     "shell.execute_reply.started": "2025-03-17T06:38:25.104289Z"
    }
   },
   "outputs": [
    {
     "name": "stdout",
     "output_type": "stream",
     "text": [
      "Validation Accuracy: 0.7999000552326346\n"
     ]
    }
   ],
   "source": [
    "from sklearn.metrics import accuracy_score\n",
    "\n",
    "# Evaluate the model on the validation set\n",
    "model.eval()  \n",
    "val_preds, val_labels = [], []\n",
    "\n",
    "with torch.no_grad(): \n",
    "    for batch in val_loader:\n",
    "        input_ids = batch['input_ids'].to(device)\n",
    "        attention_mask = batch['attention_mask'].to(device)\n",
    "        labels = batch['user_gender'].to(device)\n",
    "        \n",
    "        # Forward pass\n",
    "        outputs = model(input_ids, attention_mask=attention_mask)\n",
    "        logits = outputs.logits\n",
    "        \n",
    "        # Get predicted labels by finding the index with the highest logit value\n",
    "        preds = torch.argmax(logits, dim=-1)\n",
    "        \n",
    "        # Store predictions and labels\n",
    "        val_preds.extend(preds.cpu().numpy())\n",
    "        val_labels.extend(labels.cpu().numpy())\n",
    "\n",
    "# Calculate accuracy\n",
    "val_accuracy = accuracy_score(val_labels, val_preds)\n",
    "print(f\"Validation Accuracy: {val_accuracy}\")"
   ]
  },
  {
   "cell_type": "code",
   "execution_count": 15,
   "metadata": {
    "execution": {
     "iopub.execute_input": "2025-03-17T06:40:32.619114Z",
     "iopub.status.busy": "2025-03-17T06:40:32.618906Z",
     "iopub.status.idle": "2025-03-17T06:40:32.623023Z",
     "shell.execute_reply": "2025-03-17T06:40:32.622140Z",
     "shell.execute_reply.started": "2025-03-17T06:40:32.619095Z"
    }
   },
   "outputs": [],
   "source": [
    "def load_model():\n",
    "    model = BertForSequenceClassification.from_pretrained(\"/kaggle/working/bert\")\n",
    "    tokenizer = BertTokenizer.from_pretrained(\"/kaggle/working/token\")\n",
    "    model.to(device)\n",
    "    model.eval()\n",
    "    return model, tokenizer"
   ]
  },
  {
   "cell_type": "code",
   "execution_count": 16,
   "metadata": {
    "execution": {
     "iopub.execute_input": "2025-03-17T06:40:32.623985Z",
     "iopub.status.busy": "2025-03-17T06:40:32.623745Z",
     "iopub.status.idle": "2025-03-17T06:40:32.879194Z",
     "shell.execute_reply": "2025-03-17T06:40:32.878556Z",
     "shell.execute_reply.started": "2025-03-17T06:40:32.623964Z"
    }
   },
   "outputs": [],
   "source": [
    "model, tokenizer = load_model()"
   ]
  },
  {
   "cell_type": "code",
   "execution_count": null,
   "metadata": {
    "execution": {
     "iopub.execute_input": "2025-03-17T06:40:32.880138Z",
     "iopub.status.busy": "2025-03-17T06:40:32.879938Z",
     "iopub.status.idle": "2025-03-17T06:40:32.884887Z",
     "shell.execute_reply": "2025-03-17T06:40:32.884105Z",
     "shell.execute_reply.started": "2025-03-17T06:40:32.880119Z"
    }
   },
   "outputs": [],
   "source": [
    "# Predict gender function \n",
    "def predict_party(comment, model, tokenizer, device):\n",
    "    model.eval()\n",
    "    encoding = tokenizer(comment, padding=\"max_length\", truncation=True, max_length=128, return_tensors=\"pt\")\n",
    "    input_ids = encoding[\"input_ids\"].to(device)\n",
    "    attention_mask = encoding[\"attention_mask\"].to(device)\n",
    "    with torch.no_grad():\n",
    "        outputs = model(input_ids, attention_mask)\n",
    "        prediction = torch.argmax(outputs.logits, dim=1).cpu().item()\n",
    "    return \"Male\" if prediction == 0 else \"Female\""
   ]
  },
  {
   "cell_type": "code",
   "execution_count": null,
   "metadata": {
    "execution": {
     "iopub.execute_input": "2025-03-17T06:40:32.885833Z",
     "iopub.status.busy": "2025-03-17T06:40:32.885635Z",
     "iopub.status.idle": "2025-03-17T06:40:32.899891Z",
     "shell.execute_reply": "2025-03-17T06:40:32.899097Z",
     "shell.execute_reply.started": "2025-03-17T06:40:32.885815Z"
    }
   },
   "outputs": [],
   "source": [
    "# Predict gender probability function \n",
    "def predict_prob(text, model, tokenizer, device, max_length=128):\n",
    "    model.eval()\n",
    "    encoding = tokenizer(text, return_tensors='pt', max_length=max_length, padding='max_length', truncation=True)\n",
    "    input_ids = encoding['input_ids'].to(device)\n",
    "    attention_mask = encoding['attention_mask'].to(device)\n",
    "    with torch.no_grad():\n",
    "        outputs = model(input_ids, attention_mask)\n",
    "        softmax = torch.nn.Softmax(dim=1)\n",
    "        probabilities = softmax(outputs.logits).cpu().numpy()\n",
    "    return probabilities"
   ]
  },
  {
   "cell_type": "code",
   "execution_count": null,
   "metadata": {
    "execution": {
     "iopub.execute_input": "2025-03-17T06:40:32.901040Z",
     "iopub.status.busy": "2025-03-17T06:40:32.900762Z",
     "iopub.status.idle": "2025-03-17T06:40:32.918153Z",
     "shell.execute_reply": "2025-03-17T06:40:32.917394Z",
     "shell.execute_reply.started": "2025-03-17T06:40:32.901012Z"
    }
   },
   "outputs": [],
   "source": [
    "# Predict instance function \n",
    "def predict_instance(text, model, tokenizer, device):\n",
    "    preds = predict_gender_prob(text, model, tokenizer, device)\n",
    "    \n",
    "    return {\n",
    "        \"Male Probability\": preds[0][0],  \n",
    "        \"Female Probability\": preds[0][1]  \n",
    "    }"
   ]
  },
  {
   "cell_type": "code",
   "execution_count": 20,
   "metadata": {
    "execution": {
     "iopub.execute_input": "2025-03-17T06:40:32.919245Z",
     "iopub.status.busy": "2025-03-17T06:40:32.918967Z",
     "iopub.status.idle": "2025-03-17T06:40:32.968584Z",
     "shell.execute_reply": "2025-03-17T06:40:32.967957Z",
     "shell.execute_reply.started": "2025-03-17T06:40:32.919218Z"
    }
   },
   "outputs": [
    {
     "data": {
      "text/plain": [
       "'Male'"
      ]
     },
     "execution_count": 20,
     "metadata": {},
     "output_type": "execute_result"
    }
   ],
   "source": [
    "# Example usage\n",
    "txt = \"I've had the 50watter since Oct of last year and I'm still impressed and blown away every time I play it. It's unreal. Killer choice\"\n",
    "predict_party(txt, model, tokenizer, device)"
   ]
  },
  {
   "cell_type": "code",
   "execution_count": 21,
   "metadata": {
    "execution": {
     "iopub.execute_input": "2025-03-17T06:40:32.969275Z",
     "iopub.status.busy": "2025-03-17T06:40:32.969067Z",
     "iopub.status.idle": "2025-03-17T06:40:32.986035Z",
     "shell.execute_reply": "2025-03-17T06:40:32.985136Z",
     "shell.execute_reply.started": "2025-03-17T06:40:32.969257Z"
    }
   },
   "outputs": [
    {
     "data": {
      "text/plain": [
       "'Female'"
      ]
     },
     "execution_count": 21,
     "metadata": {},
     "output_type": "execute_result"
    }
   ],
   "source": [
    "txt = \"You l've got a good man there hun. Take care of each other and it'll last a long time.\\nFor sore throats my dad used to take 2 tablespoons of apple cider vinegar and the same amount of honey, mix it in at least 8oz of hot water. Drink it while ot's still hot, but not burning. Worked every time for me...still does.\"\n",
    "predict_party(txt, model, tokenizer, device)"
   ]
  },
  {
   "cell_type": "code",
   "execution_count": null,
   "metadata": {},
   "outputs": [],
   "source": []
  }
 ],
 "metadata": {
  "kaggle": {
   "accelerator": "gpu",
   "dataSources": [
    {
     "datasetId": 6650790,
     "sourceId": 10727895,
     "sourceType": "datasetVersion"
    }
   ],
   "dockerImageVersionId": 30919,
   "isGpuEnabled": true,
   "isInternetEnabled": true,
   "language": "python",
   "sourceType": "notebook"
  },
  "kernelspec": {
   "display_name": "Python [conda env:anaconda3] *",
   "language": "python",
   "name": "conda-env-anaconda3-py"
  },
  "language_info": {
   "codemirror_mode": {
    "name": "ipython",
    "version": 3
   },
   "file_extension": ".py",
   "mimetype": "text/x-python",
   "name": "python",
   "nbconvert_exporter": "python",
   "pygments_lexer": "ipython3",
   "version": "3.12.3"
  }
 },
 "nbformat": 4,
 "nbformat_minor": 4
}
