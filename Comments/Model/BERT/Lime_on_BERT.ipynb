{
 "cells": [
  {
   "cell_type": "code",
   "execution_count": null,
   "metadata": {
    "_cell_guid": "b1076dfc-b9ad-4769-8c92-a6c4dae69d19",
    "_uuid": "8f2839f25d086af736a60e9eeb907d3b93b6e0e5",
    "execution": {
     "iopub.execute_input": "2025-02-13T12:42:20.221805Z",
     "iopub.status.busy": "2025-02-13T12:42:20.221476Z",
     "iopub.status.idle": "2025-02-13T12:42:40.504638Z",
     "shell.execute_reply": "2025-02-13T12:42:40.503694Z",
     "shell.execute_reply.started": "2025-02-13T12:42:20.221778Z"
    },
    "id": "JWrCZtbwd8ZX",
    "trusted": true
   },
   "outputs": [],
   "source": [
    "import pandas as pd\n",
    "import torch\n",
    "from torch.utils.data import DataLoader\n",
    "from transformers import BertTokenizer, BertForSequenceClassification, AdamW\n",
    "from transformers import get_linear_schedule_with_warmup\n",
    "from sklearn.model_selection import train_test_split\n",
    "from sklearn.metrics import accuracy_score\n",
    "from datasets import Dataset\n",
    "import numpy as np"
   ]
  },
  {
   "cell_type": "code",
   "execution_count": null,
   "metadata": {},
   "outputs": [],
   "source": [
    "data = pd.read_csv(\"C:/Users/ADMIN PC/Desktop/Comment/Comment_dataset.csv\")\n",
    "data.head()"
   ]
  },
  {
   "cell_type": "code",
   "execution_count": null,
   "metadata": {},
   "outputs": [],
   "source": [
    "data['user_gender'] = data['user_gender'].map({'Male' : 0, 'Female' : 1})"
   ]
  },
  {
   "cell_type": "code",
   "execution_count": null,
   "metadata": {},
   "outputs": [],
   "source": [
    "train_data, val_data = train_test_split(data, test_size=0.2, random_state=42)"
   ]
  },
  {
   "cell_type": "code",
   "execution_count": null,
   "metadata": {},
   "outputs": [],
   "source": [
    "# Convert to Hugging Face Dataset format\n",
    "train_dataset = Dataset.from_pandas(train_data)\n",
    "val_dataset = Dataset.from_pandas(val_data)"
   ]
  },
  {
   "cell_type": "code",
   "execution_count": null,
   "metadata": {
    "colab": {
     "referenced_widgets": [
      "b6c287fd85094b478e8d1d18930bfb8e",
      "0836ff619cb645018a4ede6ec752c543",
      "bff9962b3dd14000aba156421b26ad2f",
      "f932b52dea6b4e3c9b2d4c87b1cd64d5"
     ]
    },
    "execution": {
     "iopub.execute_input": "2025-02-13T12:42:53.537374Z",
     "iopub.status.busy": "2025-02-13T12:42:53.537071Z",
     "iopub.status.idle": "2025-02-13T12:42:54.260514Z",
     "shell.execute_reply": "2025-02-13T12:42:54.259841Z",
     "shell.execute_reply.started": "2025-02-13T12:42:53.537350Z"
    },
    "id": "yReXUuiAd8ZY",
    "outputId": "62efb26c-fd2f-489f-f5d0-b83da199fc52",
    "trusted": true
   },
   "outputs": [
    {
     "data": {
      "application/vnd.jupyter.widget-view+json": {
       "model_id": "b6c287fd85094b478e8d1d18930bfb8e",
       "version_major": 2,
       "version_minor": 0
      },
      "text/plain": [
       "tokenizer_config.json:   0%|          | 0.00/49.0 [00:00<?, ?B/s]"
      ]
     },
     "metadata": {},
     "output_type": "display_data"
    },
    {
     "data": {
      "application/vnd.jupyter.widget-view+json": {
       "model_id": "0836ff619cb645018a4ede6ec752c543",
       "version_major": 2,
       "version_minor": 0
      },
      "text/plain": [
       "vocab.txt:   0%|          | 0.00/213k [00:00<?, ?B/s]"
      ]
     },
     "metadata": {},
     "output_type": "display_data"
    },
    {
     "data": {
      "application/vnd.jupyter.widget-view+json": {
       "model_id": "bff9962b3dd14000aba156421b26ad2f",
       "version_major": 2,
       "version_minor": 0
      },
      "text/plain": [
       "tokenizer.json:   0%|          | 0.00/436k [00:00<?, ?B/s]"
      ]
     },
     "metadata": {},
     "output_type": "display_data"
    },
    {
     "data": {
      "application/vnd.jupyter.widget-view+json": {
       "model_id": "f932b52dea6b4e3c9b2d4c87b1cd64d5",
       "version_major": 2,
       "version_minor": 0
      },
      "text/plain": [
       "config.json:   0%|          | 0.00/570 [00:00<?, ?B/s]"
      ]
     },
     "metadata": {},
     "output_type": "display_data"
    }
   ],
   "source": [
    "# Initialize BERT tokenizer\n",
    "tokenizer = BertTokenizer.from_pretrained('bert-base-cased')"
   ]
  },
  {
   "cell_type": "code",
   "execution_count": null,
   "metadata": {},
   "outputs": [],
   "source": [
    "# Tokenize the dataset\n",
    "def tokenize_function(examples):\n",
    "    return tokenizer(examples[\"comment\"], padding=\"max_length\", truncation=True, max_length=128)\n",
    "\n",
    "train_dataset = train_dataset.map(tokenize_function, batched=True)\n",
    "val_dataset = val_dataset.map(tokenize_function, batched=True)"
   ]
  },
  {
   "cell_type": "code",
   "execution_count": null,
   "metadata": {},
   "outputs": [],
   "source": [
    "# Set the format for PyTorch\n",
    "train_dataset.set_format(type='torch', columns=['input_ids', 'attention_mask', 'user_gender'])\n",
    "val_dataset.set_format(type='torch', columns=['input_ids', 'attention_mask', 'user_gender'])"
   ]
  },
  {
   "cell_type": "code",
   "execution_count": null,
   "metadata": {},
   "outputs": [],
   "source": [
    "#  DataLoaders\n",
    "train_loader = DataLoader(train_dataset, batch_size=16, shuffle=True)\n",
    "val_loader = DataLoader(val_dataset, batch_size=16)"
   ]
  },
  {
   "cell_type": "code",
   "execution_count": null,
   "metadata": {},
   "outputs": [],
   "source": [
    "# Load the BERT model\n",
    "model = BertForSequenceClassification.from_pretrained(\"bert-base-cased\", num_labels=2)"
   ]
  },
  {
   "cell_type": "code",
   "execution_count": null,
   "metadata": {},
   "outputs": [],
   "source": [
    "device = torch.device(\"cuda\") if torch.cuda.is_available() else torch.device(\"cpu\")\n",
    "model.to(device)"
   ]
  },
  {
   "cell_type": "code",
   "execution_count": null,
   "metadata": {},
   "outputs": [],
   "source": [
    "def load_model():\n",
    "    model = BertForSequenceClassification.from_pretrained(\"C:/Users/ADMIN PC/Desktop/Comment/BERT/bert\")\n",
    "    tokenizer = BertTokenizer.from_pretrained(\"C:/Users/ADMIN PC/Desktop/Comment/BERT/token\")\n",
    "    model.to(device)\n",
    "    model.eval()\n",
    "    return model, tokenizer"
   ]
  },
  {
   "cell_type": "code",
   "execution_count": null,
   "metadata": {
    "execution": {
     "iopub.execute_input": "2025-02-13T12:42:54.261804Z",
     "iopub.status.busy": "2025-02-13T12:42:54.261510Z",
     "iopub.status.idle": "2025-02-13T12:42:54.266795Z",
     "shell.execute_reply": "2025-02-13T12:42:54.265969Z",
     "shell.execute_reply.started": "2025-02-13T12:42:54.261782Z"
    },
    "id": "vQ9s-smzd8ZY",
    "trusted": true
   },
   "outputs": [],
   "source": [
    "model, tokenizer = load_model()"
   ]
  },
  {
   "cell_type": "code",
   "execution_count": null,
   "metadata": {
    "execution": {
     "iopub.execute_input": "2025-02-13T12:43:05.691957Z",
     "iopub.status.busy": "2025-02-13T12:43:05.691686Z",
     "iopub.status.idle": "2025-02-13T12:43:05.696502Z",
     "shell.execute_reply": "2025-02-13T12:43:05.695755Z",
     "shell.execute_reply.started": "2025-02-13T12:43:05.691935Z"
    },
    "id": "pyhZD3SWd8ZZ",
    "trusted": true
   },
   "outputs": [],
   "source": [
    "# Predict gender function\n",
    "def predict_male_or_female(comment, model, tokenizer, device):\n",
    "    model.eval()\n",
    "    encoding = tokenizer(comment, padding=\"max_length\", truncation=True, max_length=128, return_tensors=\"pt\")\n",
    "    input_ids = encoding[\"input_ids\"].to(device)\n",
    "    attention_mask = encoding[\"attention_mask\"].to(device)\n",
    "    with torch.no_grad():\n",
    "        outputs = model(input_ids, attention_mask)\n",
    "        prediction = torch.argmax(outputs.logits, dim=1).cpu().item()\n",
    "    return \"Male\" if prediction == 0 else \"Female\""
   ]
  },
  {
   "cell_type": "code",
   "execution_count": null,
   "metadata": {
    "execution": {
     "iopub.execute_input": "2025-02-13T12:43:05.698019Z",
     "iopub.status.busy": "2025-02-13T12:43:05.697784Z",
     "iopub.status.idle": "2025-02-13T12:43:05.711182Z",
     "shell.execute_reply": "2025-02-13T12:43:05.710519Z",
     "shell.execute_reply.started": "2025-02-13T12:43:05.698000Z"
    },
    "id": "Q1pUytyDd8Za",
    "trusted": true
   },
   "outputs": [],
   "source": [
    "# Predict gender probability function \n",
    "def predict_gender_prob(text, model, tokenizer, device, max_length=128):\n",
    "    model.eval()\n",
    "    encoding = tokenizer(text, return_tensors='pt', max_length=max_length, padding='max_length', truncation=True)\n",
    "    input_ids = encoding['input_ids'].to(device)\n",
    "    attention_mask = encoding['attention_mask'].to(device)\n",
    "    with torch.no_grad():\n",
    "        outputs = model(input_ids, attention_mask)\n",
    "        softmax = torch.nn.Softmax(dim=1)\n",
    "        probabilities = softmax(outputs.logits).cpu().numpy()\n",
    "    return probabilities"
   ]
  },
  {
   "cell_type": "code",
   "execution_count": null,
   "metadata": {
    "execution": {
     "iopub.execute_input": "2025-02-13T12:43:05.712500Z",
     "iopub.status.busy": "2025-02-13T12:43:05.712200Z",
     "iopub.status.idle": "2025-02-13T12:43:05.731471Z",
     "shell.execute_reply": "2025-02-13T12:43:05.730771Z",
     "shell.execute_reply.started": "2025-02-13T12:43:05.712469Z"
    },
    "id": "PQOUxBFid8Za",
    "trusted": true
   },
   "outputs": [],
   "source": [
    "# Predict instance function\n",
    "def predict_instance(text):\n",
    "    preds = predict_gender_prob(text, model, tokenizer, device)\n",
    "    return preds"
   ]
  },
  {
   "cell_type": "code",
   "execution_count": null,
   "metadata": {},
   "outputs": [],
   "source": [
    "from lime.lime_text import LimeTextExplainer, IndexedString\n",
    "import numpy as np\n",
    "from operator import itemgetter\n",
    "from tqdm import tqdm\n",
    "import csv"
   ]
  },
  {
   "cell_type": "code",
   "execution_count": null,
   "metadata": {
    "execution": {
     "iopub.execute_input": "2025-02-13T12:43:05.732506Z",
     "iopub.status.busy": "2025-02-13T12:43:05.732261Z",
     "iopub.status.idle": "2025-02-13T12:43:05.745713Z",
     "shell.execute_reply": "2025-02-13T12:43:05.745022Z",
     "shell.execute_reply.started": "2025-02-13T12:43:05.732488Z"
    },
    "id": "EV22oiTGd8Za",
    "trusted": true
   },
   "outputs": [],
   "source": [
    "# LIME explainer\n",
    "class_names = ['Male', 'Female']\n",
    "explainer = LimeTextExplainer(class_names=class_names, random_state=42)"
   ]
  },
  {
   "cell_type": "code",
   "execution_count": null,
   "metadata": {
    "execution": {
     "iopub.execute_input": "2025-02-13T12:43:05.940478Z",
     "iopub.status.busy": "2025-02-13T12:43:05.940227Z",
     "iopub.status.idle": "2025-02-13T12:43:05.943821Z",
     "shell.execute_reply": "2025-02-13T12:43:05.943107Z",
     "shell.execute_reply.started": "2025-02-13T12:43:05.940458Z"
    },
    "id": "r2622UgVd8Za",
    "trusted": true
   },
   "outputs": [],
   "source": [
    "# Sort tuples array by second item\n",
    "def sort_tuples_array_by_second_item(tuples):\n",
    "    return sorted(tuples, key=itemgetter(1))"
   ]
  },
  {
   "cell_type": "code",
   "execution_count": null,
   "metadata": {
    "execution": {
     "iopub.execute_input": "2025-02-13T12:43:06.855868Z",
     "iopub.status.busy": "2025-02-13T12:43:06.855575Z",
     "iopub.status.idle": "2025-02-13T12:43:06.867900Z",
     "shell.execute_reply": "2025-02-13T12:43:06.867057Z",
     "shell.execute_reply.started": "2025-02-13T12:43:06.855844Z"
    },
    "id": "Gn-palCgd8Za",
    "trusted": true
   },
   "outputs": [],
   "source": [
    "# Get max explained words function\n",
    "def get_max_explained_words(txt, explainer_num_samples=100):\n",
    "    prediction = predict_male_or_female(txt, model, tokenizer, device)\n",
    "    prediction_label = 0 if prediction == \"Male\" else 1\n",
    "\n",
    "    exp = explainer.explain_instance(txt, predict_instance, num_samples=explainer_num_samples)\n",
    "    exp_list = []\n",
    "    for x in zip(exp.local_exp[1], exp.as_list()):\n",
    "        exp_list.append((x[1][0], x[1][1], x[0][0]))\n",
    "\n",
    "    # Features with negative score are for Male class\n",
    "    male_list = list(filter(lambda x: x[1] < 0, exp_list))\n",
    "    male_list = sort_tuples_array_by_second_item(male_list)\n",
    "\n",
    "    # Features with positive score are for Female class\n",
    "    female_list = list(filter(lambda x: x[1] > 0, exp_list))\n",
    "    female_list = sort_tuples_array_by_second_item(female_list)\n",
    "\n",
    "    # If comment predicted Male\n",
    "    if prediction_label == 0:\n",
    "        if len(male_list) > 1:\n",
    "            male_mc = male_list[0]\n",
    "            if (male_mc[0], 0) in words:\n",
    "                words[(male_mc[0], 0)]['lime_score'].append(male_mc[1])\n",
    "                words[(male_mc[0], 0)]['position'] = male_mc[2]\n",
    "            else:\n",
    "                words[(male_mc[0], 0)] = {}\n",
    "                words[(male_mc[0], 0)]['lime_score'] = [male_mc[1]]\n",
    "                words[(male_mc[0], 0)]['position'] = male_mc[2]\n",
    "                wordsForCSV.append([male_mc[0], 0, male_mc[1]])\n",
    "\n",
    "            male_mc = male_list[1]\n",
    "            if (male_mc[0], 0) in words:\n",
    "                words[(male_mc[0], 0)]['lime_score'].append(male_mc[1])\n",
    "                words[(male_mc[0], 0)]['position'] = male_mc[2]\n",
    "            else:\n",
    "                words[(male_mc[0], 0)] = {}\n",
    "                words[(male_mc[0], 0)]['lime_score'] = [male_mc[1]]\n",
    "                words[(male_mc[0], 0)]['position'] = male_mc[2]\n",
    "                wordsForCSV.append([male_mc[0], 0, male_mc[1]])\n",
    "    else:\n",
    "        if len(female_list) > 1:\n",
    "            female_mc = female_list[(len(female_list)-1)]\n",
    "            if (female_mc[0], 1) in words:\n",
    "                words[(female_mc[0], 1)]['lime_score'].append(female_mc[1])\n",
    "                words[(female_mc[0], 1)]['position'] = female_mc[2]\n",
    "            else:\n",
    "                words[(female_mc[0], 1)] = {}\n",
    "                words[(female_mc[0], 1)]['lime_score'] = [female_mc[1]]\n",
    "                words[(female_mc[0], 1)]['position'] = female_mc[2]\n",
    "                wordsForCSV.append([female_mc[0], 1, female_mc[1]])\n",
    "\n",
    "            female_mc = female_list[(len(female_list)-2)]\n",
    "            if (female_mc[0], 1) in words:\n",
    "                words[(female_mc[0], 1)]['lime_score'].append(female_mc[1])\n",
    "                words[(female_mc[0], 1)]['position'] = female_mc[2]\n",
    "            else:\n",
    "                words[(female_mc[0], 1)] = {}\n",
    "                words[(female_mc[0], 1)]['lime_score'] = [female_mc[1]]\n",
    "                words[(female_mc[0], 1)]['position'] = female_mc[2]\n",
    "                wordsForCSV.append([female_mc[0], 1, female_mc[1]])\n",
    "\n",
    "    return words, wordsForCSV"
   ]
  },
  {
   "cell_type": "code",
   "execution_count": null,
   "metadata": {
    "execution": {
     "iopub.execute_input": "2025-02-13T12:43:09.541829Z",
     "iopub.status.busy": "2025-02-13T12:43:09.541495Z",
     "iopub.status.idle": "2025-02-13T12:43:09.545956Z",
     "shell.execute_reply": "2025-02-13T12:43:09.545197Z",
     "shell.execute_reply.started": "2025-02-13T12:43:09.541803Z"
    },
    "id": "-Cd0xPi8d8Za",
    "trusted": true
   },
   "outputs": [],
   "source": [
    "# Load data from CSV\n",
    "def load_original_data(data_file):\n",
    "    df = pd.read_csv(data_file)\n",
    "    df.fillna(\"\", inplace=True) \n",
    "    comments = df['comment'].tolist()\n",
    "    genders = df['user_gender'].map(lambda x: 0 if x == \"Male\" else 1).tolist()\n",
    "    return comments, genders"
   ]
  },
  {
   "cell_type": "code",
   "execution_count": null,
   "metadata": {
    "execution": {
     "iopub.execute_input": "2025-02-13T12:43:10.741189Z",
     "iopub.status.busy": "2025-02-13T12:43:10.740911Z",
     "iopub.status.idle": "2025-02-13T12:43:11.181517Z",
     "shell.execute_reply": "2025-02-13T12:43:11.180824Z",
     "shell.execute_reply.started": "2025-02-13T12:43:10.741167Z"
    },
    "id": "f1s_VrSbd8Za",
    "trusted": true
   },
   "outputs": [],
   "source": [
    "# Load original data\n",
    "original_comments, original_genders = load_original_data('C:/Users/ADMIN PC/Desktop/Comment/Comment_dataset.csv')"
   ]
  },
  {
   "cell_type": "code",
   "execution_count": null,
   "metadata": {
    "execution": {
     "iopub.execute_input": "2025-02-13T12:43:11.959081Z",
     "iopub.status.busy": "2025-02-13T12:43:11.958796Z",
     "iopub.status.idle": "2025-02-13T12:43:11.965648Z",
     "shell.execute_reply": "2025-02-13T12:43:11.964786Z",
     "shell.execute_reply.started": "2025-02-13T12:43:11.959058Z"
    },
    "id": "7A6JeZdad8Za",
    "trusted": true
   },
   "outputs": [],
   "source": [
    "n = int(len(original_comments) / 7)\n",
    "x = [original_comments[i:i + n] for i in range(0, len(original_comments), n)]\n",
    "y = [original_genders[i:i + n] for i in range(0, len(original_genders), n)]"
   ]
  },
  {
   "cell_type": "code",
   "execution_count": null,
   "metadata": {
    "execution": {
     "iopub.execute_input": "2025-02-13T12:43:13.094371Z",
     "iopub.status.busy": "2025-02-13T12:43:13.094048Z",
     "iopub.status.idle": "2025-02-13T12:43:13.098246Z",
     "shell.execute_reply": "2025-02-13T12:43:13.097436Z",
     "shell.execute_reply.started": "2025-02-13T12:43:13.094342Z"
    },
    "id": "BJNjPSYNd8Za",
    "trusted": true
   },
   "outputs": [],
   "source": [
    "# Initialize variables\n",
    "header = [\"word\", \"label\", \"limescore\"]\n",
    "file_path = 'C:/Users/ADMIN PC/Desktop/Comment/BERT/file.csv'\n",
    "words = {}\n",
    "wordsForCSV = []"
   ]
  },
  {
   "cell_type": "code",
   "execution_count": null,
   "metadata": {
    "execution": {
     "iopub.execute_input": "2025-02-12T04:38:46.379154Z",
     "iopub.status.busy": "2025-02-12T04:38:46.378836Z",
     "iopub.status.idle": "2025-02-12T07:35:40.620701Z",
     "shell.execute_reply": "2025-02-12T07:35:40.619803Z",
     "shell.execute_reply.started": "2025-02-12T04:38:46.379128Z"
    },
    "id": "xPCNK-Dxd8Za",
    "outputId": "637e01c4-81bd-4b9f-b614-eca561087175",
    "trusted": true
   },
   "outputs": [
    {
     "name": "stderr",
     "output_type": "stream",
     "text": [
      "100%|██████████| 27157/27157 [2:56:54<00:00,  2.56it/s]  \n"
     ]
    }
   ],
   "source": [
    "# Process each chunk of comments\n",
    "for comment in tqdm(x[0], total=len(x[0])):\n",
    "    words, wordsForCSV = get_max_explained_words(comment)\n",
    "\n",
    "# Write results to CSV\n",
    "with open(file_path, 'w', encoding='UTF8', newline='') as f:\n",
    "    writer = csv.writer(f)\n",
    "    writer.writerow(header)\n",
    "    writer.writerows(wordsForCSV)"
   ]
  },
  {
   "cell_type": "code",
   "execution_count": null,
   "metadata": {
    "execution": {
     "iopub.execute_input": "2025-02-12T07:35:40.622372Z",
     "iopub.status.busy": "2025-02-12T07:35:40.622059Z",
     "iopub.status.idle": "2025-02-12T10:31:14.242984Z",
     "shell.execute_reply": "2025-02-12T10:31:14.242073Z",
     "shell.execute_reply.started": "2025-02-12T07:35:40.622340Z"
    },
    "id": "l_IA54mrd8Za",
    "outputId": "d7f3602b-a8c5-40a2-9470-2f342ff53b7d",
    "trusted": true
   },
   "outputs": [
    {
     "name": "stderr",
     "output_type": "stream",
     "text": [
      "100%|██████████| 27157/27157 [2:55:33<00:00,  2.58it/s]  \n"
     ]
    }
   ],
   "source": [
    "for comment in tqdm(x[1], total=len(x[1])):\n",
    "    words, wordsForCSV = get_max_explained_words(comment)\n",
    "\n",
    "# Append results to the existing CSV file\n",
    "with open(file_path, 'a', encoding='UTF8', newline='') as f:  \n",
    "    writer = csv.writer(f)\n",
    "    writer.writerows(wordsForCSV)  "
   ]
  },
  {
   "cell_type": "code",
   "execution_count": null,
   "metadata": {
    "execution": {
     "iopub.execute_input": "2025-02-12T14:28:12.626798Z",
     "iopub.status.busy": "2025-02-12T14:28:12.626479Z",
     "iopub.status.idle": "2025-02-12T17:32:18.105080Z",
     "shell.execute_reply": "2025-02-12T17:32:18.103968Z",
     "shell.execute_reply.started": "2025-02-12T14:28:12.626775Z"
    },
    "id": "uUHxTTRld8Zb",
    "outputId": "339eed61-8e7e-4b36-e2a6-e10ff36b5f15",
    "trusted": true
   },
   "outputs": [
    {
     "name": "stderr",
     "output_type": "stream",
     "text": [
      "100%|██████████| 27157/27157 [3:04:05<00:00,  2.46it/s]  \n"
     ]
    }
   ],
   "source": [
    "for comment in tqdm(x[2], total=len(x[2])):\n",
    "    words, wordsForCSV = get_max_explained_words(comment)\n",
    "\n",
    "with open(file_path, 'a', encoding='UTF8', newline='') as f:  \n",
    "    writer = csv.writer(f)\n",
    "    writer.writerows(wordsForCSV)  "
   ]
  },
  {
   "cell_type": "code",
   "execution_count": null,
   "metadata": {
    "execution": {
     "iopub.execute_input": "2025-02-13T04:16:54.631324Z",
     "iopub.status.busy": "2025-02-13T04:16:54.630973Z",
     "iopub.status.idle": "2025-02-13T07:14:58.242102Z",
     "shell.execute_reply": "2025-02-13T07:14:58.240967Z",
     "shell.execute_reply.started": "2025-02-13T04:16:54.631294Z"
    },
    "id": "uFA1iTtCd8Zb",
    "outputId": "b8acc36f-2a15-407f-d22a-d857445ef68c",
    "trusted": true
   },
   "outputs": [
    {
     "name": "stderr",
     "output_type": "stream",
     "text": [
      "100%|██████████| 27157/27157 [2:58:03<00:00,  2.54it/s]  \n"
     ]
    }
   ],
   "source": [
    "for comment in tqdm(x[3], total=len(x[3])):\n",
    "    words, wordsForCSV = get_max_explained_words(comment)\n",
    "\n",
    "with open(file_path, 'a', encoding='UTF8', newline='') as f:  \n",
    "    writer = csv.writer(f)\n",
    "    writer.writerows(wordsForCSV)  "
   ]
  },
  {
   "cell_type": "code",
   "execution_count": null,
   "metadata": {
    "execution": {
     "iopub.execute_input": "2025-02-13T07:14:58.243520Z",
     "iopub.status.busy": "2025-02-13T07:14:58.243258Z",
     "iopub.status.idle": "2025-02-13T10:12:08.109787Z",
     "shell.execute_reply": "2025-02-13T10:12:08.108734Z",
     "shell.execute_reply.started": "2025-02-13T07:14:58.243493Z"
    },
    "id": "2FtBX-0cd8Zb",
    "outputId": "84d030dd-96b7-49bf-fccf-384da9d0fb90",
    "trusted": true
   },
   "outputs": [
    {
     "name": "stderr",
     "output_type": "stream",
     "text": [
      "100%|██████████| 27157/27157 [2:57:09<00:00,  2.55it/s]  \n"
     ]
    }
   ],
   "source": [
    "for comment in tqdm(x[4], total=len(x[4])):\n",
    "    words, wordsForCSV = get_max_explained_words(comment)\n",
    "\n",
    "with open(file_path, 'a', encoding='UTF8', newline='') as f: \n",
    "    writer = csv.writer(f)\n",
    "    writer.writerows(wordsForCSV)"
   ]
  },
  {
   "cell_type": "code",
   "execution_count": null,
   "metadata": {
    "execution": {
     "iopub.execute_input": "2025-02-13T12:43:17.180353Z",
     "iopub.status.busy": "2025-02-13T12:43:17.180050Z",
     "iopub.status.idle": "2025-02-13T15:43:50.732538Z",
     "shell.execute_reply": "2025-02-13T15:43:50.731243Z",
     "shell.execute_reply.started": "2025-02-13T12:43:17.180329Z"
    },
    "id": "gOOgC4mld8Zb",
    "outputId": "c4af5b2d-686d-4346-9115-4ebed7666161",
    "trusted": true
   },
   "outputs": [
    {
     "name": "stderr",
     "output_type": "stream",
     "text": [
      "100%|██████████| 27157/27157 [3:00:33<00:00,  2.51it/s]  \n"
     ]
    }
   ],
   "source": [
    "for comment in tqdm(x[5], total=len(x[5])):\n",
    "    words, wordsForCSV = get_max_explained_words(comment)\n",
    "\n",
    "\n",
    "with open(file_path, 'a', encoding='UTF8', newline='') as f:  \n",
    "    writer = csv.writer(f)\n",
    "    writer.writerows(wordsForCSV)"
   ]
  },
  {
   "cell_type": "code",
   "execution_count": null,
   "metadata": {
    "execution": {
     "iopub.execute_input": "2025-02-13T15:43:50.734559Z",
     "iopub.status.busy": "2025-02-13T15:43:50.734204Z",
     "iopub.status.idle": "2025-02-13T18:45:22.425625Z",
     "shell.execute_reply": "2025-02-13T18:45:22.424809Z",
     "shell.execute_reply.started": "2025-02-13T15:43:50.734532Z"
    },
    "id": "9Dvc1mIcd8Zb",
    "outputId": "a72bc1cd-187f-4804-cc5d-f7add4ec39fe",
    "trusted": true
   },
   "outputs": [
    {
     "name": "stderr",
     "output_type": "stream",
     "text": [
      "100%|██████████| 27157/27157 [3:01:31<00:00,  2.49it/s]  \n"
     ]
    }
   ],
   "source": [
    "for comment in tqdm(x[6], total=len(x[6])):\n",
    "    words, wordsForCSV = get_max_explained_words(comment)\n",
    "\n",
    "\n",
    "with open(file_path, 'a', encoding='UTF8', newline='') as f:  \n",
    "    writer = csv.writer(f)\n",
    "    writer.writerows(wordsForCSV)  "
   ]
  }
 ],
 "metadata": {
  "colab": {
   "provenance": []
  },
  "kaggle": {
   "accelerator": "gpu",
   "dataSources": [
    {
     "datasetId": 6650790,
     "sourceId": 10727895,
     "sourceType": "datasetVersion"
    },
    {
     "datasetId": 6659908,
     "sourceId": 10740125,
     "sourceType": "datasetVersion"
    },
    {
     "modelId": 240656,
     "modelInstanceId": 218905,
     "sourceId": 256051,
     "sourceType": "modelInstanceVersion"
    }
   ],
   "dockerImageVersionId": 30887,
   "isGpuEnabled": true,
   "isInternetEnabled": true,
   "language": "python",
   "sourceType": "notebook"
  },
  "kernelspec": {
   "display_name": "Python 3",
   "language": "python",
   "name": "python3"
  },
  "language_info": {
   "codemirror_mode": {
    "name": "ipython",
    "version": 3
   },
   "file_extension": ".py",
   "mimetype": "text/x-python",
   "name": "python",
   "nbconvert_exporter": "python",
   "pygments_lexer": "ipython3",
   "version": "3.10.12"
  }
 },
 "nbformat": 4,
 "nbformat_minor": 0
}
