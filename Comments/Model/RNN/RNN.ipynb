{
  "cells": [
    {
      "cell_type": "code",
      "execution_count": null,
      "metadata": {
        "id": "uc5kJ1AGgebo"
      },
      "outputs": [],
      "source": [
        "import numpy as np\n",
        "import pandas as pd\n",
        "import nltk\n",
        "from nltk.corpus import stopwords\n",
        "from sklearn.model_selection import train_test_split\n",
        "from sklearn.metrics import accuracy_score\n",
        "import tensorflow as tf\n",
        "from tensorflow.keras.preprocessing.text import Tokenizer\n",
        "from tensorflow.keras.preprocessing.sequence import pad_sequences\n",
        "from tensorflow.keras.layers import Dense , Input , LSTM , Embedding\n",
        "from tensorflow.keras.models import Model, Sequential"
      ]
    },
    {
      "cell_type": "code",
      "execution_count": null,
      "metadata": {
        "id": "isM3L859gebv"
      },
      "outputs": [],
      "source": [
        "# Load dataset\n",
        "file_path = \"C:/Users/ADMIN PC/Desktop/Comment/Comment_dataset.csv\""
      ]
    },
    {
      "cell_type": "code",
      "execution_count": null,
      "metadata": {
        "id": "zlTfx1yngebw"
      },
      "outputs": [],
      "source": [
        "def load_data(data_file):\n",
        "  df = pd.read_csv(data_file)\n",
        "\n",
        "  # replace nan(no value) comment with \"\"(empty string)\n",
        "  df.fillna(\"\", inplace=True)\n",
        "\n",
        "  comments = df['comment'].tolist()\n",
        "  genders = df['user_gender'].tolist()\n",
        "\n",
        "  genders = [0 if gender == \"Male\" else 1 for gender in genders]\n",
        "\n",
        "  return comments, genders"
      ]
    },
    {
      "cell_type": "code",
      "execution_count": null,
      "metadata": {
        "id": "cqW2bCxVgebx"
      },
      "outputs": [],
      "source": [
        "comments, genders = load_data(file_path)\n",
        "comments = np.array(comments)\n",
        "genders = np.array(genders)"
      ]
    },
    {
      "cell_type": "code",
      "execution_count": null,
      "metadata": {
        "id": "I0_Gd9-fgeby"
      },
      "outputs": [],
      "source": [
        "X_train, X_test, y_train, y_test = train_test_split(comments, genders,\n",
        "                                                    test_size=0.2,\n",
        "                                                    stratify=genders,\n",
        "                                                    random_state=42)"
      ]
    },
    {
      "cell_type": "code",
      "execution_count": null,
      "metadata": {
        "id": "rjd0F9Rkgebz"
      },
      "outputs": [],
      "source": [
        "top_words = 10000\n",
        "max_comment_length = 300\n",
        "embedding_vecor_length = 768"
      ]
    },
    {
      "cell_type": "code",
      "execution_count": null,
      "metadata": {
        "id": "NFj8Ehecgeb0"
      },
      "outputs": [],
      "source": [
        "tokenizer = Tokenizer(num_words=top_words)"
      ]
    },
    {
      "cell_type": "code",
      "execution_count": null,
      "metadata": {
        "id": "ySevitObgeb1"
      },
      "outputs": [],
      "source": [
        "tokenizer.fit_on_texts(X_train)"
      ]
    },
    {
      "cell_type": "code",
      "execution_count": null,
      "metadata": {
        "id": "wZiQh4Mkgeb1"
      },
      "outputs": [],
      "source": [
        "X_train_seq = tokenizer.texts_to_sequences(X_train)\n",
        "X_test_seq = tokenizer.texts_to_sequences(X_test)"
      ]
    },
    {
      "cell_type": "code",
      "execution_count": null,
      "metadata": {
        "id": "Wz-nyxAjgeb2"
      },
      "outputs": [],
      "source": [
        "X_train_pad = pad_sequences(X_train_seq, maxlen=max_comment_length)\n",
        "X_test_pad = pad_sequences(X_test_seq, maxlen=max_comment_length)"
      ]
    },
    {
      "cell_type": "code",
      "execution_count": null,
      "metadata": {
        "id": "leWmvPNlgeb3"
      },
      "outputs": [],
      "source": [
        "model = Sequential([\n",
        "    Embedding(input_dim=top_words+1, output_dim=embedding_vecor_length, input_length=max_comment_length),\n",
        "    LSTM(100, return_sequences=False),\n",
        "    Dense(1, activation='sigmoid')\n",
        "])\n",
        "model.build(input_shape=(None, max_comment_length))"
      ]
    },
    {
      "cell_type": "code",
      "execution_count": null,
      "metadata": {
        "id": "7p5-abXWgeb4"
      },
      "outputs": [],
      "source": [
        "model.summary()"
      ]
    },
    {
      "cell_type": "code",
      "execution_count": null,
      "metadata": {
        "id": "YPaKwCS3geb5"
      },
      "outputs": [],
      "source": [
        "model.compile(loss='binary_crossentropy', optimizer='adam', metrics=['accuracy'])"
      ]
    },
    {
      "cell_type": "code",
      "execution_count": null,
      "metadata": {
        "id": "OgOyRhTqgeb5"
      },
      "outputs": [],
      "source": [
        "history = model.fit(X_train_pad, y_train,\n",
        "                    validation_data=(X_test_pad, y_test),\n",
        "                    epochs=3,\n",
        "                    batch_size=64,\n",
        "                    verbose=1)"
      ]
    },
    {
      "cell_type": "code",
      "execution_count": null,
      "metadata": {
        "id": "jDEW0YkLgeb5"
      },
      "outputs": [],
      "source": [
        "model.save(\"C:/Users/ADMIN PC/Desktop/Comment/RNN/RNN.h5\")"
      ]
    },
    {
      "cell_type": "code",
      "execution_count": null,
      "metadata": {
        "id": "521PnKp_geb6"
      },
      "outputs": [],
      "source": [
        "from keras.models import load_model\n",
        "model = load_model(\"C:/Users/ADMIN PC/Desktop/Comment/RNN/RNN.h5\")"
      ]
    },
    {
      "cell_type": "code",
      "execution_count": null,
      "metadata": {
        "id": "ERCe1WK1geb6",
        "outputId": "1e6f075a-cb45-4d41-cde0-6205f51a01d6"
      },
      "outputs": [
        {
          "name": "stdout",
          "output_type": "stream",
          "text": [
            "\u001b[1m1189/1189\u001b[0m \u001b[32m━━━━━━━━━━━━━━━━━━━━\u001b[0m\u001b[37m\u001b[0m \u001b[1m43s\u001b[0m 36ms/step\n",
            "Accuracy of the model :  0.7615265248152336\n"
          ]
        }
      ],
      "source": [
        "list_tokenized_test = tokenizer.texts_to_sequences(X_test)\n",
        "X_test = pad_sequences(list_tokenized_test, maxlen=max_comment_length)\n",
        "prediction = model.predict(X_test)\n",
        "y_pred = (prediction > 0.5)\n",
        "print(\"Accuracy of the model : \", accuracy_score(y_pred, y_test))"
      ]
    },
    {
      "cell_type": "code",
      "execution_count": null,
      "metadata": {
        "id": "ivwiqzm1geb6"
      },
      "outputs": [],
      "source": [
        "def predict_male_or_female(comment):\n",
        "    comment_seq = tokenizer.texts_to_sequences([comment])\n",
        "    comment_pad = pad_sequences(comment_seq, maxlen=max_comment_length)\n",
        "    prob = model.predict(comment_pad)[0][0]\n",
        "    gender = \"Female\" if prob >= 0.5 else \"Male\"\n",
        "\n",
        "    return gender"
      ]
    },
    {
      "cell_type": "code",
      "execution_count": null,
      "metadata": {
        "id": "u8pQuQhwgeb7"
      },
      "outputs": [],
      "source": [
        "def predict_probability(comments):\n",
        "    if isinstance(comments, str):\n",
        "        comments = [comments]\n",
        "\n",
        "    comment_seq = tokenizer.texts_to_sequences(comments)\n",
        "    comment_pad = pad_sequences(comment_seq, maxlen=max_comment_length)\n",
        "    probs = model.predict(comment_pad)\n",
        "    probs = np.column_stack([1 - probs, probs])  # [Male_prob, Female_prob]\n",
        "\n",
        "    return probs"
      ]
    },
    {
      "cell_type": "code",
      "execution_count": null,
      "metadata": {
        "id": "VWXZiHTygeb7",
        "outputId": "e1f19327-2117-4199-9c36-0fe1908a4ae2"
      },
      "outputs": [
        {
          "name": "stdout",
          "output_type": "stream",
          "text": [
            "\u001b[1m1/1\u001b[0m \u001b[32m━━━━━━━━━━━━━━━━━━━━\u001b[0m\u001b[37m\u001b[0m \u001b[1m0s\u001b[0m 19ms/step\n",
            "Male\n"
          ]
        }
      ],
      "source": [
        "txt = \"I've had the 50watter since Oct of last year and I'm still impressed and blown away every time I play it. It's unreal. Killer choice\"\n",
        "print(predict_male_or_female(txt))"
      ]
    },
    {
      "cell_type": "code",
      "execution_count": null,
      "metadata": {
        "id": "YPTMLiiZgeb7",
        "outputId": "7718b6ac-c9a8-4c43-88e3-8959244ab730"
      },
      "outputs": [
        {
          "name": "stdout",
          "output_type": "stream",
          "text": [
            "\u001b[1m1/1\u001b[0m \u001b[32m━━━━━━━━━━━━━━━━━━━━\u001b[0m\u001b[37m\u001b[0m \u001b[1m0s\u001b[0m 31ms/step\n",
            "Female\n"
          ]
        }
      ],
      "source": [
        "txt = \"This is a great picture of u!!!! Beautiful\"\n",
        "print(predict_male_or_female(txt))"
      ]
    }
  ],
  "metadata": {
    "kernelspec": {
      "display_name": "Python 3",
      "language": "python",
      "name": "python3"
    },
    "language_info": {
      "codemirror_mode": {
        "name": "ipython",
        "version": 3
      },
      "file_extension": ".py",
      "mimetype": "text/x-python",
      "name": "python",
      "nbconvert_exporter": "python",
      "pygments_lexer": "ipython3",
      "version": "3.11.0"
    },
    "colab": {
      "provenance": []
    }
  },
  "nbformat": 4,
  "nbformat_minor": 0
}