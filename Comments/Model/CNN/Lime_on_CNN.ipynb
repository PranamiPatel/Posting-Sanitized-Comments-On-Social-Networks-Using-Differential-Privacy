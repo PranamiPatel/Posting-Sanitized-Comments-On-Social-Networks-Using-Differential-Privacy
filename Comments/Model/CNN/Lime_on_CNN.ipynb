{
 "cells": [
  {
   "cell_type": "code",
   "execution_count": null,
   "metadata": {
    "executionInfo": {
     "elapsed": 24683,
     "status": "ok",
     "timestamp": 1742185242931,
     "user": {
      "displayName": "Pranami Patel",
      "userId": "14140990460542920976"
     },
     "user_tz": -330
    },
    "id": "AImlby9cVEmS"
   },
   "outputs": [],
   "source": [
    "import pandas as pd\n",
    "import numpy as np\n",
    "from transformers import BertTokenizer, TFBertModel\n",
    "from tqdm import tqdm\n",
    "import tensorflow as tf\n",
    "from tensorflow.keras.preprocessing.text import Tokenizer\n",
    "from tensorflow.keras.preprocessing.sequence import pad_sequences\n",
    "from keras.utils import to_categorical\n",
    "from sklearn.model_selection import train_test_split\n",
    "from tensorflow.keras.layers import Input, Conv1D, MaxPooling1D, Flatten, Dense, Embedding\n",
    "from tensorflow.keras.models import Model\n",
    "from tensorflow.keras.callbacks import EarlyStopping\n",
    "import torch"
   ]
  },
  {
   "cell_type": "code",
   "execution_count": 6,
   "metadata": {
    "executionInfo": {
     "elapsed": 10,
     "status": "ok",
     "timestamp": 1742185291106,
     "user": {
      "displayName": "Pranami Patel",
      "userId": "14140990460542920976"
     },
     "user_tz": -330
    },
    "id": "onlB_ibpVTBi"
   },
   "outputs": [],
   "source": [
    "MAX_SEQUENCE_LENGTH = 300\n",
    "MAX_NUM_WORDS = 50000"
   ]
  },
  {
   "cell_type": "code",
   "execution_count": 7,
   "metadata": {
    "executionInfo": {
     "elapsed": 8,
     "status": "ok",
     "timestamp": 1742185295357,
     "user": {
      "displayName": "Pranami Patel",
      "userId": "14140990460542920976"
     },
     "user_tz": -330
    },
    "id": "jFse4S3tVdwq"
   },
   "outputs": [],
   "source": [
    "tokenizer = Tokenizer(num_words=MAX_NUM_WORDS)"
   ]
  },
  {
   "cell_type": "code",
   "execution_count": 16,
   "metadata": {
    "colab": {
     "base_uri": "https://localhost:8080/"
    },
    "executionInfo": {
     "elapsed": 491,
     "status": "ok",
     "timestamp": 1742186136342,
     "user": {
      "displayName": "Pranami Patel",
      "userId": "14140990460542920976"
     },
     "user_tz": -330
    },
    "id": "YWBHZ-sXV8WB",
    "outputId": "a99aabe7-a468-41e2-bed7-59f8b25dd880"
   },
   "outputs": [
    {
     "name": "stderr",
     "output_type": "stream",
     "text": [
      "WARNING:absl:Compiled the loaded model, but the compiled metrics have yet to be built. `model.compile_metrics` will be empty until you train or evaluate the model.\n"
     ]
    }
   ],
   "source": [
    "from keras.models import load_model\n",
    "model = load_model('C:/Users/ADMIN PC/Desktop/Comment/CNN/CNN.h5')"
   ]
  },
  {
   "cell_type": "code",
   "execution_count": 17,
   "metadata": {
    "executionInfo": {
     "elapsed": 6,
     "status": "ok",
     "timestamp": 1742186474135,
     "user": {
      "displayName": "Pranami Patel",
      "userId": "14140990460542920976"
     },
     "user_tz": -330
    },
    "id": "Wd0xQLfRV_sJ"
   },
   "outputs": [],
   "source": [
    "def predict_proba(arr):\n",
    "  sequences_new = tokenizer.texts_to_sequences(arr)\n",
    "  data = pad_sequences(sequences_new, maxlen=MAX_SEQUENCE_LENGTH)\n",
    "  yprob = model.predict(data, verbose=None)\n",
    "  # yclasses=yprob.argmax(axis=-1)\n",
    "\n",
    "  returnable=[]\n",
    "  for i in yprob:\n",
    "    temp=i[0]\n",
    "    returnable.append(np.array([temp,1- temp]))\n",
    "  return np.array(returnable)"
   ]
  },
  {
   "cell_type": "code",
   "execution_count": 18,
   "metadata": {
    "executionInfo": {
     "elapsed": 5,
     "status": "ok",
     "timestamp": 1742186656647,
     "user": {
      "displayName": "Pranami Patel",
      "userId": "14140990460542920976"
     },
     "user_tz": -330
    },
    "id": "3XXE450GWBcA"
   },
   "outputs": [],
   "source": [
    "def predict_male_or_female(txt):\n",
    "    arr = np.array([txt])\n",
    "    sequences_new = tokenizer.texts_to_sequences(arr)\n",
    "    data = pad_sequences(sequences_new, maxlen=MAX_SEQUENCE_LENGTH)\n",
    "    yprob = model.predict(data)[0]\n",
    "    gender = \"Female\" if yprob[1] >= 0.5 else \"Male\"\n",
    "\n",
    "    return gender"
   ]
  },
  {
   "cell_type": "code",
   "execution_count": null,
   "metadata": {
    "colab": {
     "base_uri": "https://localhost:8080/",
     "height": 53
    },
    "executionInfo": {
     "elapsed": 84,
     "status": "ok",
     "timestamp": 1742186657168,
     "user": {
      "displayName": "Pranami Patel",
      "userId": "14140990460542920976"
     },
     "user_tz": -330
    },
    "id": "qiQOW9ZpWDmx",
    "outputId": "3b1a11df-f34a-4b4b-bd42-215c1b79eb3d"
   },
   "outputs": [],
   "source": [
    "txt = \"I've had the 50watter since Oct of last year and I'm still impressed and blown away every time I play it. It's unreal. Killer choice\"\n",
    "predict_male_or_female(txt)"
   ]
  },
  {
   "cell_type": "code",
   "execution_count": null,
   "metadata": {
    "colab": {
     "base_uri": "https://localhost:8080/",
     "height": 53
    },
    "executionInfo": {
     "elapsed": 65,
     "status": "ok",
     "timestamp": 1742186658758,
     "user": {
      "displayName": "Pranami Patel",
      "userId": "14140990460542920976"
     },
     "user_tz": -330
    },
    "id": "CHFigZd1WE4o",
    "outputId": "36a80770-a4a3-4c73-dddc-c3023ae327b6"
   },
   "outputs": [],
   "source": [
    "txt = \"You l've got a good man there hun. Take care of each other and it'll last a long time.\\nFor sore throats my dad used to take 2 tablespoons of apple cider vinegar and the same amount of honey, mix it in at least 8oz of hot water. Drink it while ot's still hot, but not burning. Worked every time for me...still does.\"\n",
    "predict_male_or_female(txt)"
   ]
  },
  {
   "cell_type": "code",
   "execution_count": 21,
   "metadata": {
    "id": "Sa2yiA1hZYxp"
   },
   "outputs": [],
   "source": [
    "from lime.lime_text import LimeTextExplainer, IndexedString\n",
    "from operator import itemgetter\n",
    "from tqdm import tqdm\n",
    "import csv"
   ]
  },
  {
   "cell_type": "code",
   "execution_count": 22,
   "metadata": {},
   "outputs": [],
   "source": [
    "class_names = ['Male', 'Female']\n",
    "explainer = LimeTextExplainer(class_names=class_names)"
   ]
  },
  {
   "cell_type": "code",
   "execution_count": null,
   "metadata": {},
   "outputs": [],
   "source": [
    "txt = \"I've had the 50watter since Oct of last year and I'm still impressed and blown away every time I play it. It's unreal. Killer choice\"\n",
    "explainer.explain_instance(txt, predict_proba).show_in_notebook(text=True)"
   ]
  },
  {
   "cell_type": "code",
   "execution_count": null,
   "metadata": {},
   "outputs": [],
   "source": [
    "txt = \"You l've got a good man there hun. Take care of each other and it'll last a long time.\\nFor sore throats my dad used to take 2 tablespoons of apple cider vinegar and the same amount of honey, mix it in at least 8oz of hot water. Drink it while ot's still hot, but not burning. Worked every time for me...still does.\"\n",
    "explainer.explain_instance(txt, predict_proba).show_in_notebook(text=True)"
   ]
  },
  {
   "cell_type": "code",
   "execution_count": 26,
   "metadata": {},
   "outputs": [],
   "source": [
    "def sort_tuples_array_by_second_item(tuples):\n",
    "    return sorted(tuples, key=itemgetter(1))"
   ]
  },
  {
   "cell_type": "code",
   "execution_count": 27,
   "metadata": {},
   "outputs": [],
   "source": [
    "# Function to get max explained words\n",
    "def get_max_explained_words(txt, explainer_num_samples=100):\n",
    "    prediction = predict_male_or_female(txt)\n",
    "    prediction_label = 0 if prediction == \"Male\" else 1\n",
    "\n",
    "    exp = explainer.explain_instance(txt, predict_proba, num_samples=explainer_num_samples)\n",
    "    exp_list = []\n",
    "    for x in zip(exp.local_exp[1], exp.as_list()):\n",
    "        exp_list.append((x[1][0], x[1][1], x[0][0]))\n",
    "\n",
    "    # Features with negative score are for Male class\n",
    "    male_list = list(filter(lambda x: x[1] < 0, exp_list))\n",
    "    male_list = sort_tuples_array_by_second_item(male_list)\n",
    "\n",
    "    # Features with positive score are for Female class\n",
    "    female_list = list(filter(lambda x: x[1] > 0, exp_list))\n",
    "    female_list = sort_tuples_array_by_second_item(female_list)\n",
    "\n",
    "    # If comment predicted Male\n",
    "    if prediction_label == 0:\n",
    "        if len(male_list) > 1:\n",
    "            male_mc = male_list[0]\n",
    "            if (male_mc[0], 0) in words:\n",
    "                words[(male_mc[0], 0)]['lime_score'].append(male_mc[1])\n",
    "                words[(male_mc[0], 0)]['position'] = male_mc[2]\n",
    "            else:\n",
    "                words[(male_mc[0], 0)] = {}\n",
    "                words[(male_mc[0], 0)]['lime_score'] = [male_mc[1]]\n",
    "                words[(male_mc[0], 0)]['position'] = male_mc[2]\n",
    "                wordsForCSV.append([male_mc[0], 0, male_mc[1]])\n",
    "\n",
    "            male_mc = male_list[1]\n",
    "            if (male_mc[0], 0) in words:\n",
    "                words[(male_mc[0], 0)]['lime_score'].append(male_mc[1])\n",
    "                words[(male_mc[0], 0)]['position'] = male_mc[2]\n",
    "            else:\n",
    "                words[(male_mc[0], 0)] = {}\n",
    "                words[(male_mc[0], 0)]['lime_score'] = [male_mc[1]]\n",
    "                words[(male_mc[0], 0)]['position'] = male_mc[2]\n",
    "                wordsForCSV.append([male_mc[0], 0, male_mc[1]])\n",
    "    else:\n",
    "        if len(female_list) > 1:\n",
    "            female_mc = female_list[(len(female_list) - 1)]\n",
    "            if (female_mc[0], 1) in words:\n",
    "                words[(female_mc[0], 1)]['lime_score'].append(female_mc[1])\n",
    "                words[(female_mc[0], 1)]['position'] = female_mc[2]\n",
    "            else:\n",
    "                words[(female_mc[0], 1)] = {}\n",
    "                words[(female_mc[0], 1)]['lime_score'] = [female_mc[1]]\n",
    "                words[(female_mc[0], 1)]['position'] = female_mc[2]\n",
    "                wordsForCSV.append([female_mc[0], 1, female_mc[1]])\n",
    "\n",
    "            female_mc = female_list[(len(female_list) - 2)]\n",
    "            if (female_mc[0], 1) in words:\n",
    "                words[(female_mc[0], 1)]['lime_score'].append(female_mc[1])\n",
    "                words[(female_mc[0], 1)]['position'] = female_mc[2]\n",
    "            else:\n",
    "                words[(female_mc[0], 1)] = {}\n",
    "                words[(female_mc[0], 1)]['lime_score'] = [female_mc[1]]\n",
    "                words[(female_mc[0], 1)]['position'] = female_mc[2]\n",
    "                wordsForCSV.append([female_mc[0], 1, female_mc[1]])\n",
    "\n",
    "    return words, wordsForCSV"
   ]
  },
  {
   "cell_type": "code",
   "execution_count": null,
   "metadata": {},
   "outputs": [],
   "source": [
    "def load_original_data(data_file):\n",
    "    df = pd.read_csv(data_file)\n",
    "    df.fillna(\"\", inplace=True)  \n",
    "    comments = df['comment'].tolist()\n",
    "    genders = df['user_gender'].map(lambda x: 0 if x == \"Male\" else 1).tolist()\n",
    "    return comments, genders"
   ]
  },
  {
   "cell_type": "code",
   "execution_count": null,
   "metadata": {},
   "outputs": [],
   "source": [
    "original_comments, original_genders = load_original_data('C:/Users/ADMIN PC/Desktop/Comment/Comment_dataset.csv')"
   ]
  },
  {
   "cell_type": "code",
   "execution_count": 30,
   "metadata": {},
   "outputs": [],
   "source": [
    "n = int(len(original_comments) / 7)\n",
    "x = [original_comments[i:i + n] for i in range(0, len(original_comments), n)]\n",
    "y = [original_genders[i:i + n] for i in range(0, len(original_genders), n)]"
   ]
  },
  {
   "cell_type": "code",
   "execution_count": null,
   "metadata": {},
   "outputs": [],
   "source": [
    "header = [\"word\", \"label\", \"limescore\"]\n",
    "file_path = 'C:/Users/ADMIN PC/Desktop/Comment/CNN/file.csv'\n",
    "words = {}\n",
    "wordsForCSV = []"
   ]
  },
  {
   "cell_type": "code",
   "execution_count": null,
   "metadata": {},
   "outputs": [],
   "source": [
    "for comment in tqdm(x[0], total=len(x[0])):\n",
    "    words, wordsForCSV = get_max_explained_words(comment)\n",
    "\n",
    "with open(file_path, 'w', encoding='UTF8', newline='') as f:\n",
    "    writer = csv.writer(f)\n",
    "    writer.writerow(header)\n",
    "    writer.writerows(wordsForCSV)"
   ]
  },
  {
   "cell_type": "code",
   "execution_count": null,
   "metadata": {},
   "outputs": [],
   "source": [
    "for comment in tqdm(x[1], total=len(x[1])):\n",
    "    words, wordsForCSV = get_max_explained_words(comment)\n",
    "\n",
    "with open(file_path, 'a', encoding='UTF8', newline='') as f:  \n",
    "    writer = csv.writer(f)\n",
    "    writer.writerows(wordsForCSV)  "
   ]
  },
  {
   "cell_type": "code",
   "execution_count": null,
   "metadata": {},
   "outputs": [],
   "source": [
    "for comment in tqdm(x[2], total=len(x[2])):\n",
    "    words, wordsForCSV = get_max_explained_words(comment)\n",
    "\n",
    "with open(file_path, 'a', encoding='UTF8', newline='') as f:  \n",
    "    writer = csv.writer(f)\n",
    "    writer.writerows(wordsForCSV)  "
   ]
  },
  {
   "cell_type": "code",
   "execution_count": null,
   "metadata": {},
   "outputs": [],
   "source": [
    "for comment in tqdm(x[3], total=len(x[3])):\n",
    "    words, wordsForCSV = get_max_explained_words(comment)\n",
    "\n",
    "with open(file_path, 'a', encoding='UTF8', newline='') as f:  \n",
    "    writer = csv.writer(f)\n",
    "    writer.writerows(wordsForCSV)  "
   ]
  },
  {
   "cell_type": "code",
   "execution_count": null,
   "metadata": {},
   "outputs": [],
   "source": [
    "for comment in tqdm(x[4], total=len(x[4])):\n",
    "    words, wordsForCSV = get_max_explained_words(comment)\n",
    "\n",
    "with open(file_path, 'a', encoding='UTF8', newline='') as f:  \n",
    "    writer = csv.writer(f)\n",
    "    writer.writerows(wordsForCSV)"
   ]
  },
  {
   "cell_type": "code",
   "execution_count": null,
   "metadata": {},
   "outputs": [],
   "source": [
    "for comment in tqdm(x[5], total=len(x[5])):\n",
    "    words, wordsForCSV = get_max_explained_words(comment)\n",
    "\n",
    "with open(file_path, 'a', encoding='UTF8', newline='') as f:  \n",
    "    writer = csv.writer(f)\n",
    "    writer.writerows(wordsForCSV)"
   ]
  },
  {
   "cell_type": "code",
   "execution_count": null,
   "metadata": {},
   "outputs": [],
   "source": [
    "for comment in tqdm(x[6], total=len(x[6])):\n",
    "    words, wordsForCSV = get_max_explained_words(comment)\n",
    "\n",
    "with open(file_path, 'a', encoding='UTF8', newline='') as f:  \n",
    "    writer = csv.writer(f)\n",
    "    writer.writerows(wordsForCSV)  "
   ]
  }
 ],
 "metadata": {
  "accelerator": "GPU",
  "colab": {
   "authorship_tag": "ABX9TyOxWhxFb8m1W3mb8NA/pEMF",
   "gpuType": "T4",
   "provenance": []
  },
  "kernelspec": {
   "display_name": "Python 3",
   "name": "python3"
  },
  "language_info": {
   "codemirror_mode": {
    "name": "ipython",
    "version": 3
   },
   "file_extension": ".py",
   "mimetype": "text/x-python",
   "name": "python",
   "nbconvert_exporter": "python",
   "pygments_lexer": "ipython3",
   "version": "3.11.0"
  }
 },
 "nbformat": 4,
 "nbformat_minor": 0
}
