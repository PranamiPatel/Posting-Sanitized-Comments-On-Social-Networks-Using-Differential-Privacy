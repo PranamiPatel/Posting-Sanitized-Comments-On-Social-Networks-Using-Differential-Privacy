{
 "cells": [
  {
   "cell_type": "code",
   "execution_count": 1,
   "metadata": {
    "_cell_guid": "b1076dfc-b9ad-4769-8c92-a6c4dae69d19",
    "_uuid": "8f2839f25d086af736a60e9eeb907d3b93b6e0e5",
    "execution": {
     "iopub.execute_input": "2025-03-28T06:14:54.524311Z",
     "iopub.status.busy": "2025-03-28T06:14:54.523881Z",
     "iopub.status.idle": "2025-03-28T06:15:16.880264Z",
     "shell.execute_reply": "2025-03-28T06:15:16.879310Z",
     "shell.execute_reply.started": "2025-03-28T06:14:54.524272Z"
    },
    "trusted": true
   },
   "outputs": [],
   "source": [
    "import numpy as np\n",
    "from sentence_transformers import SentenceTransformer, util\n",
    "import pandas as pd\n",
    "from sklearn.metrics.pairwise import cosine_similarity\n",
    "from tqdm import tqdm"
   ]
  },
  {
   "cell_type": "code",
   "execution_count": 2,
   "metadata": {
    "execution": {
     "iopub.execute_input": "2025-03-28T04:51:35.442457Z",
     "iopub.status.busy": "2025-03-28T04:51:35.441914Z",
     "iopub.status.idle": "2025-03-28T05:14:52.568684Z",
     "shell.execute_reply": "2025-03-28T05:14:52.567925Z",
     "shell.execute_reply.started": "2025-03-28T04:51:35.442411Z"
    },
    "trusted": true
   },
   "outputs": [
    {
     "data": {
      "application/vnd.jupyter.widget-view+json": {
       "model_id": "e105a94c9eda4fbd8ca76cbcbf348110",
       "version_major": 2,
       "version_minor": 0
      },
      "text/plain": [
       "Batches:   0%|          | 0/5941 [00:00<?, ?it/s]"
      ]
     },
     "metadata": {},
     "output_type": "display_data"
    },
    {
     "data": {
      "application/vnd.jupyter.widget-view+json": {
       "model_id": "da12d88b828d4a2cb62b34d3cfd9d612",
       "version_major": 2,
       "version_minor": 0
      },
      "text/plain": [
       "Batches:   0%|          | 0/5941 [00:00<?, ?it/s]"
      ]
     },
     "metadata": {},
     "output_type": "display_data"
    },
    {
     "name": "stderr",
     "output_type": "stream",
     "text": [
      "100%|██████████| 190104/190104 [00:40<00:00, 4737.04it/s]\n"
     ]
    },
    {
     "data": {
      "text/plain": [
       "0.9144212"
      ]
     },
     "execution_count": 2,
     "metadata": {},
     "output_type": "execute_result"
    }
   ],
   "source": [
    "def get_data(data_file_path):\n",
    "    df = pd.read_csv(data_file_path)\n",
    "\n",
    "    return df['Original comment'].to_list(), df['Generated comment'].to_list(), df['Label'].to_list()\n",
    "\n",
    "original_comment, g_comment, label = get_data(\"/kaggle/input/comment-bert-a/comment_2_10_10.csv\")\n",
    "\n",
    "model_name = \"bert-large-nli-max-tokens\"\n",
    "model = SentenceTransformer(model_name)\n",
    "\n",
    "original_comments_vector = model.encode(original_comment)\n",
    "\n",
    "replaced_comments_vector = model.encode(g_comment)\n",
    "\n",
    "similarity_score = []\n",
    "\n",
    "for i in tqdm(range(len(original_comment))):\n",
    "    # print(cosine_similarity([original_comments_vector[i]], [replaced_comments_vector[i]])[0][0])\n",
    "    similarity_score.append(cosine_similarity([original_comments_vector[i]], [replaced_comments_vector[i]])[0][0])\n",
    "\n",
    "np.mean(similarity_score)"
   ]
  },
  {
   "cell_type": "code",
   "execution_count": 3,
   "metadata": {
    "execution": {
     "iopub.execute_input": "2025-03-28T05:14:52.570299Z",
     "iopub.status.busy": "2025-03-28T05:14:52.570056Z",
     "iopub.status.idle": "2025-03-28T05:38:13.489994Z",
     "shell.execute_reply": "2025-03-28T05:38:13.489045Z",
     "shell.execute_reply.started": "2025-03-28T05:14:52.570278Z"
    },
    "trusted": true
   },
   "outputs": [
    {
     "data": {
      "application/vnd.jupyter.widget-view+json": {
       "model_id": "a20d57dd92194192865e2443bcafac76",
       "version_major": 2,
       "version_minor": 0
      },
      "text/plain": [
       "Batches:   0%|          | 0/5941 [00:00<?, ?it/s]"
      ]
     },
     "metadata": {},
     "output_type": "display_data"
    },
    {
     "data": {
      "application/vnd.jupyter.widget-view+json": {
       "model_id": "46cab98dacdc4e5cb7ef571fef61e04c",
       "version_major": 2,
       "version_minor": 0
      },
      "text/plain": [
       "Batches:   0%|          | 0/5941 [00:00<?, ?it/s]"
      ]
     },
     "metadata": {},
     "output_type": "display_data"
    },
    {
     "name": "stderr",
     "output_type": "stream",
     "text": [
      "100%|██████████| 190104/190104 [00:41<00:00, 4590.45it/s]\n"
     ]
    },
    {
     "data": {
      "text/plain": [
       "0.9113991"
      ]
     },
     "execution_count": 3,
     "metadata": {},
     "output_type": "execute_result"
    }
   ],
   "source": [
    "def get_data(data_file_path):\n",
    "    df = pd.read_csv(data_file_path)\n",
    "\n",
    "    return df['Original comment'].to_list(), df['Generated comment'].to_list(), df['Label'].to_list()\n",
    "\n",
    "original_comment, g_comment, label = get_data(\"/kaggle/input/comment-bert-a/comment_2_15_10.csv\")\n",
    "\n",
    "model_name = \"bert-large-nli-max-tokens\"\n",
    "model = SentenceTransformer(model_name)\n",
    "\n",
    "original_comments_vector = model.encode(original_comment)\n",
    "\n",
    "replaced_comments_vector = model.encode(g_comment)\n",
    "\n",
    "similarity_score = []\n",
    "\n",
    "for i in tqdm(range(len(original_comment))):\n",
    "    # print(cosine_similarity([original_comments_vector[i]], [replaced_comments_vector[i]])[0][0])\n",
    "    similarity_score.append(cosine_similarity([original_comments_vector[i]], [replaced_comments_vector[i]])[0][0])\n",
    "\n",
    "np.mean(similarity_score)"
   ]
  },
  {
   "cell_type": "code",
   "execution_count": 4,
   "metadata": {
    "execution": {
     "iopub.execute_input": "2025-03-28T05:38:13.492069Z",
     "iopub.status.busy": "2025-03-28T05:38:13.491728Z",
     "iopub.status.idle": "2025-03-28T06:01:39.869169Z",
     "shell.execute_reply": "2025-03-28T06:01:39.868334Z",
     "shell.execute_reply.started": "2025-03-28T05:38:13.492044Z"
    },
    "trusted": true
   },
   "outputs": [
    {
     "data": {
      "application/vnd.jupyter.widget-view+json": {
       "model_id": "b2703a047ba543c284e420f58a92128a",
       "version_major": 2,
       "version_minor": 0
      },
      "text/plain": [
       "Batches:   0%|          | 0/5941 [00:00<?, ?it/s]"
      ]
     },
     "metadata": {},
     "output_type": "display_data"
    },
    {
     "data": {
      "application/vnd.jupyter.widget-view+json": {
       "model_id": "1e897185f5514abea0ce99d1b9fc018a",
       "version_major": 2,
       "version_minor": 0
      },
      "text/plain": [
       "Batches:   0%|          | 0/5941 [00:00<?, ?it/s]"
      ]
     },
     "metadata": {},
     "output_type": "display_data"
    },
    {
     "name": "stderr",
     "output_type": "stream",
     "text": [
      "100%|██████████| 190104/190104 [00:42<00:00, 4499.33it/s]\n"
     ]
    },
    {
     "data": {
      "text/plain": [
       "0.90740883"
      ]
     },
     "execution_count": 4,
     "metadata": {},
     "output_type": "execute_result"
    }
   ],
   "source": [
    "def get_data(data_file_path):\n",
    "    df = pd.read_csv(data_file_path)\n",
    "\n",
    "    return df['Original comment'].to_list(), df['Generated comment'].to_list(), df['Label'].to_list()\n",
    "\n",
    "original_comment, g_comment, label = get_data(\"/kaggle/input/comment-bert-a/comment_3_10_10.csv\")\n",
    "\n",
    "model_name = \"bert-large-nli-max-tokens\"\n",
    "model = SentenceTransformer(model_name)\n",
    "\n",
    "original_comments_vector = model.encode(original_comment)\n",
    "\n",
    "replaced_comments_vector = model.encode(g_comment)\n",
    "\n",
    "similarity_score = []\n",
    "\n",
    "for i in tqdm(range(len(original_comment))):\n",
    "    # print(cosine_similarity([original_comments_vector[i]], [replaced_comments_vector[i]])[0][0])\n",
    "    similarity_score.append(cosine_similarity([original_comments_vector[i]], [replaced_comments_vector[i]])[0][0])\n",
    "\n",
    "np.mean(similarity_score)"
   ]
  },
  {
   "cell_type": "code",
   "execution_count": 2,
   "metadata": {
    "execution": {
     "iopub.execute_input": "2025-03-28T06:15:16.882101Z",
     "iopub.status.busy": "2025-03-28T06:15:16.881425Z",
     "iopub.status.idle": "2025-03-28T06:38:54.698713Z",
     "shell.execute_reply": "2025-03-28T06:38:54.697851Z",
     "shell.execute_reply.started": "2025-03-28T06:15:16.882069Z"
    },
    "trusted": true
   },
   "outputs": [
    {
     "data": {
      "application/vnd.jupyter.widget-view+json": {
       "model_id": "f8819ed418cc44e48ea020ac1f167fc4",
       "version_major": 2,
       "version_minor": 0
      },
      "text/plain": [
       "modules.json:   0%|          | 0.00/229 [00:00<?, ?B/s]"
      ]
     },
     "metadata": {},
     "output_type": "display_data"
    },
    {
     "data": {
      "application/vnd.jupyter.widget-view+json": {
       "model_id": "6f85f0ff71644eadb69df8f1a021bf02",
       "version_major": 2,
       "version_minor": 0
      },
      "text/plain": [
       "config_sentence_transformers.json:   0%|          | 0.00/122 [00:00<?, ?B/s]"
      ]
     },
     "metadata": {},
     "output_type": "display_data"
    },
    {
     "data": {
      "application/vnd.jupyter.widget-view+json": {
       "model_id": "3840f8246a6f4a81901a93c726a8643f",
       "version_major": 2,
       "version_minor": 0
      },
      "text/plain": [
       "README.md:   0%|          | 0.00/3.80k [00:00<?, ?B/s]"
      ]
     },
     "metadata": {},
     "output_type": "display_data"
    },
    {
     "data": {
      "application/vnd.jupyter.widget-view+json": {
       "model_id": "6de849863dff47c6a281a273059060bc",
       "version_major": 2,
       "version_minor": 0
      },
      "text/plain": [
       "sentence_bert_config.json:   0%|          | 0.00/53.0 [00:00<?, ?B/s]"
      ]
     },
     "metadata": {},
     "output_type": "display_data"
    },
    {
     "data": {
      "application/vnd.jupyter.widget-view+json": {
       "model_id": "6f3fe2aa74064f08b9e13fdadcad97c8",
       "version_major": 2,
       "version_minor": 0
      },
      "text/plain": [
       "config.json:   0%|          | 0.00/626 [00:00<?, ?B/s]"
      ]
     },
     "metadata": {},
     "output_type": "display_data"
    },
    {
     "data": {
      "application/vnd.jupyter.widget-view+json": {
       "model_id": "55a5825ad939445d9ab0f27544ac9dca",
       "version_major": 2,
       "version_minor": 0
      },
      "text/plain": [
       "model.safetensors:   0%|          | 0.00/1.34G [00:00<?, ?B/s]"
      ]
     },
     "metadata": {},
     "output_type": "display_data"
    },
    {
     "data": {
      "application/vnd.jupyter.widget-view+json": {
       "model_id": "6e569605440a4794a08fa425c85429d4",
       "version_major": 2,
       "version_minor": 0
      },
      "text/plain": [
       "tokenizer_config.json:   0%|          | 0.00/399 [00:00<?, ?B/s]"
      ]
     },
     "metadata": {},
     "output_type": "display_data"
    },
    {
     "data": {
      "application/vnd.jupyter.widget-view+json": {
       "model_id": "a5bacf605ab54a0b85e69ffe4985bc0b",
       "version_major": 2,
       "version_minor": 0
      },
      "text/plain": [
       "vocab.txt:   0%|          | 0.00/232k [00:00<?, ?B/s]"
      ]
     },
     "metadata": {},
     "output_type": "display_data"
    },
    {
     "data": {
      "application/vnd.jupyter.widget-view+json": {
       "model_id": "95d022549a7e4d19945236324e0aa901",
       "version_major": 2,
       "version_minor": 0
      },
      "text/plain": [
       "tokenizer.json:   0%|          | 0.00/466k [00:00<?, ?B/s]"
      ]
     },
     "metadata": {},
     "output_type": "display_data"
    },
    {
     "data": {
      "application/vnd.jupyter.widget-view+json": {
       "model_id": "e3e7f04481a64e69bbfabc98812ef6f1",
       "version_major": 2,
       "version_minor": 0
      },
      "text/plain": [
       "added_tokens.json:   0%|          | 0.00/2.00 [00:00<?, ?B/s]"
      ]
     },
     "metadata": {},
     "output_type": "display_data"
    },
    {
     "data": {
      "application/vnd.jupyter.widget-view+json": {
       "model_id": "e0af6f78dadf4d9ca827373c186909c1",
       "version_major": 2,
       "version_minor": 0
      },
      "text/plain": [
       "special_tokens_map.json:   0%|          | 0.00/112 [00:00<?, ?B/s]"
      ]
     },
     "metadata": {},
     "output_type": "display_data"
    },
    {
     "data": {
      "application/vnd.jupyter.widget-view+json": {
       "model_id": "a7b51273fd0042aeace9944e5345b737",
       "version_major": 2,
       "version_minor": 0
      },
      "text/plain": [
       "config.json:   0%|          | 0.00/191 [00:00<?, ?B/s]"
      ]
     },
     "metadata": {},
     "output_type": "display_data"
    },
    {
     "data": {
      "application/vnd.jupyter.widget-view+json": {
       "model_id": "1b3a5f7994404eff8020da711e4720aa",
       "version_major": 2,
       "version_minor": 0
      },
      "text/plain": [
       "Batches:   0%|          | 0/5941 [00:00<?, ?it/s]"
      ]
     },
     "metadata": {},
     "output_type": "display_data"
    },
    {
     "data": {
      "application/vnd.jupyter.widget-view+json": {
       "model_id": "d3ba6afae56c4766a21c49ce1ce076cb",
       "version_major": 2,
       "version_minor": 0
      },
      "text/plain": [
       "Batches:   0%|          | 0/5941 [00:00<?, ?it/s]"
      ]
     },
     "metadata": {},
     "output_type": "display_data"
    },
    {
     "name": "stderr",
     "output_type": "stream",
     "text": [
      "100%|██████████| 190104/190104 [00:41<00:00, 4574.15it/s]\n"
     ]
    },
    {
     "data": {
      "text/plain": [
       "0.904688"
      ]
     },
     "execution_count": 2,
     "metadata": {},
     "output_type": "execute_result"
    }
   ],
   "source": [
    "def get_data(data_file_path):\n",
    "    df = pd.read_csv(data_file_path)\n",
    "\n",
    "    return df['Original Comment'].to_list(), df['Generated Comment'].to_list(), df['Label'].to_list()\n",
    "\n",
    "original_comment, g_comment, label = get_data(\"/kaggle/input/comment-bert-a/comment_3_15_10.csv\")\n",
    "\n",
    "model_name = \"bert-large-nli-max-tokens\"\n",
    "model = SentenceTransformer(model_name)\n",
    "\n",
    "original_comments_vector = model.encode(original_comment)\n",
    "\n",
    "replaced_comments_vector = model.encode(g_comment)\n",
    "\n",
    "similarity_score = []\n",
    "\n",
    "for i in tqdm(range(len(original_comment))):\n",
    "    # print(cosine_similarity([original_comments_vector[i]], [replaced_comments_vector[i]])[0][0])\n",
    "    similarity_score.append(cosine_similarity([original_comments_vector[i]], [replaced_comments_vector[i]])[0][0])\n",
    "\n",
    "np.mean(similarity_score)"
   ]
  }
 ],
 "metadata": {
  "kaggle": {
   "accelerator": "gpu",
   "dataSources": [
    {
     "datasetId": 6986987,
     "sourceId": 11192165,
     "sourceType": "datasetVersion"
    }
   ],
   "dockerImageVersionId": 30919,
   "isGpuEnabled": true,
   "isInternetEnabled": true,
   "language": "python",
   "sourceType": "notebook"
  },
  "kernelspec": {
   "display_name": "Python 3",
   "language": "python",
   "name": "python3"
  },
  "language_info": {
   "codemirror_mode": {
    "name": "ipython",
    "version": 3
   },
   "file_extension": ".py",
   "mimetype": "text/x-python",
   "name": "python",
   "nbconvert_exporter": "python",
   "pygments_lexer": "ipython3",
   "version": "3.10.12"
  }
 },
 "nbformat": 4,
 "nbformat_minor": 4
}
