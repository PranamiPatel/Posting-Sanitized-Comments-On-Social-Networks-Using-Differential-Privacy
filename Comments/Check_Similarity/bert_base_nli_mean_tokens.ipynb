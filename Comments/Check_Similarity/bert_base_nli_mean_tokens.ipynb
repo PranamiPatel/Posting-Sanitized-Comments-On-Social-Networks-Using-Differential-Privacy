{
  "metadata": {
    "kernelspec": {
      "language": "python",
      "display_name": "Python 3",
      "name": "python3"
    },
    "language_info": {
      "name": "python",
      "version": "3.10.12",
      "mimetype": "text/x-python",
      "codemirror_mode": {
        "name": "ipython",
        "version": 3
      },
      "pygments_lexer": "ipython3",
      "nbconvert_exporter": "python",
      "file_extension": ".py"
    },
    "kaggle": {
      "accelerator": "gpu",
      "dataSources": [
        {
          "sourceId": 11187174,
          "sourceType": "datasetVersion",
          "datasetId": 6983623
        },
        {
          "sourceId": 11192165,
          "sourceType": "datasetVersion",
          "datasetId": 6986987
        }
      ],
      "dockerImageVersionId": 30919,
      "isInternetEnabled": true,
      "language": "python",
      "sourceType": "notebook",
      "isGpuEnabled": true
    },
    "colab": {
      "provenance": []
    }
  },
  "nbformat_minor": 0,
  "nbformat": 4,
  "cells": [
    {
      "cell_type": "code",
      "source": [
        "import numpy as np\n",
        "from sentence_transformers import SentenceTransformer, util\n",
        "import pandas as pd\n",
        "from sklearn.metrics.pairwise import cosine_similarity\n",
        "from tqdm import tqdm"
      ],
      "metadata": {
        "_uuid": "8f2839f25d086af736a60e9eeb907d3b93b6e0e5",
        "_cell_guid": "b1076dfc-b9ad-4769-8c92-a6c4dae69d19",
        "trusted": true,
        "execution": {
          "iopub.status.busy": "2025-03-29T07:48:03.090865Z",
          "iopub.execute_input": "2025-03-29T07:48:03.091184Z",
          "iopub.status.idle": "2025-03-29T07:48:25.926561Z",
          "shell.execute_reply.started": "2025-03-29T07:48:03.091160Z",
          "shell.execute_reply": "2025-03-29T07:48:25.925842Z"
        },
        "id": "E95EYwwbMYG8"
      },
      "outputs": [],
      "execution_count": null
    },
    {
      "cell_type": "code",
      "source": [
        "def get_data(data_file_path):\n",
        "    df = pd.read_csv(data_file_path)\n",
        "\n",
        "    return df['Original comment'].to_list(), df['Generated comment'].to_list(), df['Label'].to_list()"
      ],
      "metadata": {
        "trusted": true,
        "execution": {
          "iopub.status.busy": "2025-03-28T06:50:23.065503Z",
          "iopub.execute_input": "2025-03-28T06:50:23.066078Z",
          "iopub.status.idle": "2025-03-28T07:13:55.432205Z",
          "shell.execute_reply.started": "2025-03-28T06:50:23.066046Z",
          "shell.execute_reply": "2025-03-28T07:13:55.431390Z"
        },
        "id": "x_xIwBKYMYHH"
      },
      "outputs": [],
      "execution_count": null
    },
    {
      "cell_type": "code",
      "source": [
        "original_comment, g_comment, label = get_data(\"/kaggle/input/comment-bert-a/comment_2_10_10.csv\")"
      ],
      "metadata": {
        "trusted": true,
        "execution": {
          "iopub.status.busy": "2025-03-28T07:13:55.434027Z",
          "iopub.execute_input": "2025-03-28T07:13:55.434250Z",
          "iopub.status.idle": "2025-03-28T07:37:19.347988Z",
          "shell.execute_reply.started": "2025-03-28T07:13:55.434230Z",
          "shell.execute_reply": "2025-03-28T07:37:19.347074Z"
        },
        "id": "NtdTMTTVMYHN"
      },
      "outputs": [],
      "execution_count": null
    },
    {
      "cell_type": "code",
      "source": [
        "model_name = \"bert-large-nli-mean-tokens\"\n",
        "model = SentenceTransformer(model_name)"
      ],
      "metadata": {
        "trusted": true,
        "execution": {
          "iopub.status.busy": "2025-03-29T07:48:25.927571Z",
          "iopub.execute_input": "2025-03-29T07:48:25.928091Z",
          "iopub.status.idle": "2025-03-29T08:12:19.334372Z",
          "shell.execute_reply.started": "2025-03-29T07:48:25.928055Z",
          "shell.execute_reply": "2025-03-29T08:12:19.333605Z"
        },
        "collapsed": true,
        "id": "vXoX-sFqMYHQ"
      },
      "outputs": [],
      "execution_count": null
    },
    {
      "cell_type": "code",
      "source": [
        "\n",
        "original_comments_vector = model.encode(original_comment)\n",
        "\n",
        "replaced_comments_vector = model.encode(g_comment)"
      ],
      "metadata": {
        "trusted": true,
        "execution": {
          "iopub.status.busy": "2025-03-29T08:12:19.335726Z",
          "iopub.execute_input": "2025-03-29T08:12:19.336029Z",
          "iopub.status.idle": "2025-03-29T08:36:09.195874Z",
          "shell.execute_reply.started": "2025-03-29T08:12:19.336007Z",
          "shell.execute_reply": "2025-03-29T08:36:09.194835Z"
        },
        "id": "5agcEg3SMYHS"
      },
      "outputs": [],
      "execution_count": null
    },
    {
      "cell_type": "code",
      "source": [
        "similarity_score = []\n",
        "\n",
        "for i in tqdm(range(len(original_comment))):\n",
        "    # print(cosine_similarity([original_comments_vector[i]], [replaced_comments_vector[i]])[0][0])\n",
        "    similarity_score.append(cosine_similarity([original_comments_vector[i]], [replaced_comments_vector[i]])[0][0])\n",
        "\n",
        "np.mean(similarity_score)"
      ],
      "metadata": {
        "trusted": true,
        "id": "pD-FqSMsMYHU"
      },
      "outputs": [],
      "execution_count": null
    }
  ]
}