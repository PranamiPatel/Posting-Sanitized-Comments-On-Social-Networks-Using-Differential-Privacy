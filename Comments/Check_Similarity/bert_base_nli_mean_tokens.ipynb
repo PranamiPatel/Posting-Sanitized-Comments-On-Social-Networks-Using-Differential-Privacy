{
  "metadata": {
    "kernelspec": {
      "language": "python",
      "display_name": "Python 3",
      "name": "python3"
    },
    "language_info": {
      "name": "python",
      "version": "3.10.12",
      "mimetype": "text/x-python",
      "codemirror_mode": {
        "name": "ipython",
        "version": 3
      },
      "pygments_lexer": "ipython3",
      "nbconvert_exporter": "python",
      "file_extension": ".py"
    },
    "kaggle": {
      "accelerator": "gpu",
      "dataSources": [
        {
          "sourceId": 11187174,
          "sourceType": "datasetVersion",
          "datasetId": 6983623
        },
        {
          "sourceId": 11192165,
          "sourceType": "datasetVersion",
          "datasetId": 6986987
        }
      ],
      "dockerImageVersionId": 30919,
      "isInternetEnabled": true,
      "language": "python",
      "sourceType": "notebook",
      "isGpuEnabled": true
    },
    "colab": {
      "provenance": []
    }
  },
  "nbformat_minor": 0,
  "nbformat": 4,
  "cells": [
    {
      "cell_type": "code",
      "source": [
        "import numpy as np\n",
        "from sentence_transformers import SentenceTransformer, util\n",
        "import pandas as pd\n",
        "from sklearn.metrics.pairwise import cosine_similarity\n",
        "from tqdm import tqdm"
      ],
      "metadata": {
        "_uuid": "8f2839f25d086af736a60e9eeb907d3b93b6e0e5",
        "_cell_guid": "b1076dfc-b9ad-4769-8c92-a6c4dae69d19",
        "trusted": true,
        "execution": {
          "iopub.status.busy": "2025-03-29T07:48:03.090865Z",
          "iopub.execute_input": "2025-03-29T07:48:03.091184Z",
          "iopub.status.idle": "2025-03-29T07:48:25.926561Z",
          "shell.execute_reply.started": "2025-03-29T07:48:03.091160Z",
          "shell.execute_reply": "2025-03-29T07:48:25.925842Z"
        },
        "id": "BBokVMZLYAmz"
      },
      "outputs": [],
      "execution_count": null
    },
    {
      "cell_type": "code",
      "source": [
        "def get_data(data_file_path):\n",
        "    df = pd.read_csv(data_file_path)\n",
        "\n",
        "    return df['Original comment'].to_list(), df['Generated comment'].to_list(), df['Label'].to_list()\n",
        "\n",
        "original_comment, g_comment, label = get_data(\"/kaggle/input/comment-bert-a/comment_2_10_10.csv\")\n",
        "\n",
        "model_name = \"bert-large-nli-mean-tokens\"\n",
        "model = SentenceTransformer(model_name)\n",
        "\n",
        "original_comments_vector = model.encode(original_comment)\n",
        "\n",
        "replaced_comments_vector = model.encode(g_comment)\n",
        "\n",
        "similarity_score = []\n",
        "\n",
        "for i in tqdm(range(len(original_comment))):\n",
        "    # print(cosine_similarity([original_comments_vector[i]], [replaced_comments_vector[i]])[0][0])\n",
        "    similarity_score.append(cosine_similarity([original_comments_vector[i]], [replaced_comments_vector[i]])[0][0])\n",
        "\n",
        "np.mean(similarity_score)"
      ],
      "metadata": {
        "trusted": true,
        "execution": {
          "iopub.status.busy": "2025-03-28T06:50:23.065503Z",
          "iopub.execute_input": "2025-03-28T06:50:23.066078Z",
          "iopub.status.idle": "2025-03-28T07:13:55.432205Z",
          "shell.execute_reply.started": "2025-03-28T06:50:23.066046Z",
          "shell.execute_reply": "2025-03-28T07:13:55.431390Z"
        },
        "id": "OMYXrK2BYAm1",
        "outputId": "54fd992f-5262-458b-a260-7bc60e7c1576",
        "colab": {
          "referenced_widgets": [
            "f2ce7702f67d4226ad5199d1212fcae0",
            "9e1205dcc733494c94350e226380bb74",
            "f8e20036cfa44d14812bd64d5ea6f8c7",
            "5e9cc1f5aa4a41ffb5b42bdffdd616e4",
            "15180a210b3847f2ba3b6fb474364726",
            "5f4d1112063646cb9a543522513f9274",
            "2538e8ac5bb447f59b2d289123939769",
            "01101188d3d74454891756265b911604",
            "ec7dff4e0cf24616b6467c9cbf55b516",
            "80dce8a9211f46a7b7bcae2b08b51641",
            "7cce74eaac3440a7a37b638d3f2f5839",
            "74cfdc8bc789480889c8cf84bff732ef",
            "b9855c27c2464d7b82b3f1d858634d2a",
            "7c68e9a94d7449698de198b9ab492309"
          ]
        }
      },
      "outputs": [
        {
          "output_type": "display_data",
          "data": {
            "text/plain": "modules.json:   0%|          | 0.00/229 [00:00<?, ?B/s]",
            "application/vnd.jupyter.widget-view+json": {
              "version_major": 2,
              "version_minor": 0,
              "model_id": "f2ce7702f67d4226ad5199d1212fcae0"
            }
          },
          "metadata": {}
        },
        {
          "output_type": "display_data",
          "data": {
            "text/plain": "config_sentence_transformers.json:   0%|          | 0.00/122 [00:00<?, ?B/s]",
            "application/vnd.jupyter.widget-view+json": {
              "version_major": 2,
              "version_minor": 0,
              "model_id": "9e1205dcc733494c94350e226380bb74"
            }
          },
          "metadata": {}
        },
        {
          "output_type": "display_data",
          "data": {
            "text/plain": "README.md:   0%|          | 0.00/3.78k [00:00<?, ?B/s]",
            "application/vnd.jupyter.widget-view+json": {
              "version_major": 2,
              "version_minor": 0,
              "model_id": "f8e20036cfa44d14812bd64d5ea6f8c7"
            }
          },
          "metadata": {}
        },
        {
          "output_type": "display_data",
          "data": {
            "text/plain": "sentence_bert_config.json:   0%|          | 0.00/53.0 [00:00<?, ?B/s]",
            "application/vnd.jupyter.widget-view+json": {
              "version_major": 2,
              "version_minor": 0,
              "model_id": "5e9cc1f5aa4a41ffb5b42bdffdd616e4"
            }
          },
          "metadata": {}
        },
        {
          "output_type": "display_data",
          "data": {
            "text/plain": "config.json:   0%|          | 0.00/627 [00:00<?, ?B/s]",
            "application/vnd.jupyter.widget-view+json": {
              "version_major": 2,
              "version_minor": 0,
              "model_id": "15180a210b3847f2ba3b6fb474364726"
            }
          },
          "metadata": {}
        },
        {
          "output_type": "display_data",
          "data": {
            "text/plain": "model.safetensors:   0%|          | 0.00/1.34G [00:00<?, ?B/s]",
            "application/vnd.jupyter.widget-view+json": {
              "version_major": 2,
              "version_minor": 0,
              "model_id": "5f4d1112063646cb9a543522513f9274"
            }
          },
          "metadata": {}
        },
        {
          "output_type": "display_data",
          "data": {
            "text/plain": "tokenizer_config.json:   0%|          | 0.00/401 [00:00<?, ?B/s]",
            "application/vnd.jupyter.widget-view+json": {
              "version_major": 2,
              "version_minor": 0,
              "model_id": "2538e8ac5bb447f59b2d289123939769"
            }
          },
          "metadata": {}
        },
        {
          "output_type": "display_data",
          "data": {
            "text/plain": "vocab.txt:   0%|          | 0.00/232k [00:00<?, ?B/s]",
            "application/vnd.jupyter.widget-view+json": {
              "version_major": 2,
              "version_minor": 0,
              "model_id": "01101188d3d74454891756265b911604"
            }
          },
          "metadata": {}
        },
        {
          "output_type": "display_data",
          "data": {
            "text/plain": "tokenizer.json:   0%|          | 0.00/466k [00:00<?, ?B/s]",
            "application/vnd.jupyter.widget-view+json": {
              "version_major": 2,
              "version_minor": 0,
              "model_id": "ec7dff4e0cf24616b6467c9cbf55b516"
            }
          },
          "metadata": {}
        },
        {
          "output_type": "display_data",
          "data": {
            "text/plain": "added_tokens.json:   0%|          | 0.00/2.00 [00:00<?, ?B/s]",
            "application/vnd.jupyter.widget-view+json": {
              "version_major": 2,
              "version_minor": 0,
              "model_id": "80dce8a9211f46a7b7bcae2b08b51641"
            }
          },
          "metadata": {}
        },
        {
          "output_type": "display_data",
          "data": {
            "text/plain": "special_tokens_map.json:   0%|          | 0.00/112 [00:00<?, ?B/s]",
            "application/vnd.jupyter.widget-view+json": {
              "version_major": 2,
              "version_minor": 0,
              "model_id": "7cce74eaac3440a7a37b638d3f2f5839"
            }
          },
          "metadata": {}
        },
        {
          "output_type": "display_data",
          "data": {
            "text/plain": "config.json:   0%|          | 0.00/191 [00:00<?, ?B/s]",
            "application/vnd.jupyter.widget-view+json": {
              "version_major": 2,
              "version_minor": 0,
              "model_id": "74cfdc8bc789480889c8cf84bff732ef"
            }
          },
          "metadata": {}
        },
        {
          "output_type": "display_data",
          "data": {
            "text/plain": "Batches:   0%|          | 0/5941 [00:00<?, ?it/s]",
            "application/vnd.jupyter.widget-view+json": {
              "version_major": 2,
              "version_minor": 0,
              "model_id": "b9855c27c2464d7b82b3f1d858634d2a"
            }
          },
          "metadata": {}
        },
        {
          "output_type": "display_data",
          "data": {
            "text/plain": "Batches:   0%|          | 0/5941 [00:00<?, ?it/s]",
            "application/vnd.jupyter.widget-view+json": {
              "version_major": 2,
              "version_minor": 0,
              "model_id": "7c68e9a94d7449698de198b9ab492309"
            }
          },
          "metadata": {}
        },
        {
          "name": "stderr",
          "text": "100%|██████████| 190104/190104 [00:41<00:00, 4541.52it/s]\n",
          "output_type": "stream"
        },
        {
          "execution_count": 2,
          "output_type": "execute_result",
          "data": {
            "text/plain": "0.89050835"
          },
          "metadata": {}
        }
      ],
      "execution_count": null
    },
    {
      "cell_type": "code",
      "source": [
        "def get_data(data_file_path):\n",
        "    df = pd.read_csv(data_file_path)\n",
        "\n",
        "    return df['Original comment'].to_list(), df['Generated comment'].to_list(), df['Label'].to_list()\n",
        "\n",
        "original_comment, g_comment, label = get_data(\"/kaggle/input/comment-bert-a/comment_2_15_10.csv\")\n",
        "\n",
        "model_name = \"bert-large-nli-mean-tokens\"\n",
        "model = SentenceTransformer(model_name)\n",
        "\n",
        "original_comments_vector = model.encode(original_comment)\n",
        "\n",
        "replaced_comments_vector = model.encode(g_comment)\n",
        "\n",
        "similarity_score = []\n",
        "\n",
        "for i in tqdm(range(len(original_comment))):\n",
        "    # print(cosine_similarity([original_comments_vector[i]], [replaced_comments_vector[i]])[0][0])\n",
        "    similarity_score.append(cosine_similarity([original_comments_vector[i]], [replaced_comments_vector[i]])[0][0])\n",
        "\n",
        "np.mean(similarity_score)"
      ],
      "metadata": {
        "trusted": true,
        "execution": {
          "iopub.status.busy": "2025-03-28T07:13:55.434027Z",
          "iopub.execute_input": "2025-03-28T07:13:55.434250Z",
          "iopub.status.idle": "2025-03-28T07:37:19.347988Z",
          "shell.execute_reply.started": "2025-03-28T07:13:55.434230Z",
          "shell.execute_reply": "2025-03-28T07:37:19.347074Z"
        },
        "id": "b3B6sOzmYAm3",
        "outputId": "bb413459-bd9c-44f8-c2dd-7ff89f4ae06d",
        "colab": {
          "referenced_widgets": [
            "a64e336f1d12494098da49b809a1df67",
            "fe48dd51fb154b879be7e662532b8ed9"
          ]
        }
      },
      "outputs": [
        {
          "output_type": "display_data",
          "data": {
            "text/plain": "Batches:   0%|          | 0/5941 [00:00<?, ?it/s]",
            "application/vnd.jupyter.widget-view+json": {
              "version_major": 2,
              "version_minor": 0,
              "model_id": "a64e336f1d12494098da49b809a1df67"
            }
          },
          "metadata": {}
        },
        {
          "output_type": "display_data",
          "data": {
            "text/plain": "Batches:   0%|          | 0/5941 [00:00<?, ?it/s]",
            "application/vnd.jupyter.widget-view+json": {
              "version_major": 2,
              "version_minor": 0,
              "model_id": "fe48dd51fb154b879be7e662532b8ed9"
            }
          },
          "metadata": {}
        },
        {
          "name": "stderr",
          "text": "100%|██████████| 190104/190104 [00:41<00:00, 4569.82it/s]\n",
          "output_type": "stream"
        },
        {
          "execution_count": 3,
          "output_type": "execute_result",
          "data": {
            "text/plain": "0.8867148"
          },
          "metadata": {}
        }
      ],
      "execution_count": null
    },
    {
      "cell_type": "code",
      "source": [
        "def get_data(data_file_path):\n",
        "    df = pd.read_csv(data_file_path)\n",
        "\n",
        "    return df['Original comment'].to_list(), df['Generated comment'].to_list(), df['Label'].to_list()\n",
        "\n",
        "original_comment, g_comment, label = get_data(\"/kaggle/input/comment-bert-a/comment_3_10_10.csv\")\n",
        "\n",
        "model_name = \"bert-large-nli-mean-tokens\"\n",
        "model = SentenceTransformer(model_name)\n",
        "\n",
        "original_comments_vector = model.encode(original_comment)\n",
        "\n",
        "replaced_comments_vector = model.encode(g_comment)\n",
        "\n",
        "similarity_score = []\n",
        "\n",
        "for i in tqdm(range(len(original_comment))):\n",
        "    # print(cosine_similarity([original_comments_vector[i]], [replaced_comments_vector[i]])[0][0])\n",
        "    similarity_score.append(cosine_similarity([original_comments_vector[i]], [replaced_comments_vector[i]])[0][0])\n",
        "\n",
        "np.mean(similarity_score)"
      ],
      "metadata": {
        "trusted": true,
        "execution": {
          "iopub.status.busy": "2025-03-29T07:48:25.927571Z",
          "iopub.execute_input": "2025-03-29T07:48:25.928091Z",
          "iopub.status.idle": "2025-03-29T08:12:19.334372Z",
          "shell.execute_reply.started": "2025-03-29T07:48:25.928055Z",
          "shell.execute_reply": "2025-03-29T08:12:19.333605Z"
        },
        "id": "yVoMvi4FYAm4",
        "outputId": "6ec00891-4507-4238-ec94-a250cd8c6396",
        "colab": {
          "referenced_widgets": [
            "355d18614f5d4759bfa8d3a740b930d5",
            "3b9d0ae759244cdd97cfa3d1d457cfaf",
            "8af3546420354895bc36e04d07c92507",
            "943485a9cfba4a1a8830483ccd13d936",
            "f0789bc99aad48bdb71ea53b200ceb7e",
            "a2d53c43cff94574b6d2b3e8c25acaf8",
            "3603bb400d63483ea75aa9708d745250",
            "a5f86933d2614e7eab5a9399be3694a2",
            "df74b20cb96549fd9da9c8d25b765c0a",
            "f1f57ae07614417cb5cc4830237c1ef5",
            "dc10d58d88db44788e01d64b136a5fbc",
            "ca2b7ae9f4ea429992ac09de0a5a13a7",
            "d2a68571958e4ce48b04a76a9cd9ec9d",
            "09feb35146bd4edbbf3996988aec0fa7"
          ]
        }
      },
      "outputs": [
        {
          "output_type": "display_data",
          "data": {
            "text/plain": "modules.json:   0%|          | 0.00/229 [00:00<?, ?B/s]",
            "application/vnd.jupyter.widget-view+json": {
              "version_major": 2,
              "version_minor": 0,
              "model_id": "355d18614f5d4759bfa8d3a740b930d5"
            }
          },
          "metadata": {}
        },
        {
          "output_type": "display_data",
          "data": {
            "text/plain": "config_sentence_transformers.json:   0%|          | 0.00/122 [00:00<?, ?B/s]",
            "application/vnd.jupyter.widget-view+json": {
              "version_major": 2,
              "version_minor": 0,
              "model_id": "3b9d0ae759244cdd97cfa3d1d457cfaf"
            }
          },
          "metadata": {}
        },
        {
          "output_type": "display_data",
          "data": {
            "text/plain": "README.md:   0%|          | 0.00/3.78k [00:00<?, ?B/s]",
            "application/vnd.jupyter.widget-view+json": {
              "version_major": 2,
              "version_minor": 0,
              "model_id": "8af3546420354895bc36e04d07c92507"
            }
          },
          "metadata": {}
        },
        {
          "output_type": "display_data",
          "data": {
            "text/plain": "sentence_bert_config.json:   0%|          | 0.00/53.0 [00:00<?, ?B/s]",
            "application/vnd.jupyter.widget-view+json": {
              "version_major": 2,
              "version_minor": 0,
              "model_id": "943485a9cfba4a1a8830483ccd13d936"
            }
          },
          "metadata": {}
        },
        {
          "output_type": "display_data",
          "data": {
            "text/plain": "config.json:   0%|          | 0.00/627 [00:00<?, ?B/s]",
            "application/vnd.jupyter.widget-view+json": {
              "version_major": 2,
              "version_minor": 0,
              "model_id": "f0789bc99aad48bdb71ea53b200ceb7e"
            }
          },
          "metadata": {}
        },
        {
          "output_type": "display_data",
          "data": {
            "text/plain": "model.safetensors:   0%|          | 0.00/1.34G [00:00<?, ?B/s]",
            "application/vnd.jupyter.widget-view+json": {
              "version_major": 2,
              "version_minor": 0,
              "model_id": "a2d53c43cff94574b6d2b3e8c25acaf8"
            }
          },
          "metadata": {}
        },
        {
          "output_type": "display_data",
          "data": {
            "text/plain": "tokenizer_config.json:   0%|          | 0.00/401 [00:00<?, ?B/s]",
            "application/vnd.jupyter.widget-view+json": {
              "version_major": 2,
              "version_minor": 0,
              "model_id": "3603bb400d63483ea75aa9708d745250"
            }
          },
          "metadata": {}
        },
        {
          "output_type": "display_data",
          "data": {
            "text/plain": "vocab.txt:   0%|          | 0.00/232k [00:00<?, ?B/s]",
            "application/vnd.jupyter.widget-view+json": {
              "version_major": 2,
              "version_minor": 0,
              "model_id": "a5f86933d2614e7eab5a9399be3694a2"
            }
          },
          "metadata": {}
        },
        {
          "output_type": "display_data",
          "data": {
            "text/plain": "tokenizer.json:   0%|          | 0.00/466k [00:00<?, ?B/s]",
            "application/vnd.jupyter.widget-view+json": {
              "version_major": 2,
              "version_minor": 0,
              "model_id": "df74b20cb96549fd9da9c8d25b765c0a"
            }
          },
          "metadata": {}
        },
        {
          "output_type": "display_data",
          "data": {
            "text/plain": "added_tokens.json:   0%|          | 0.00/2.00 [00:00<?, ?B/s]",
            "application/vnd.jupyter.widget-view+json": {
              "version_major": 2,
              "version_minor": 0,
              "model_id": "f1f57ae07614417cb5cc4830237c1ef5"
            }
          },
          "metadata": {}
        },
        {
          "output_type": "display_data",
          "data": {
            "text/plain": "special_tokens_map.json:   0%|          | 0.00/112 [00:00<?, ?B/s]",
            "application/vnd.jupyter.widget-view+json": {
              "version_major": 2,
              "version_minor": 0,
              "model_id": "dc10d58d88db44788e01d64b136a5fbc"
            }
          },
          "metadata": {}
        },
        {
          "output_type": "display_data",
          "data": {
            "text/plain": "config.json:   0%|          | 0.00/191 [00:00<?, ?B/s]",
            "application/vnd.jupyter.widget-view+json": {
              "version_major": 2,
              "version_minor": 0,
              "model_id": "ca2b7ae9f4ea429992ac09de0a5a13a7"
            }
          },
          "metadata": {}
        },
        {
          "output_type": "display_data",
          "data": {
            "text/plain": "Batches:   0%|          | 0/5941 [00:00<?, ?it/s]",
            "application/vnd.jupyter.widget-view+json": {
              "version_major": 2,
              "version_minor": 0,
              "model_id": "d2a68571958e4ce48b04a76a9cd9ec9d"
            }
          },
          "metadata": {}
        },
        {
          "output_type": "display_data",
          "data": {
            "text/plain": "Batches:   0%|          | 0/5941 [00:00<?, ?it/s]",
            "application/vnd.jupyter.widget-view+json": {
              "version_major": 2,
              "version_minor": 0,
              "model_id": "09feb35146bd4edbbf3996988aec0fa7"
            }
          },
          "metadata": {}
        },
        {
          "name": "stderr",
          "text": "100%|██████████| 190104/190104 [00:40<00:00, 4703.51it/s]\n",
          "output_type": "stream"
        },
        {
          "execution_count": 2,
          "output_type": "execute_result",
          "data": {
            "text/plain": "0.8818039"
          },
          "metadata": {}
        }
      ],
      "execution_count": null
    },
    {
      "cell_type": "code",
      "source": [
        "def get_data(data_file_path):\n",
        "    df = pd.read_csv(data_file_path)\n",
        "\n",
        "    return df['Original Comment'].to_list(), df['Generated Comment'].to_list(), df['Label'].to_list()\n",
        "\n",
        "original_comment, g_comment, label = get_data(\"/kaggle/input/comment-bert-a/comment_3_15_10.csv\")\n",
        "\n",
        "model_name = \"bert-large-nli-mean-tokens\"\n",
        "model = SentenceTransformer(model_name)\n",
        "\n",
        "original_comments_vector = model.encode(original_comment)\n",
        "\n",
        "replaced_comments_vector = model.encode(g_comment)\n",
        "\n",
        "similarity_score = []\n",
        "\n",
        "for i in tqdm(range(len(original_comment))):\n",
        "    # print(cosine_similarity([original_comments_vector[i]], [replaced_comments_vector[i]])[0][0])\n",
        "    similarity_score.append(cosine_similarity([original_comments_vector[i]], [replaced_comments_vector[i]])[0][0])\n",
        "\n",
        "np.mean(similarity_score)"
      ],
      "metadata": {
        "trusted": true,
        "execution": {
          "iopub.status.busy": "2025-03-29T08:12:19.335726Z",
          "iopub.execute_input": "2025-03-29T08:12:19.336029Z",
          "iopub.status.idle": "2025-03-29T08:36:09.195874Z",
          "shell.execute_reply.started": "2025-03-29T08:12:19.336007Z",
          "shell.execute_reply": "2025-03-29T08:36:09.194835Z"
        },
        "id": "TACAj-lxYAm4",
        "outputId": "a0186882-970f-400c-fe4e-2587c196b5d0",
        "colab": {
          "referenced_widgets": [
            "0ed0dcfe18ac41628f83adee9133d698",
            "8e8784e21cfe4cfe81f85a27e033db32"
          ]
        }
      },
      "outputs": [
        {
          "output_type": "display_data",
          "data": {
            "text/plain": "Batches:   0%|          | 0/5941 [00:00<?, ?it/s]",
            "application/vnd.jupyter.widget-view+json": {
              "version_major": 2,
              "version_minor": 0,
              "model_id": "0ed0dcfe18ac41628f83adee9133d698"
            }
          },
          "metadata": {}
        },
        {
          "output_type": "display_data",
          "data": {
            "text/plain": "Batches:   0%|          | 0/5941 [00:00<?, ?it/s]",
            "application/vnd.jupyter.widget-view+json": {
              "version_major": 2,
              "version_minor": 0,
              "model_id": "8e8784e21cfe4cfe81f85a27e033db32"
            }
          },
          "metadata": {}
        },
        {
          "name": "stderr",
          "text": "100%|██████████| 190104/190104 [00:40<00:00, 4670.81it/s]\n",
          "output_type": "stream"
        },
        {
          "execution_count": 3,
          "output_type": "execute_result",
          "data": {
            "text/plain": "0.87831914"
          },
          "metadata": {}
        }
      ],
      "execution_count": null
    },
    {
      "cell_type": "code",
      "source": [],
      "metadata": {
        "trusted": true,
        "id": "MVrI2AjCYAm5"
      },
      "outputs": [],
      "execution_count": null
    }
  ]
}