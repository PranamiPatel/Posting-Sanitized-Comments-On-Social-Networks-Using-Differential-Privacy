{
  "cells": [
    {
      "cell_type": "code",
      "execution_count": null,
      "metadata": {
        "_cell_guid": "b1076dfc-b9ad-4769-8c92-a6c4dae69d19",
        "_uuid": "8f2839f25d086af736a60e9eeb907d3b93b6e0e5",
        "execution": {
          "iopub.execute_input": "2025-03-28T04:29:40.480469Z",
          "iopub.status.busy": "2025-03-28T04:29:40.480249Z",
          "iopub.status.idle": "2025-03-28T04:30:03.997578Z",
          "shell.execute_reply": "2025-03-28T04:30:03.996815Z",
          "shell.execute_reply.started": "2025-03-28T04:29:40.480448Z"
        },
        "trusted": true,
        "id": "Yv1Xb8Cy02Y_"
      },
      "outputs": [],
      "source": [
        "from sentence_transformers import SentenceTransformer, util\n",
        "import pandas as pd\n",
        "from sklearn.metrics.pairwise import cosine_similarity\n",
        "from tqdm import tqdm\n",
        "import numpy as np"
      ]
    },
    {
      "cell_type": "code",
      "execution_count": null,
      "metadata": {
        "execution": {
          "iopub.execute_input": "2025-03-28T04:30:04.007648Z",
          "iopub.status.busy": "2025-03-28T04:30:04.007300Z",
          "iopub.status.idle": "2025-03-28T04:34:49.646684Z",
          "shell.execute_reply": "2025-03-28T04:34:49.645977Z",
          "shell.execute_reply.started": "2025-03-28T04:30:04.007614Z"
        },
        "trusted": true,
        "id": "bPDXg0FG02ZK"
      },
      "outputs": [],
      "source": [
        "def get_data(data_file_path):\n",
        "    df = pd.read_csv(data_file_path)\n",
        "\n",
        "    return df['Original comment'].to_list(), df['Generated comment'].to_list(), df['Label'].to_list()"
      ]
    },
    {
      "cell_type": "code",
      "execution_count": null,
      "metadata": {
        "execution": {
          "iopub.execute_input": "2025-03-28T04:34:49.647903Z",
          "iopub.status.busy": "2025-03-28T04:34:49.647578Z",
          "iopub.status.idle": "2025-03-28T04:39:30.730012Z",
          "shell.execute_reply": "2025-03-28T04:39:30.729117Z",
          "shell.execute_reply.started": "2025-03-28T04:34:49.647873Z"
        },
        "trusted": true,
        "id": "teHVIHIX02ZR"
      },
      "outputs": [],
      "source": [
        "original_comment, g_comment, label = get_data(\"/kaggle/input/comment-bert-a/comment_2_10_10.csv\")"
      ]
    },
    {
      "cell_type": "code",
      "execution_count": null,
      "metadata": {
        "execution": {
          "iopub.execute_input": "2025-03-28T04:39:30.731421Z",
          "iopub.status.busy": "2025-03-28T04:39:30.731079Z",
          "iopub.status.idle": "2025-03-28T04:44:13.728776Z",
          "shell.execute_reply": "2025-03-28T04:44:13.728078Z",
          "shell.execute_reply.started": "2025-03-28T04:39:30.731368Z"
        },
        "trusted": true,
        "id": "pkkD1-9E02ZU"
      },
      "outputs": [],
      "source": [
        "model_name = \"distilbert-base-uncased\"\n",
        "model = SentenceTransformer(model_name)"
      ]
    },
    {
      "cell_type": "code",
      "execution_count": null,
      "metadata": {
        "execution": {
          "iopub.execute_input": "2025-03-28T04:44:27.119921Z",
          "iopub.status.busy": "2025-03-28T04:44:27.119610Z",
          "iopub.status.idle": "2025-03-28T04:49:08.639142Z",
          "shell.execute_reply": "2025-03-28T04:49:08.638482Z",
          "shell.execute_reply.started": "2025-03-28T04:44:27.119898Z"
        },
        "trusted": true,
        "id": "Jp3GE8YZ02ZW"
      },
      "outputs": [],
      "source": [
        "original_comments_vector = model.encode(original_comment)\n",
        "\n",
        "replaced_comments_vector = model.encode(g_comment)"
      ]
    },
    {
      "cell_type": "code",
      "execution_count": null,
      "metadata": {
        "trusted": true,
        "id": "NSZ5drF_02ZY"
      },
      "outputs": [],
      "source": [
        "similarity_score = []\n",
        "\n",
        "for i in tqdm(range(len(original_comment))):\n",
        "    # print(cosine_similarity([original_comments_vector[i]], [replaced_comments_vector[i]])[0][0])\n",
        "    similarity_score.append(cosine_similarity([original_comments_vector[i]], [replaced_comments_vector[i]])[0][0])\n",
        "\n",
        "np.mean(similarity_score)"
      ]
    }
  ],
  "metadata": {
    "kaggle": {
      "accelerator": "gpu",
      "dataSources": [
        {
          "datasetId": 6986987,
          "sourceId": 11192165,
          "sourceType": "datasetVersion"
        }
      ],
      "dockerImageVersionId": 30919,
      "isGpuEnabled": true,
      "isInternetEnabled": true,
      "language": "python",
      "sourceType": "notebook"
    },
    "kernelspec": {
      "display_name": "Python 3",
      "language": "python",
      "name": "python3"
    },
    "language_info": {
      "codemirror_mode": {
        "name": "ipython",
        "version": 3
      },
      "file_extension": ".py",
      "mimetype": "text/x-python",
      "name": "python",
      "nbconvert_exporter": "python",
      "pygments_lexer": "ipython3",
      "version": "3.10.12"
    },
    "colab": {
      "provenance": []
    }
  },
  "nbformat": 4,
  "nbformat_minor": 0
}