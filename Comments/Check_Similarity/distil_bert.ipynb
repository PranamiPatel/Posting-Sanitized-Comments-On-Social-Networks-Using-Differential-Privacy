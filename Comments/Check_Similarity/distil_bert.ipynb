{
  "cells": [
    {
      "cell_type": "code",
      "execution_count": null,
      "metadata": {
        "_cell_guid": "b1076dfc-b9ad-4769-8c92-a6c4dae69d19",
        "_uuid": "8f2839f25d086af736a60e9eeb907d3b93b6e0e5",
        "execution": {
          "iopub.execute_input": "2025-03-28T04:29:40.480469Z",
          "iopub.status.busy": "2025-03-28T04:29:40.480249Z",
          "iopub.status.idle": "2025-03-28T04:30:03.997578Z",
          "shell.execute_reply": "2025-03-28T04:30:03.996815Z",
          "shell.execute_reply.started": "2025-03-28T04:29:40.480448Z"
        },
        "trusted": true,
        "id": "YrCu3vagYgig"
      },
      "outputs": [],
      "source": [
        "from sentence_transformers import SentenceTransformer, util\n",
        "import pandas as pd\n",
        "from sklearn.metrics.pairwise import cosine_similarity\n",
        "from tqdm import tqdm\n",
        "import numpy as np"
      ]
    },
    {
      "cell_type": "code",
      "execution_count": null,
      "metadata": {
        "execution": {
          "iopub.execute_input": "2025-03-28T04:30:04.007648Z",
          "iopub.status.busy": "2025-03-28T04:30:04.007300Z",
          "iopub.status.idle": "2025-03-28T04:34:49.646684Z",
          "shell.execute_reply": "2025-03-28T04:34:49.645977Z",
          "shell.execute_reply.started": "2025-03-28T04:30:04.007614Z"
        },
        "trusted": true,
        "id": "5LmlFoklYgio",
        "outputId": "acfb97c1-4b18-481b-b7d7-6d1ad2541098",
        "colab": {
          "referenced_widgets": [
            "3ca3c10ea3fc4953969c7f9eaf781411",
            "955ef79e41694adba1731cba01f8fec1",
            "dbd21d6e595e479682e7b450ac5f0145",
            "64db76335a2f4757a6e195a2e7cd163f",
            "a1f7eccd08e443feabde16403a856497",
            "37747a43f140417984fb00fd0bc9a792",
            "1aab889699b342b4b5888fc333446d54"
          ]
        }
      },
      "outputs": [
        {
          "data": {
            "application/vnd.jupyter.widget-view+json": {
              "model_id": "3ca3c10ea3fc4953969c7f9eaf781411",
              "version_major": 2,
              "version_minor": 0
            },
            "text/plain": [
              "config.json:   0%|          | 0.00/483 [00:00<?, ?B/s]"
            ]
          },
          "metadata": {},
          "output_type": "display_data"
        },
        {
          "data": {
            "application/vnd.jupyter.widget-view+json": {
              "model_id": "955ef79e41694adba1731cba01f8fec1",
              "version_major": 2,
              "version_minor": 0
            },
            "text/plain": [
              "model.safetensors:   0%|          | 0.00/268M [00:00<?, ?B/s]"
            ]
          },
          "metadata": {},
          "output_type": "display_data"
        },
        {
          "data": {
            "application/vnd.jupyter.widget-view+json": {
              "model_id": "dbd21d6e595e479682e7b450ac5f0145",
              "version_major": 2,
              "version_minor": 0
            },
            "text/plain": [
              "tokenizer_config.json:   0%|          | 0.00/48.0 [00:00<?, ?B/s]"
            ]
          },
          "metadata": {},
          "output_type": "display_data"
        },
        {
          "data": {
            "application/vnd.jupyter.widget-view+json": {
              "model_id": "64db76335a2f4757a6e195a2e7cd163f",
              "version_major": 2,
              "version_minor": 0
            },
            "text/plain": [
              "vocab.txt:   0%|          | 0.00/232k [00:00<?, ?B/s]"
            ]
          },
          "metadata": {},
          "output_type": "display_data"
        },
        {
          "data": {
            "application/vnd.jupyter.widget-view+json": {
              "model_id": "a1f7eccd08e443feabde16403a856497",
              "version_major": 2,
              "version_minor": 0
            },
            "text/plain": [
              "tokenizer.json:   0%|          | 0.00/466k [00:00<?, ?B/s]"
            ]
          },
          "metadata": {},
          "output_type": "display_data"
        },
        {
          "data": {
            "application/vnd.jupyter.widget-view+json": {
              "model_id": "37747a43f140417984fb00fd0bc9a792",
              "version_major": 2,
              "version_minor": 0
            },
            "text/plain": [
              "Batches:   0%|          | 0/5941 [00:00<?, ?it/s]"
            ]
          },
          "metadata": {},
          "output_type": "display_data"
        },
        {
          "data": {
            "application/vnd.jupyter.widget-view+json": {
              "model_id": "1aab889699b342b4b5888fc333446d54",
              "version_major": 2,
              "version_minor": 0
            },
            "text/plain": [
              "Batches:   0%|          | 0/5941 [00:00<?, ?it/s]"
            ]
          },
          "metadata": {},
          "output_type": "display_data"
        },
        {
          "name": "stderr",
          "output_type": "stream",
          "text": [
            "100%|██████████| 190104/190104 [00:40<00:00, 4649.66it/s]\n"
          ]
        },
        {
          "data": {
            "text/plain": [
              "0.9592122"
            ]
          },
          "execution_count": 3,
          "metadata": {},
          "output_type": "execute_result"
        }
      ],
      "source": [
        "def get_data(data_file_path):\n",
        "    df = pd.read_csv(data_file_path)\n",
        "\n",
        "    return df['Original comment'].to_list(), df['Generated comment'].to_list(), df['Label'].to_list()\n",
        "\n",
        "original_comment, g_comment, label = get_data(\"/kaggle/input/comment-bert-a/comment_2_10_10.csv\")\n",
        "\n",
        "model_name = \"distilbert-base-uncased\"\n",
        "model = SentenceTransformer(model_name)\n",
        "\n",
        "original_comments_vector = model.encode(original_comment)\n",
        "\n",
        "replaced_comments_vector = model.encode(g_comment)\n",
        "\n",
        "similarity_score = []\n",
        "\n",
        "for i in tqdm(range(len(original_comment))):\n",
        "    # print(cosine_similarity([original_comments_vector[i]], [replaced_comments_vector[i]])[0][0])\n",
        "    similarity_score.append(cosine_similarity([original_comments_vector[i]], [replaced_comments_vector[i]])[0][0])\n",
        "\n",
        "np.mean(similarity_score)"
      ]
    },
    {
      "cell_type": "code",
      "execution_count": null,
      "metadata": {
        "execution": {
          "iopub.execute_input": "2025-03-28T04:34:49.647903Z",
          "iopub.status.busy": "2025-03-28T04:34:49.647578Z",
          "iopub.status.idle": "2025-03-28T04:39:30.730012Z",
          "shell.execute_reply": "2025-03-28T04:39:30.729117Z",
          "shell.execute_reply.started": "2025-03-28T04:34:49.647873Z"
        },
        "trusted": true,
        "id": "iVzjF8diYgir",
        "outputId": "f98d190a-78cf-4bc0-f7af-515df1bce07f",
        "colab": {
          "referenced_widgets": [
            "8ce812d1f1cf4af5ba97121b7191e96e",
            "2b66b5ac8efd48f1b7f3dbe96ef8a9a8"
          ]
        }
      },
      "outputs": [
        {
          "data": {
            "application/vnd.jupyter.widget-view+json": {
              "model_id": "8ce812d1f1cf4af5ba97121b7191e96e",
              "version_major": 2,
              "version_minor": 0
            },
            "text/plain": [
              "Batches:   0%|          | 0/5941 [00:00<?, ?it/s]"
            ]
          },
          "metadata": {},
          "output_type": "display_data"
        },
        {
          "data": {
            "application/vnd.jupyter.widget-view+json": {
              "model_id": "2b66b5ac8efd48f1b7f3dbe96ef8a9a8",
              "version_major": 2,
              "version_minor": 0
            },
            "text/plain": [
              "Batches:   0%|          | 0/5941 [00:00<?, ?it/s]"
            ]
          },
          "metadata": {},
          "output_type": "display_data"
        },
        {
          "name": "stderr",
          "output_type": "stream",
          "text": [
            "100%|██████████| 190104/190104 [00:40<00:00, 4656.42it/s]\n"
          ]
        },
        {
          "data": {
            "text/plain": [
              "0.95634115"
            ]
          },
          "execution_count": 4,
          "metadata": {},
          "output_type": "execute_result"
        }
      ],
      "source": [
        "def get_data(data_file_path):\n",
        "    df = pd.read_csv(data_file_path)\n",
        "\n",
        "    return df['Original comment'].to_list(), df['Generated comment'].to_list(), df['Label'].to_list()\n",
        "\n",
        "original_comment, g_comment, label = get_data(\"/kaggle/input/comment-bert-a/comment_2_15_10.csv\")\n",
        "\n",
        "model_name = \"distilbert-base-uncased\"\n",
        "model = SentenceTransformer(model_name)\n",
        "\n",
        "original_comments_vector = model.encode(original_comment)\n",
        "\n",
        "replaced_comments_vector = model.encode(g_comment)\n",
        "\n",
        "similarity_score = []\n",
        "\n",
        "for i in tqdm(range(len(original_comment))):\n",
        "    # print(cosine_similarity([original_comments_vector[i]], [replaced_comments_vector[i]])[0][0])\n",
        "    similarity_score.append(cosine_similarity([original_comments_vector[i]], [replaced_comments_vector[i]])[0][0])\n",
        "\n",
        "np.mean(similarity_score)"
      ]
    },
    {
      "cell_type": "code",
      "execution_count": null,
      "metadata": {
        "execution": {
          "iopub.execute_input": "2025-03-28T04:39:30.731421Z",
          "iopub.status.busy": "2025-03-28T04:39:30.731079Z",
          "iopub.status.idle": "2025-03-28T04:44:13.728776Z",
          "shell.execute_reply": "2025-03-28T04:44:13.728078Z",
          "shell.execute_reply.started": "2025-03-28T04:39:30.731368Z"
        },
        "trusted": true,
        "id": "lqQISTHMYgit",
        "outputId": "5bdecd77-fcf9-4aa9-dc55-aa318c23fa5d",
        "colab": {
          "referenced_widgets": [
            "5d11cc1bcd4046ec86a88ab8f6a409a1",
            "45343e3fcab244fdb5d18a664bdba4f8"
          ]
        }
      },
      "outputs": [
        {
          "data": {
            "application/vnd.jupyter.widget-view+json": {
              "model_id": "5d11cc1bcd4046ec86a88ab8f6a409a1",
              "version_major": 2,
              "version_minor": 0
            },
            "text/plain": [
              "Batches:   0%|          | 0/5941 [00:00<?, ?it/s]"
            ]
          },
          "metadata": {},
          "output_type": "display_data"
        },
        {
          "data": {
            "application/vnd.jupyter.widget-view+json": {
              "model_id": "45343e3fcab244fdb5d18a664bdba4f8",
              "version_major": 2,
              "version_minor": 0
            },
            "text/plain": [
              "Batches:   0%|          | 0/5941 [00:00<?, ?it/s]"
            ]
          },
          "metadata": {},
          "output_type": "display_data"
        },
        {
          "name": "stderr",
          "output_type": "stream",
          "text": [
            "100%|██████████| 190104/190104 [00:42<00:00, 4434.46it/s]\n"
          ]
        },
        {
          "data": {
            "text/plain": [
              "0.9548066"
            ]
          },
          "execution_count": 5,
          "metadata": {},
          "output_type": "execute_result"
        }
      ],
      "source": [
        "def get_data(data_file_path):\n",
        "    df = pd.read_csv(data_file_path)\n",
        "\n",
        "    return df['Original comment'].to_list(), df['Generated comment'].to_list(), df['Label'].to_list()\n",
        "\n",
        "original_comment, g_comment, label = get_data(\"/kaggle/input/comment-bert-a/comment_3_10_10.csv\")\n",
        "\n",
        "model_name = \"distilbert-base-uncased\"\n",
        "model = SentenceTransformer(model_name)\n",
        "\n",
        "original_comments_vector = model.encode(original_comment)\n",
        "\n",
        "replaced_comments_vector = model.encode(g_comment)\n",
        "\n",
        "similarity_score = []\n",
        "\n",
        "for i in tqdm(range(len(original_comment))):\n",
        "    # print(cosine_similarity([original_comments_vector[i]], [replaced_comments_vector[i]])[0][0])\n",
        "    similarity_score.append(cosine_similarity([original_comments_vector[i]], [replaced_comments_vector[i]])[0][0])\n",
        "\n",
        "np.mean(similarity_score)"
      ]
    },
    {
      "cell_type": "code",
      "execution_count": null,
      "metadata": {
        "execution": {
          "iopub.execute_input": "2025-03-28T04:44:27.119921Z",
          "iopub.status.busy": "2025-03-28T04:44:27.119610Z",
          "iopub.status.idle": "2025-03-28T04:49:08.639142Z",
          "shell.execute_reply": "2025-03-28T04:49:08.638482Z",
          "shell.execute_reply.started": "2025-03-28T04:44:27.119898Z"
        },
        "trusted": true,
        "id": "Zy0eOo2DYgiu",
        "outputId": "d6129887-19f9-4a76-d15f-bedfbb2672c4",
        "colab": {
          "referenced_widgets": [
            "e4c6610ba6fe4bd19ab48b888444110d",
            "250976b453044baa99566c1c2e2303fb"
          ]
        }
      },
      "outputs": [
        {
          "data": {
            "application/vnd.jupyter.widget-view+json": {
              "model_id": "e4c6610ba6fe4bd19ab48b888444110d",
              "version_major": 2,
              "version_minor": 0
            },
            "text/plain": [
              "Batches:   0%|          | 0/5941 [00:00<?, ?it/s]"
            ]
          },
          "metadata": {},
          "output_type": "display_data"
        },
        {
          "data": {
            "application/vnd.jupyter.widget-view+json": {
              "model_id": "250976b453044baa99566c1c2e2303fb",
              "version_major": 2,
              "version_minor": 0
            },
            "text/plain": [
              "Batches:   0%|          | 0/5941 [00:00<?, ?it/s]"
            ]
          },
          "metadata": {},
          "output_type": "display_data"
        },
        {
          "name": "stderr",
          "output_type": "stream",
          "text": [
            "100%|██████████| 190104/190104 [00:41<00:00, 4598.11it/s]\n"
          ]
        },
        {
          "data": {
            "text/plain": [
              "0.9526522"
            ]
          },
          "execution_count": 8,
          "metadata": {},
          "output_type": "execute_result"
        }
      ],
      "source": [
        "def get_data(data_file_path):\n",
        "    df = pd.read_csv(data_file_path)\n",
        "\n",
        "    return df['Original Comment'].to_list(), df['Generated Comment'].to_list(), df['Label'].to_list()\n",
        "\n",
        "original_comment, g_comment, label = get_data(\"/kaggle/input/comment-bert-a/comment_3_15_10.csv\")\n",
        "\n",
        "model_name = \"distilbert-base-uncased\"\n",
        "model = SentenceTransformer(model_name)\n",
        "\n",
        "original_comments_vector = model.encode(original_comment)\n",
        "\n",
        "replaced_comments_vector = model.encode(g_comment)\n",
        "\n",
        "similarity_score = []\n",
        "\n",
        "for i in tqdm(range(len(original_comment))):\n",
        "    # print(cosine_similarity([original_comments_vector[i]], [replaced_comments_vector[i]])[0][0])\n",
        "    similarity_score.append(cosine_similarity([original_comments_vector[i]], [replaced_comments_vector[i]])[0][0])\n",
        "\n",
        "np.mean(similarity_score)"
      ]
    },
    {
      "cell_type": "code",
      "execution_count": null,
      "metadata": {
        "trusted": true,
        "id": "T_3H07Q1Ygiv"
      },
      "outputs": [],
      "source": []
    }
  ],
  "metadata": {
    "kaggle": {
      "accelerator": "gpu",
      "dataSources": [
        {
          "datasetId": 6986987,
          "sourceId": 11192165,
          "sourceType": "datasetVersion"
        }
      ],
      "dockerImageVersionId": 30919,
      "isGpuEnabled": true,
      "isInternetEnabled": true,
      "language": "python",
      "sourceType": "notebook"
    },
    "kernelspec": {
      "display_name": "Python 3",
      "language": "python",
      "name": "python3"
    },
    "language_info": {
      "codemirror_mode": {
        "name": "ipython",
        "version": 3
      },
      "file_extension": ".py",
      "mimetype": "text/x-python",
      "name": "python",
      "nbconvert_exporter": "python",
      "pygments_lexer": "ipython3",
      "version": "3.10.12"
    },
    "colab": {
      "provenance": []
    }
  },
  "nbformat": 4,
  "nbformat_minor": 0
}