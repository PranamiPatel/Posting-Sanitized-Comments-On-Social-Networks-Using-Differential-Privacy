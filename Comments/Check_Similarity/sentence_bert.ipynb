{
  "cells": [
    {
      "cell_type": "code",
      "execution_count": null,
      "metadata": {
        "_cell_guid": "b1076dfc-b9ad-4769-8c92-a6c4dae69d19",
        "_uuid": "8f2839f25d086af736a60e9eeb907d3b93b6e0e5",
        "execution": {
          "iopub.execute_input": "2025-03-28T06:14:54.524311Z",
          "iopub.status.busy": "2025-03-28T06:14:54.523881Z",
          "iopub.status.idle": "2025-03-28T06:15:16.880264Z",
          "shell.execute_reply": "2025-03-28T06:15:16.879310Z",
          "shell.execute_reply.started": "2025-03-28T06:14:54.524272Z"
        },
        "trusted": true,
        "id": "kb_9PYJE027w"
      },
      "outputs": [],
      "source": [
        "import numpy as np\n",
        "from sentence_transformers import SentenceTransformer, util\n",
        "import pandas as pd\n",
        "from sklearn.metrics.pairwise import cosine_similarity\n",
        "from tqdm import tqdm"
      ]
    },
    {
      "cell_type": "code",
      "execution_count": null,
      "metadata": {
        "execution": {
          "iopub.execute_input": "2025-03-28T04:51:35.442457Z",
          "iopub.status.busy": "2025-03-28T04:51:35.441914Z",
          "iopub.status.idle": "2025-03-28T05:14:52.568684Z",
          "shell.execute_reply": "2025-03-28T05:14:52.567925Z",
          "shell.execute_reply.started": "2025-03-28T04:51:35.442411Z"
        },
        "trusted": true,
        "id": "-nePW-gk0276"
      },
      "outputs": [],
      "source": [
        "def get_data(data_file_path):\n",
        "    df = pd.read_csv(data_file_path)\n",
        "\n",
        "    return df['Original comment'].to_list(), df['Generated comment'].to_list(), df['Label'].to_list()"
      ]
    },
    {
      "cell_type": "code",
      "execution_count": null,
      "metadata": {
        "execution": {
          "iopub.execute_input": "2025-03-28T05:14:52.570299Z",
          "iopub.status.busy": "2025-03-28T05:14:52.570056Z",
          "iopub.status.idle": "2025-03-28T05:38:13.489994Z",
          "shell.execute_reply": "2025-03-28T05:38:13.489045Z",
          "shell.execute_reply.started": "2025-03-28T05:14:52.570278Z"
        },
        "trusted": true,
        "id": "5P3Uk-3m027_"
      },
      "outputs": [],
      "source": [
        "original_comment, g_comment, label = get_data(\"/kaggle/input/comment-bert-a/comment_2_10_10.csv\")"
      ]
    },
    {
      "cell_type": "code",
      "execution_count": null,
      "metadata": {
        "execution": {
          "iopub.execute_input": "2025-03-28T05:38:13.492069Z",
          "iopub.status.busy": "2025-03-28T05:38:13.491728Z",
          "iopub.status.idle": "2025-03-28T06:01:39.869169Z",
          "shell.execute_reply": "2025-03-28T06:01:39.868334Z",
          "shell.execute_reply.started": "2025-03-28T05:38:13.492044Z"
        },
        "trusted": true,
        "id": "2YnvrR-P028C"
      },
      "outputs": [],
      "source": [
        "model_name = \"bert-large-nli-max-tokens\"\n",
        "model = SentenceTransformer(model_name)"
      ]
    },
    {
      "cell_type": "code",
      "execution_count": null,
      "metadata": {
        "execution": {
          "iopub.execute_input": "2025-03-28T06:15:16.882101Z",
          "iopub.status.busy": "2025-03-28T06:15:16.881425Z",
          "iopub.status.idle": "2025-03-28T06:38:54.698713Z",
          "shell.execute_reply": "2025-03-28T06:38:54.697851Z",
          "shell.execute_reply.started": "2025-03-28T06:15:16.882069Z"
        },
        "trusted": true,
        "id": "pNj_UPh0028E"
      },
      "outputs": [],
      "source": [
        "original_comments_vector = model.encode(original_comment)\n",
        "\n",
        "replaced_comments_vector = model.encode(g_comment)"
      ]
    },
    {
      "cell_type": "code",
      "source": [
        "similarity_score = []\n",
        "\n",
        "for i in tqdm(range(len(original_comment))):\n",
        "    # print(cosine_similarity([original_comments_vector[i]], [replaced_comments_vector[i]])[0][0])\n",
        "    similarity_score.append(cosine_similarity([original_comments_vector[i]], [replaced_comments_vector[i]])[0][0])\n",
        "\n",
        "np.mean(similarity_score)"
      ],
      "metadata": {
        "id": "OaEnKaVb1i12"
      },
      "execution_count": null,
      "outputs": []
    }
  ],
  "metadata": {
    "kaggle": {
      "accelerator": "gpu",
      "dataSources": [
        {
          "datasetId": 6986987,
          "sourceId": 11192165,
          "sourceType": "datasetVersion"
        }
      ],
      "dockerImageVersionId": 30919,
      "isGpuEnabled": true,
      "isInternetEnabled": true,
      "language": "python",
      "sourceType": "notebook"
    },
    "kernelspec": {
      "display_name": "Python 3",
      "language": "python",
      "name": "python3"
    },
    "language_info": {
      "codemirror_mode": {
        "name": "ipython",
        "version": 3
      },
      "file_extension": ".py",
      "mimetype": "text/x-python",
      "name": "python",
      "nbconvert_exporter": "python",
      "pygments_lexer": "ipython3",
      "version": "3.10.12"
    },
    "colab": {
      "provenance": []
    }
  },
  "nbformat": 4,
  "nbformat_minor": 0
}