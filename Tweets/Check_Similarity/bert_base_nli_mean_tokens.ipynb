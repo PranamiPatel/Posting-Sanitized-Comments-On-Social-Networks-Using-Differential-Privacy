{
  "metadata": {
    "kernelspec": {
      "language": "python",
      "display_name": "Python 3",
      "name": "python3"
    },
    "language_info": {
      "name": "python",
      "version": "3.10.12",
      "mimetype": "text/x-python",
      "codemirror_mode": {
        "name": "ipython",
        "version": 3
      },
      "pygments_lexer": "ipython3",
      "nbconvert_exporter": "python",
      "file_extension": ".py"
    },
    "kaggle": {
      "accelerator": "gpu",
      "dataSources": [
        {
          "sourceId": 11172158,
          "sourceType": "datasetVersion",
          "datasetId": 6972401
        },
        {
          "sourceId": 11172246,
          "sourceType": "datasetVersion",
          "datasetId": 6972476
        }
      ],
      "dockerImageVersionId": 30919,
      "isInternetEnabled": true,
      "language": "python",
      "sourceType": "notebook",
      "isGpuEnabled": true
    },
    "colab": {
      "provenance": []
    }
  },
  "nbformat_minor": 0,
  "nbformat": 4,
  "cells": [
    {
      "cell_type": "code",
      "source": [
        "import numpy as np\n",
        "from sentence_transformers import SentenceTransformer, util\n",
        "import pandas as pd\n",
        "from sklearn.metrics.pairwise import cosine_similarity\n",
        "from tqdm import tqdm"
      ],
      "metadata": {
        "_uuid": "8f2839f25d086af736a60e9eeb907d3b93b6e0e5",
        "_cell_guid": "b1076dfc-b9ad-4769-8c92-a6c4dae69d19",
        "trusted": true,
        "execution": {
          "iopub.status.busy": "2025-03-27T10:22:13.288616Z",
          "iopub.execute_input": "2025-03-27T10:22:13.288915Z",
          "iopub.status.idle": "2025-03-27T10:22:38.472394Z",
          "shell.execute_reply.started": "2025-03-27T10:22:13.288880Z",
          "shell.execute_reply": "2025-03-27T10:22:38.471236Z"
        },
        "id": "HAr3gDazXA8G"
      },
      "outputs": [],
      "execution_count": null
    },
    {
      "cell_type": "code",
      "source": [
        "def get_data(data_file_path):\n",
        "    df = pd.read_csv(data_file_path)\n",
        "\n",
        "    return df['Original Tweet'].to_list(), df['Generated Tweet'].to_list(), df['Label'].to_list()"
      ],
      "metadata": {
        "trusted": true,
        "execution": {
          "iopub.status.busy": "2025-03-27T10:22:38.473790Z",
          "iopub.execute_input": "2025-03-27T10:22:38.474451Z",
          "iopub.status.idle": "2025-03-27T10:38:32.459409Z",
          "shell.execute_reply.started": "2025-03-27T10:22:38.474417Z",
          "shell.execute_reply": "2025-03-27T10:38:32.458654Z"
        },
        "id": "yVQYqnk0XA8V"
      },
      "outputs": [],
      "execution_count": null
    },
    {
      "cell_type": "code",
      "source": [
        "original_comment, g_comment, label = get_data(\"/kaggle/input/tweet-rnn/comment_2_10_10.csv\")"
      ],
      "metadata": {
        "trusted": true,
        "execution": {
          "iopub.status.busy": "2025-03-27T10:38:32.461100Z",
          "iopub.execute_input": "2025-03-27T10:38:32.461353Z",
          "iopub.status.idle": "2025-03-27T10:54:16.033969Z",
          "shell.execute_reply.started": "2025-03-27T10:38:32.461333Z",
          "shell.execute_reply": "2025-03-27T10:54:16.033248Z"
        },
        "id": "9aHk-NIdXA8b"
      },
      "outputs": [],
      "execution_count": null
    },
    {
      "cell_type": "code",
      "source": [
        "model_name = \"bert-large-nli-mean-tokens\"\n",
        "model = SentenceTransformer(model_name)"
      ],
      "metadata": {
        "trusted": true,
        "execution": {
          "iopub.status.busy": "2025-03-27T10:54:16.035231Z",
          "iopub.execute_input": "2025-03-27T10:54:16.035474Z",
          "iopub.status.idle": "2025-03-27T11:09:59.516471Z",
          "shell.execute_reply.started": "2025-03-27T10:54:16.035452Z",
          "shell.execute_reply": "2025-03-27T11:09:59.515597Z"
        },
        "id": "3aLr-KonXA8e"
      },
      "outputs": [],
      "execution_count": null
    },
    {
      "cell_type": "code",
      "source": [
        "original_comments_vector = model.encode(original_comment)\n",
        "\n",
        "replaced_comments_vector = model.encode(g_comment)"
      ],
      "metadata": {
        "trusted": true,
        "execution": {
          "iopub.status.busy": "2025-03-27T11:09:59.517350Z",
          "iopub.execute_input": "2025-03-27T11:09:59.517628Z",
          "iopub.status.idle": "2025-03-27T11:25:42.030761Z",
          "shell.execute_reply.started": "2025-03-27T11:09:59.517606Z",
          "shell.execute_reply": "2025-03-27T11:25:42.029916Z"
        },
        "id": "ruKVSyySXA8f"
      },
      "outputs": [],
      "execution_count": null
    },
    {
      "cell_type": "code",
      "source": [
        "similarity_score = []\n",
        "\n",
        "for i in tqdm(range(len(original_comment))):\n",
        "    # print(cosine_similarity([original_comments_vector[i]], [replaced_comments_vector[i]])[0][0])\n",
        "    similarity_score.append(cosine_similarity([original_comments_vector[i]], [replaced_comments_vector[i]])[0][0])\n",
        "\n",
        "np.mean(similarity_score)"
      ],
      "metadata": {
        "trusted": true,
        "id": "3jzZDkLEXA8h"
      },
      "outputs": [],
      "execution_count": null
    }
  ]
}