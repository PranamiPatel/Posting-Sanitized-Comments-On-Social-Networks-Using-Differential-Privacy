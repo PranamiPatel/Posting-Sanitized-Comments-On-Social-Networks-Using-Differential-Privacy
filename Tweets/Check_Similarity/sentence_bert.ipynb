{
  "metadata": {
    "kernelspec": {
      "language": "python",
      "display_name": "Python 3",
      "name": "python3"
    },
    "language_info": {
      "name": "python",
      "version": "3.10.12",
      "mimetype": "text/x-python",
      "codemirror_mode": {
        "name": "ipython",
        "version": 3
      },
      "pygments_lexer": "ipython3",
      "nbconvert_exporter": "python",
      "file_extension": ".py"
    },
    "kaggle": {
      "accelerator": "gpu",
      "dataSources": [
        {
          "sourceId": 11172158,
          "sourceType": "datasetVersion",
          "datasetId": 6972401
        },
        {
          "sourceId": 11172246,
          "sourceType": "datasetVersion",
          "datasetId": 6972476
        }
      ],
      "dockerImageVersionId": 30919,
      "isInternetEnabled": true,
      "language": "python",
      "sourceType": "notebook",
      "isGpuEnabled": true
    },
    "colab": {
      "provenance": []
    }
  },
  "nbformat_minor": 0,
  "nbformat": 4,
  "cells": [
    {
      "cell_type": "code",
      "source": [
        "import numpy as np\n",
        "from sentence_transformers import SentenceTransformer, util\n",
        "import pandas as pd\n",
        "from sklearn.metrics.pairwise import cosine_similarity\n",
        "from tqdm import tqdm"
      ],
      "metadata": {
        "_uuid": "8f2839f25d086af736a60e9eeb907d3b93b6e0e5",
        "_cell_guid": "b1076dfc-b9ad-4769-8c92-a6c4dae69d19",
        "trusted": true,
        "execution": {
          "iopub.status.busy": "2025-03-27T07:12:51.334883Z",
          "iopub.execute_input": "2025-03-27T07:12:51.335308Z",
          "iopub.status.idle": "2025-03-27T07:13:13.423819Z",
          "shell.execute_reply.started": "2025-03-27T07:12:51.335267Z",
          "shell.execute_reply": "2025-03-27T07:13:13.422942Z"
        },
        "id": "N3E0947mXBC1"
      },
      "outputs": [],
      "execution_count": null
    },
    {
      "cell_type": "code",
      "source": [
        "def get_data(data_file_path):\n",
        "    df = pd.read_csv(data_file_path)\n",
        "\n",
        "    return df['Original Tweet'].to_list(), df['Generated Tweet'].to_list(), df['Label'].to_list()\n",
        "\n",
        "original_comment, g_comment, label = get_data(\"/kaggle/input/tweet-rnn/comment_2_10_10.csv\")\n",
        "\n",
        "model_name = \"bert-large-nli-max-tokens\"\n",
        "model = SentenceTransformer(model_name)\n",
        "\n",
        "original_comments_vector = model.encode(original_comment)\n",
        "\n",
        "replaced_comments_vector = model.encode(g_comment)\n",
        "\n",
        "similarity_score = []\n",
        "\n",
        "for i in tqdm(range(len(original_comment))):\n",
        "    # print(cosine_similarity([original_comments_vector[i]], [replaced_comments_vector[i]])[0][0])\n",
        "    similarity_score.append(cosine_similarity([original_comments_vector[i]], [replaced_comments_vector[i]])[0][0])\n",
        "\n",
        "np.mean(similarity_score)"
      ],
      "metadata": {
        "trusted": true,
        "execution": {
          "iopub.status.busy": "2025-03-27T07:13:13.424923Z",
          "iopub.execute_input": "2025-03-27T07:13:13.425550Z",
          "iopub.status.idle": "2025-03-27T07:28:50.562782Z",
          "shell.execute_reply.started": "2025-03-27T07:13:13.425515Z",
          "shell.execute_reply": "2025-03-27T07:28:50.562040Z"
        },
        "id": "9Nvbt_BgXBDE"
      },
      "outputs": [],
      "execution_count": null
    },
    {
      "cell_type": "code",
      "source": [
        "original_comment, g_comment, label = get_data(\"/kaggle/input/tweet-rnn/comment_2_10_10.csv\")"
      ],
      "metadata": {
        "trusted": true,
        "execution": {
          "iopub.status.busy": "2025-03-27T07:28:50.564271Z",
          "iopub.execute_input": "2025-03-27T07:28:50.564558Z",
          "iopub.status.idle": "2025-03-27T07:44:20.329385Z",
          "shell.execute_reply.started": "2025-03-27T07:28:50.564536Z",
          "shell.execute_reply": "2025-03-27T07:44:20.328445Z"
        },
        "id": "0IlrbX-PXBDL"
      },
      "outputs": [],
      "execution_count": null
    },
    {
      "cell_type": "code",
      "source": [
        "model_name = \"bert-large-nli-max-tokens\"\n",
        "model = SentenceTransformer(model_name)"
      ],
      "metadata": {
        "trusted": true,
        "execution": {
          "iopub.status.busy": "2025-03-27T07:44:20.330740Z",
          "iopub.execute_input": "2025-03-27T07:44:20.330986Z",
          "iopub.status.idle": "2025-03-27T07:59:52.764684Z",
          "shell.execute_reply.started": "2025-03-27T07:44:20.330966Z",
          "shell.execute_reply": "2025-03-27T07:59:52.764015Z"
        },
        "id": "e78OYf7bXBDP"
      },
      "outputs": [],
      "execution_count": null
    },
    {
      "cell_type": "code",
      "source": [
        "original_comments_vector = model.encode(original_comment)\n",
        "\n",
        "replaced_comments_vector = model.encode(g_comment)"
      ],
      "metadata": {
        "trusted": true,
        "execution": {
          "iopub.status.busy": "2025-03-27T07:59:52.765494Z",
          "iopub.execute_input": "2025-03-27T07:59:52.765838Z",
          "iopub.status.idle": "2025-03-27T08:15:23.298280Z",
          "shell.execute_reply.started": "2025-03-27T07:59:52.765806Z",
          "shell.execute_reply": "2025-03-27T08:15:23.297590Z"
        },
        "id": "mErOUHlyXBDR"
      },
      "outputs": [],
      "execution_count": null
    },
    {
      "cell_type": "code",
      "source": [
        "similarity_score = []\n",
        "\n",
        "for i in tqdm(range(len(original_comment))):\n",
        "    # print(cosine_similarity([original_comments_vector[i]], [replaced_comments_vector[i]])[0][0])\n",
        "    similarity_score.append(cosine_similarity([original_comments_vector[i]], [replaced_comments_vector[i]])[0][0])\n",
        "\n",
        "np.mean(similarity_score)"
      ],
      "metadata": {
        "trusted": true,
        "id": "hPmm9SlEXBDT"
      },
      "outputs": [],
      "execution_count": null
    }
  ]
}