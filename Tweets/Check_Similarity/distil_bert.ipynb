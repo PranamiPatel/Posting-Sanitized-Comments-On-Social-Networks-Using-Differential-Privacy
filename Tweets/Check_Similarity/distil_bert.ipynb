{
  "metadata": {
    "kernelspec": {
      "language": "python",
      "display_name": "Python 3",
      "name": "python3"
    },
    "language_info": {
      "name": "python",
      "version": "3.10.12",
      "mimetype": "text/x-python",
      "codemirror_mode": {
        "name": "ipython",
        "version": 3
      },
      "pygments_lexer": "ipython3",
      "nbconvert_exporter": "python",
      "file_extension": ".py"
    },
    "kaggle": {
      "accelerator": "gpu",
      "dataSources": [
        {
          "sourceId": 11171917,
          "sourceType": "datasetVersion",
          "datasetId": 6972227
        },
        {
          "sourceId": 11172246,
          "sourceType": "datasetVersion",
          "datasetId": 6972476
        }
      ],
      "dockerImageVersionId": 30919,
      "isInternetEnabled": true,
      "language": "python",
      "sourceType": "notebook",
      "isGpuEnabled": true
    },
    "colab": {
      "provenance": []
    }
  },
  "nbformat_minor": 0,
  "nbformat": 4,
  "cells": [
    {
      "cell_type": "code",
      "source": [
        "from sentence_transformers import SentenceTransformer, util\n",
        "import pandas as pd\n",
        "from sklearn.metrics.pairwise import cosine_similarity\n",
        "from tqdm import tqdm"
      ],
      "metadata": {
        "_uuid": "8f2839f25d086af736a60e9eeb907d3b93b6e0e5",
        "_cell_guid": "b1076dfc-b9ad-4769-8c92-a6c4dae69d19",
        "trusted": true,
        "execution": {
          "iopub.status.busy": "2025-03-27T04:38:36.055407Z",
          "iopub.execute_input": "2025-03-27T04:38:36.055796Z",
          "iopub.status.idle": "2025-03-27T04:38:58.768125Z",
          "shell.execute_reply.started": "2025-03-27T04:38:36.055758Z",
          "shell.execute_reply": "2025-03-27T04:38:58.767482Z"
        },
        "id": "J3AqBpGpXA0r"
      },
      "outputs": [],
      "execution_count": null
    },
    {
      "cell_type": "code",
      "source": [
        "import numpy as np"
      ],
      "metadata": {
        "trusted": true,
        "execution": {
          "iopub.status.busy": "2025-03-27T04:38:58.769247Z",
          "iopub.execute_input": "2025-03-27T04:38:58.769886Z",
          "iopub.status.idle": "2025-03-27T04:38:58.773536Z",
          "shell.execute_reply.started": "2025-03-27T04:38:58.769854Z",
          "shell.execute_reply": "2025-03-27T04:38:58.772567Z"
        },
        "id": "scT73SV6XA05"
      },
      "outputs": [],
      "execution_count": null
    },
    {
      "cell_type": "code",
      "source": [
        "def get_data(data_file_path):\n",
        "    df = pd.read_csv(data_file_path)\n",
        "\n",
        "    return df['Original Tweet'].to_list(), df['Generated Tweet'].to_list(), df['Label'].to_list()"
      ],
      "metadata": {
        "trusted": true,
        "execution": {
          "iopub.status.busy": "2025-03-27T04:38:58.775142Z",
          "iopub.execute_input": "2025-03-27T04:38:58.775493Z",
          "iopub.status.idle": "2025-03-27T04:41:49.450467Z",
          "shell.execute_reply.started": "2025-03-27T04:38:58.775459Z",
          "shell.execute_reply": "2025-03-27T04:41:49.449732Z"
        },
        "id": "fJBB9I5XXA08"
      },
      "outputs": [],
      "execution_count": null
    },
    {
      "cell_type": "code",
      "source": [
        "original_comment, g_comment, label = get_data(\"/kaggle/input/tweet-rnn-c/comment_2_10_10.csv\")"
      ],
      "metadata": {
        "trusted": true,
        "execution": {
          "iopub.status.busy": "2025-03-27T04:41:49.451541Z",
          "iopub.execute_input": "2025-03-27T04:41:49.451769Z",
          "iopub.status.idle": "2025-03-27T04:44:36.745914Z",
          "shell.execute_reply.started": "2025-03-27T04:41:49.451743Z",
          "shell.execute_reply": "2025-03-27T04:44:36.745116Z"
        },
        "id": "-Cjulls_XA1E"
      },
      "outputs": [],
      "execution_count": null
    },
    {
      "cell_type": "code",
      "source": [
        "model_name = \"distilbert-base-uncased\"\n",
        "model = SentenceTransformer(model_name)"
      ],
      "metadata": {
        "trusted": true,
        "execution": {
          "iopub.status.busy": "2025-03-27T04:44:36.747305Z",
          "iopub.execute_input": "2025-03-27T04:44:36.747544Z",
          "iopub.status.idle": "2025-03-27T04:47:23.981553Z",
          "shell.execute_reply.started": "2025-03-27T04:44:36.747517Z",
          "shell.execute_reply": "2025-03-27T04:47:23.980802Z"
        },
        "id": "tmSmqcSIXA1H"
      },
      "outputs": [],
      "execution_count": null
    },
    {
      "cell_type": "code",
      "source": [
        "original_comments_vector = model.encode(original_comment)\n",
        "\n",
        "replaced_comments_vector = model.encode(g_comment)"
      ],
      "metadata": {
        "trusted": true,
        "execution": {
          "iopub.status.busy": "2025-03-27T04:47:23.982879Z",
          "iopub.execute_input": "2025-03-27T04:47:23.983168Z",
          "iopub.status.idle": "2025-03-27T04:50:11.021959Z",
          "shell.execute_reply.started": "2025-03-27T04:47:23.983144Z",
          "shell.execute_reply": "2025-03-27T04:50:11.021171Z"
        },
        "id": "7ovZVWLYXA1J"
      },
      "outputs": [],
      "execution_count": null
    },
    {
      "cell_type": "code",
      "source": [
        "similarity_score = []\n",
        "\n",
        "for i in tqdm(range(len(original_comment))):\n",
        "    # print(cosine_similarity([original_comments_vector[i]], [replaced_comments_vector[i]])[0][0])\n",
        "    similarity_score.append(cosine_similarity([original_comments_vector[i]], [replaced_comments_vector[i]])[0][0])\n",
        "\n",
        "np.mean(similarity_score)"
      ],
      "metadata": {
        "trusted": true,
        "id": "gIarJOvOXA1K"
      },
      "outputs": [],
      "execution_count": null
    }
  ]
}