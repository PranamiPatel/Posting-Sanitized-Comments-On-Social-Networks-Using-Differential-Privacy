{
  "cells": [
    {
      "cell_type": "code",
      "execution_count": null,
      "metadata": {
        "colab": {
          "base_uri": "https://localhost:8080/"
        },
        "id": "AKkmC6IUt8jS",
        "outputId": "5ac174d4-c2c8-4399-84b8-921dfb95cb50"
      },
      "outputs": [
        {
          "name": "stdout",
          "output_type": "stream",
          "text": [
            "Mounted at /content/drive\n"
          ]
        }
      ],
      "source": [
        "from google.colab import drive\n",
        "drive.mount('/content/drive')"
      ]
    },
    {
      "cell_type": "code",
      "execution_count": null,
      "metadata": {
        "id": "IOci-tfJuFrz"
      },
      "outputs": [],
      "source": [
        "import numpy as np\n",
        "import pandas as pd\n",
        "import nltk\n",
        "from nltk.corpus import stopwords\n",
        "from sklearn.model_selection import train_test_split\n",
        "from sklearn.metrics import accuracy_score\n",
        "import tensorflow as tf\n",
        "from tensorflow.keras.preprocessing.text import Tokenizer\n",
        "from tensorflow.keras.preprocessing.sequence import pad_sequences\n",
        "from tensorflow.keras.layers import Dense , Input , LSTM , Embedding\n",
        "from tensorflow.keras.models import Model, Sequential"
      ]
    },
    {
      "cell_type": "code",
      "execution_count": null,
      "metadata": {
        "id": "fdp1LjP4ufgr"
      },
      "outputs": [],
      "source": [
        "top_words = 50000\n",
        "max_comment_length = 300\n",
        "embedding_vecor_length = 768"
      ]
    },
    {
      "cell_type": "code",
      "execution_count": null,
      "metadata": {
        "id": "Bis6YvP6ugny"
      },
      "outputs": [],
      "source": [
        "tokenizer = Tokenizer(num_words=top_words)"
      ]
    },
    {
      "cell_type": "code",
      "execution_count": null,
      "metadata": {
        "id": "-82s6mY9utrE"
      },
      "outputs": [],
      "source": [
        "from keras.models import load_model\n",
        "model = load_model(\"C:/Users/ADMIN PC/Desktop/Tweet/RNN/RNN.h5\")"
      ]
    },
    {
      "cell_type": "code",
      "execution_count": null,
      "metadata": {
        "id": "hijVmKxMu3wS"
      },
      "outputs": [],
      "source": [
        "def predict_party(comment):\n",
        "    comment_seq = tokenizer.texts_to_sequences([comment])\n",
        "    comment_pad = pad_sequences(comment_seq, maxlen=max_comment_length)\n",
        "    prob = model.predict(comment_pad)[0][0]\n",
        "    gender = \"Republican\" if prob >= 0.5 else \"Democrat\"\n",
        "\n",
        "    return gender"
      ]
    },
    {
      "cell_type": "code",
      "execution_count": null,
      "metadata": {
        "id": "rgR-g4F6u32S"
      },
      "outputs": [],
      "source": [
        "def predict_probability(comments):\n",
        "    comment_seq = tokenizer.texts_to_sequences(comments)\n",
        "    comment_pad = pad_sequences(comment_seq, maxlen=max_comment_length)\n",
        "    probs = model.predict(comment_pad)\n",
        "    probs = np.column_stack([1 - probs, probs])  # [Democrat, Republican]\n",
        "\n",
        "    return probs"
      ]
    },
    {
      "cell_type": "code",
      "execution_count": null,
      "metadata": {
        "id": "eqfat5EUu6OC"
      },
      "outputs": [],
      "source": [
        "tweet = \"Hurricane Maria left approx $90 billion in damages, yet only $1 billion was allocated for rebuilding grid. No surprâ€¦ https://t.co/2kU8BcKwUh\"\n",
        "print(predict_party(tweet))"
      ]
    },
    {
      "cell_type": "code",
      "execution_count": null,
      "metadata": {
        "id": "EDoIi39cu6Rm"
      },
      "outputs": [],
      "source": [
        "tweet = \"Check out my op-ed on need for End Executive Overreach Act: The White House is crippling our economy https://t.co/XCmjLB8Qyd via @DCExaminer\"\n",
        "predict_party(tweet)"
      ]
    },
    {
      "cell_type": "code",
      "execution_count": null,
      "metadata": {
        "id": "GZdE9AToKq-Y"
      },
      "outputs": [],
      "source": [
        "from lime.lime_text import LimeTextExplainer, IndexedString\n",
        "from operator import itemgetter\n",
        "from tqdm import tqdm\n",
        "import csv"
      ]
    },
    {
      "cell_type": "code",
      "execution_count": null,
      "metadata": {
        "id": "nzmXP_i3Kq-Y"
      },
      "outputs": [],
      "source": [
        "class_names = ['Democrat', 'Republican']\n",
        "explainer = LimeTextExplainer(class_names=class_names)"
      ]
    },
    {
      "cell_type": "code",
      "execution_count": null,
      "metadata": {
        "id": "0OuJ2t5rKq-Y"
      },
      "outputs": [],
      "source": [
        "tweet = \"Hurricane Maria left approx $90 billion in damages, yet only $1 billion was allocated for rebuilding grid. No surprâ€¦ https://t.co/2kU8BcKwUh\"\n",
        "explainer.explain_instance(tweet, predict_probability).show_in_notebook(text=True)"
      ]
    },
    {
      "cell_type": "code",
      "execution_count": null,
      "metadata": {
        "id": "9ZBVR1kjKq-Z"
      },
      "outputs": [],
      "source": [
        "tweet = \"Check out my op-ed on need for End Executive Overreach Act: The White House is crippling our economy https://t.co/XCmjLB8Qyd via @DCExaminer\"\n",
        "explainer.explain_instance(tweet, predict_probability).show_in_notebook(text=True)"
      ]
    },
    {
      "cell_type": "code",
      "execution_count": null,
      "metadata": {
        "id": "7yRmG_wjKq-Z"
      },
      "outputs": [],
      "source": [
        "def sort_tuples_array_by_second_item(tuples):\n",
        "    return sorted(tuples, key=itemgetter(1))"
      ]
    },
    {
      "cell_type": "code",
      "execution_count": null,
      "metadata": {
        "id": "rYXKc9FuKq-Z"
      },
      "outputs": [],
      "source": [
        "def get_max_explained_words(txt, explainer_num_samples=100):\n",
        "    prediction = predict_party(txt)\n",
        "    prediction_label = 0 if prediction == \"Democrat\" else 1\n",
        "\n",
        "    # Check if text is empty or has no recognized words\n",
        "    indexed_string = IndexedString(txt, bow=explainer.bow, split_expression=explainer.split_expression,\n",
        "                                 mask_string=explainer.mask_string) # Access from explainer object\n",
        "    if indexed_string.num_words() == 0:\n",
        "        print(f\"Warning: Skipping tweet with no recognized words: {txt}\")\n",
        "        return words, wordsForCSV  # Skip this tweet\n",
        "\n",
        "    exp = explainer.explain_instance(txt, predict_probability, num_samples=explainer_num_samples)\n",
        "\n",
        "    if not exp.as_list():  # Check if as_list() is empty, indicating no features were found\n",
        "        print(f\"Warning: Skipping tweet with no explainable features: {txt}\")\n",
        "        return words, wordsForCSV\n",
        "\n",
        "    exp_list = []\n",
        "    for x in zip(exp.local_exp[1], exp.as_list()):\n",
        "        exp_list.append((x[1][0], x[1][1], x[0][0]))\n",
        "\n",
        "    # Features with negative score are for Male class\n",
        "    male_list = list(filter(lambda x: x[1] < 0, exp_list))\n",
        "    male_list = sort_tuples_array_by_second_item(male_list)\n",
        "\n",
        "    # Features with positive score are for Female class\n",
        "    female_list = list(filter(lambda x: x[1] > 0, exp_list))\n",
        "    female_list = sort_tuples_array_by_second_item(female_list)\n",
        "\n",
        "    # If comment predicted Male\n",
        "    if prediction_label == 0:\n",
        "        if len(male_list) > 1:\n",
        "            male_mc = male_list[0]\n",
        "            if (male_mc[0], 0) in words:\n",
        "                words[(male_mc[0], 0)]['lime_score'].append(male_mc[1])\n",
        "                words[(male_mc[0], 0)]['position'] = male_mc[2]\n",
        "            else:\n",
        "                words[(male_mc[0], 0)] = {}\n",
        "                words[(male_mc[0], 0)]['lime_score'] = [male_mc[1]]\n",
        "                words[(male_mc[0], 0)]['position'] = male_mc[2]\n",
        "                wordsForCSV.append([male_mc[0], 0, male_mc[1]])\n",
        "\n",
        "            male_mc = male_list[1]\n",
        "            if (male_mc[0], 0) in words:\n",
        "                words[(male_mc[0], 0)]['lime_score'].append(male_mc[1])\n",
        "                words[(male_mc[0], 0)]['position'] = male_mc[2]\n",
        "            else:\n",
        "                words[(male_mc[0], 0)] = {}\n",
        "                words[(male_mc[0], 0)]['lime_score'] = [male_mc[1]]\n",
        "                words[(male_mc[0], 0)]['position'] = male_mc[2]\n",
        "                wordsForCSV.append([male_mc[0], 0, male_mc[1]])\n",
        "    else:\n",
        "        if len(female_list) > 1:\n",
        "            female_mc = female_list[(len(female_list) - 1)]\n",
        "            if (female_mc[0], 1) in words:\n",
        "                words[(female_mc[0], 1)]['lime_score'].append(female_mc[1])\n",
        "                words[(female_mc[0], 1)]['position'] = female_mc[2]\n",
        "            else:\n",
        "                words[(female_mc[0], 1)] = {}\n",
        "                words[(female_mc[0], 1)]['lime_score'] = [female_mc[1]]\n",
        "                words[(female_mc[0], 1)]['position'] = female_mc[2]\n",
        "                wordsForCSV.append([female_mc[0], 1, female_mc[1]])\n",
        "\n",
        "            female_mc = female_list[(len(female_list) - 2)]\n",
        "            if (female_mc[0], 1) in words:\n",
        "                words[(female_mc[0], 1)]['lime_score'].append(female_mc[1])\n",
        "                words[(female_mc[0], 1)]['position'] = female_mc[2]\n",
        "            else:\n",
        "                words[(female_mc[0], 1)] = {}\n",
        "                words[(female_mc[0], 1)]['lime_score'] = [female_mc[1]]\n",
        "                words[(female_mc[0], 1)]['position'] = female_mc[2]\n",
        "                wordsForCSV.append([female_mc[0], 1, female_mc[1]])\n",
        "\n",
        "    return words, wordsForCSV"
      ]
    },
    {
      "cell_type": "code",
      "execution_count": null,
      "metadata": {
        "id": "5lSDrC_-Kq-a"
      },
      "outputs": [],
      "source": [
        "def load_data(data_file):\n",
        "  # read csv file\n",
        "  df = pd.read_csv(data_file)\n",
        "  df.fillna(\"\", inplace=True)\n",
        "  df = df.drop_duplicates()\n",
        "  comments = df['Tweet'].tolist()\n",
        "  genders = df['Party'].tolist()\n",
        "  genders = [0 if gender == \"Democrat\" else 1 for gender in genders]\n",
        "\n",
        "  return comments, genders"
      ]
    },
    {
      "cell_type": "code",
      "execution_count": null,
      "metadata": {
        "id": "2AwA-mupKq-a"
      },
      "outputs": [],
      "source": [
        "# Load dataset\n",
        "original_comments, original_genders = load_data('C:/Users/ADMIN PC/Desktop/Tweet/Tweets Dataset.csv')"
      ]
    },
    {
      "cell_type": "code",
      "execution_count": null,
      "metadata": {
        "id": "vOv9cXrBKq-a"
      },
      "outputs": [],
      "source": [
        "n = int(len(original_comments) / 5)\n",
        "x = [original_comments[i:i + n] for i in range(0, len(original_comments), n)]\n",
        "y = [original_genders[i:i + n] for i in range(0, len(original_genders), n)]"
      ]
    },
    {
      "cell_type": "code",
      "execution_count": null,
      "metadata": {
        "id": "MIwfobIpKq-a"
      },
      "outputs": [],
      "source": [
        "import csv\n",
        "words = {}\n",
        "wordsForCSV = []\n",
        "\n",
        "header=[\"word\", \"label\", \"limescore\"]\n",
        "file_path = 'C:/Users/ADMIN PC/Desktop/Tweet/RNN/extracted_strong_word.csv'"
      ]
    },
    {
      "cell_type": "code",
      "execution_count": null,
      "metadata": {
        "id": "ClLUe3G-Kq-a"
      },
      "outputs": [],
      "source": [
        "for comment in tqdm(x[0], total = len(x[0])):\n",
        "    words, wordsForCSV = get_max_explained_words(comment)\n",
        "\n",
        "with open(file_path, 'w', encoding='UTF8', newline='') as f:\n",
        "    writer = csv.writer(f)\n",
        "    writer.writerow(header)\n",
        "    writer.writerows(wordsForCSV)"
      ]
    },
    {
      "cell_type": "code",
      "execution_count": null,
      "metadata": {
        "id": "OPOSYd7zKq-a"
      },
      "outputs": [],
      "source": [
        "for comment in tqdm(x[1], total = len(x[1])):\n",
        "    words, wordsForCSV = get_max_explained_words(comment)\n",
        "\n",
        "with open(file_path, 'w', encoding='UTF8', newline='') as f:\n",
        "    writer = csv.writer(f)\n",
        "    writer.writerows(wordsForCSV)"
      ]
    },
    {
      "cell_type": "code",
      "execution_count": null,
      "metadata": {
        "id": "MXW0-6TTKq-a"
      },
      "outputs": [],
      "source": [
        "for comment in tqdm(x[2], total = len(x[2])):\n",
        "    words, wordsForCSV = get_max_explained_words(comment)\n",
        "\n",
        "with open(file_path, 'w', encoding='UTF8', newline='') as f:\n",
        "    writer = csv.writer(f)\n",
        "    writer.writerows(wordsForCSV)"
      ]
    },
    {
      "cell_type": "code",
      "execution_count": null,
      "metadata": {
        "id": "yF29BFzEKq-a"
      },
      "outputs": [],
      "source": [
        "for comment in tqdm(x[3], total = len(x[3])):\n",
        "    words, wordsForCSV = get_max_explained_words(comment)\n",
        "\n",
        "with open(file_path, 'w', encoding='UTF8', newline='') as f:\n",
        "    writer = csv.writer(f)\n",
        "    writer.writerows(wordsForCSV)"
      ]
    },
    {
      "cell_type": "code",
      "execution_count": null,
      "metadata": {
        "id": "21nphDKSKq-a"
      },
      "outputs": [],
      "source": [
        "for comment in tqdm(x[4], total = len(x[4])):\n",
        "    words, wordsForCSV = get_max_explained_words(comment)\n",
        "\n",
        "with open(file_path, 'w', encoding='UTF8', newline='') as f:\n",
        "    writer = csv.writer(f)\n",
        "    writer.writerows(wordsForCSV)"
      ]
    }
  ],
  "metadata": {
    "accelerator": "GPU",
    "colab": {
      "gpuType": "T4",
      "provenance": []
    },
    "kernelspec": {
      "display_name": "Python 3",
      "name": "python3"
    },
    "language_info": {
      "codemirror_mode": {
        "name": "ipython",
        "version": 3
      },
      "file_extension": ".py",
      "mimetype": "text/x-python",
      "name": "python",
      "nbconvert_exporter": "python",
      "pygments_lexer": "ipython3",
      "version": "3.11.0"
    }
  },
  "nbformat": 4,
  "nbformat_minor": 0
}