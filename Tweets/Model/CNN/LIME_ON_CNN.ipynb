{
  "cells": [
    {
      "cell_type": "code",
      "execution_count": null,
      "metadata": {
        "id": "F1VSrU8ibHJZ"
      },
      "outputs": [],
      "source": [
        "import pandas as pd\n",
        "import numpy as np\n",
        "from tqdm import tqdm\n",
        "import tensorflow as tf\n",
        "from tensorflow.keras.preprocessing.text import Tokenizer\n",
        "from tensorflow.keras.preprocessing.sequence import pad_sequences\n",
        "from keras.utils import to_categorical\n",
        "from sklearn.model_selection import train_test_split\n",
        "from tensorflow.keras.layers import Input, Conv1D, MaxPooling1D, Flatten, Dense, Embedding\n",
        "from tensorflow.keras.models import Model\n",
        "import torch"
      ]
    },
    {
      "cell_type": "code",
      "execution_count": null,
      "metadata": {
        "id": "soQDs4pabQ5a"
      },
      "outputs": [],
      "source": [
        "MAX_SEQUENCE_LENGTH = 300\n",
        "MAX_NUM_WORDS = 50000\n",
        "\n",
        "tokenizer = Tokenizer(num_words=MAX_NUM_WORDS)"
      ]
    },
    {
      "cell_type": "code",
      "execution_count": null,
      "metadata": {
        "id": "tKTga45ZbaT7",
        "outputId": "45c9fe69-60e7-4e6a-b4b4-9c4faac46cd4"
      },
      "outputs": [
        {
          "name": "stderr",
          "output_type": "stream",
          "text": [
            "WARNING:absl:Compiled the loaded model, but the compiled metrics have yet to be built. `model.compile_metrics` will be empty until you train or evaluate the model.\n"
          ]
        }
      ],
      "source": [
        "from keras.models import load_model\n",
        "model = load_model('C:/Users/user/Downloads/Project/Tweet/CNN/CNN.h5')"
      ]
    },
    {
      "cell_type": "code",
      "execution_count": null,
      "metadata": {
        "id": "TpovqL1iblTj"
      },
      "outputs": [],
      "source": [
        "def predict_proba(arr):\n",
        "    sequences_new = tokenizer.texts_to_sequences(arr)\n",
        "    data = pad_sequences(sequences_new, maxlen=MAX_SEQUENCE_LENGTH)\n",
        "    yprob = model.predict(data, verbose=0)\n",
        "    return yprob"
      ]
    },
    {
      "cell_type": "code",
      "execution_count": null,
      "metadata": {
        "id": "0vbNQNQ2bmnL"
      },
      "outputs": [],
      "source": [
        "def predict_party(text):\n",
        "    \"\"\"Predicts party label based on text.\"\"\"\n",
        "    arr = np.array([text])  # Wrap text in an array\n",
        "    yprob = predict_proba(arr)[0]\n",
        "\n",
        "    return \"Democrat\" if np.argmax(yprob) == 0 else \"Republican\""
      ]
    },
    {
      "cell_type": "code",
      "execution_count": null,
      "metadata": {
        "id": "JuDMfSq5blQq"
      },
      "outputs": [],
      "source": [
        "tweet = \"Hurricane Maria left approx $90 billion in damages, yet only $1 billion was allocated for rebuilding grid. No surprâ€¦ https://t.co/2kU8BcKwUh\"\n",
        "print(predict_party(tweet))"
      ]
    },
    {
      "cell_type": "code",
      "execution_count": null,
      "metadata": {
        "id": "1Vur1lmHbrea"
      },
      "outputs": [],
      "source": [
        "tweet = \"Check out my op-ed on need for End Executive Overreach Act: The White House is crippling our economy https://t.co/XCmjLB8Qyd via @DCExaminer\"\n",
        "print(predict_party(tweet))"
      ]
    },
    {
      "cell_type": "code",
      "execution_count": null,
      "metadata": {
        "id": "ZRxBn29ubizR"
      },
      "outputs": [],
      "source": [
        "%pip install lime"
      ]
    },
    {
      "cell_type": "code",
      "execution_count": null,
      "metadata": {
        "id": "3lGECkRrb_ib"
      },
      "outputs": [],
      "source": [
        "from lime.lime_text import LimeTextExplainer\n",
        "from operator import itemgetter\n",
        "from tqdm import tqdm\n",
        "import csv"
      ]
    },
    {
      "cell_type": "code",
      "execution_count": null,
      "metadata": {
        "id": "EbgHYKokcJay"
      },
      "outputs": [],
      "source": [
        "class_names = ['Democrat', 'Republican']\n",
        "explainer = LimeTextExplainer(class_names=class_names)"
      ]
    },
    {
      "cell_type": "code",
      "execution_count": null,
      "metadata": {
        "id": "2777pYyFcJfi"
      },
      "outputs": [],
      "source": [
        "tweet = \"Hurricane Maria left approx $90 billion in damages, yet only $1 billion was allocated for rebuilding grid. No surprâ€¦ https://t.co/2kU8BcKwUh\"\n",
        "explainer.explain_instance(tweet, predict_proba).show_in_notebook(text=True)"
      ]
    },
    {
      "cell_type": "code",
      "execution_count": null,
      "metadata": {
        "id": "fSKDjCCPcJjL"
      },
      "outputs": [],
      "source": [
        "tweet = \"Check out my op-ed on need for End Executive Overreach Act: The White House is crippling our economy https://t.co/XCmjLB8Qyd via @DCExaminer\"\n",
        "explainer.explain_instance(tweet, predict_proba).show_in_notebook(text=True)"
      ]
    },
    {
      "cell_type": "code",
      "execution_count": null,
      "metadata": {
        "id": "wYOnxp_WcObC"
      },
      "outputs": [],
      "source": [
        "def sort_tuples_array_by_second_item(tuples):\n",
        "    return sorted(tuples, key=itemgetter(1))"
      ]
    },
    {
      "cell_type": "code",
      "execution_count": null,
      "metadata": {
        "id": "sVFO9GlMcOdy"
      },
      "outputs": [],
      "source": [
        "# Function to get max explained words\n",
        "def get_max_explained_words(txt, explainer_num_samples=100):\n",
        "    prediction = predict_male_or_female(txt)\n",
        "    prediction_label = 0 if prediction == \"Democrat\" else 1\n",
        "\n",
        "    exp = explainer.explain_instance(txt, predict_proba, num_samples=explainer_num_samples)\n",
        "    exp_list = []\n",
        "    for x in zip(exp.local_exp[1], exp.as_list()):\n",
        "        exp_list.append((x[1][0], x[1][1], x[0][0]))\n",
        "\n",
        "    # Features with negative score are for Male class\n",
        "    male_list = list(filter(lambda x: x[1] < 0, exp_list))\n",
        "    male_list = sort_tuples_array_by_second_item(male_list)\n",
        "\n",
        "    # Features with positive score are for Female class\n",
        "    female_list = list(filter(lambda x: x[1] > 0, exp_list))\n",
        "    female_list = sort_tuples_array_by_second_item(female_list)\n",
        "\n",
        "    # If comment predicted Male\n",
        "    if prediction_label == 0:\n",
        "        if len(male_list) > 1:\n",
        "            male_mc = male_list[0]\n",
        "            if (male_mc[0], 0) in words:\n",
        "                words[(male_mc[0], 0)]['lime_score'].append(male_mc[1])\n",
        "                words[(male_mc[0], 0)]['position'] = male_mc[2]\n",
        "            else:\n",
        "                words[(male_mc[0], 0)] = {}\n",
        "                words[(male_mc[0], 0)]['lime_score'] = [male_mc[1]]\n",
        "                words[(male_mc[0], 0)]['position'] = male_mc[2]\n",
        "                wordsForCSV.append([male_mc[0], 0, male_mc[1]])\n",
        "\n",
        "            male_mc = male_list[1]\n",
        "            if (male_mc[0], 0) in words:\n",
        "                words[(male_mc[0], 0)]['lime_score'].append(male_mc[1])\n",
        "                words[(male_mc[0], 0)]['position'] = male_mc[2]\n",
        "            else:\n",
        "                words[(male_mc[0], 0)] = {}\n",
        "                words[(male_mc[0], 0)]['lime_score'] = [male_mc[1]]\n",
        "                words[(male_mc[0], 0)]['position'] = male_mc[2]\n",
        "                wordsForCSV.append([male_mc[0], 0, male_mc[1]])\n",
        "    else:\n",
        "        if len(female_list) > 1:\n",
        "            female_mc = female_list[(len(female_list) - 1)]\n",
        "            if (female_mc[0], 1) in words:\n",
        "                words[(female_mc[0], 1)]['lime_score'].append(female_mc[1])\n",
        "                words[(female_mc[0], 1)]['position'] = female_mc[2]\n",
        "            else:\n",
        "                words[(female_mc[0], 1)] = {}\n",
        "                words[(female_mc[0], 1)]['lime_score'] = [female_mc[1]]\n",
        "                words[(female_mc[0], 1)]['position'] = female_mc[2]\n",
        "                wordsForCSV.append([female_mc[0], 1, female_mc[1]])\n",
        "\n",
        "            female_mc = female_list[(len(female_list) - 2)]\n",
        "            if (female_mc[0], 1) in words:\n",
        "                words[(female_mc[0], 1)]['lime_score'].append(female_mc[1])\n",
        "                words[(female_mc[0], 1)]['position'] = female_mc[2]\n",
        "            else:\n",
        "                words[(female_mc[0], 1)] = {}\n",
        "                words[(female_mc[0], 1)]['lime_score'] = [female_mc[1]]\n",
        "                words[(female_mc[0], 1)]['position'] = female_mc[2]\n",
        "                wordsForCSV.append([female_mc[0], 1, female_mc[1]])\n",
        "\n",
        "    return words, wordsForCSV"
      ]
    },
    {
      "cell_type": "code",
      "execution_count": null,
      "metadata": {
        "id": "xCg6uJjxcRik"
      },
      "outputs": [],
      "source": [
        "def load_data(data_file):\n",
        "  # read csv file\n",
        "  df = pd.read_csv(data_file)\n",
        "  df.fillna(\"\", inplace=True)\n",
        "  df = df.drop_duplicates()\n",
        "  comments = df['Tweet'].tolist()\n",
        "  genders = df['Party'].tolist()\n",
        "  genders = [0 if gender == \"Democrat\" else 1 for gender in genders]\n",
        "\n",
        "  return comments, genders"
      ]
    },
    {
      "cell_type": "code",
      "execution_count": null,
      "metadata": {
        "id": "tykJrfIVcRni"
      },
      "outputs": [],
      "source": [
        "original_comments, original_genders = load_data('C:/Users/user/Downloads/Project/Tweet/Tweets Dataset.csv')"
      ]
    },
    {
      "cell_type": "code",
      "execution_count": null,
      "metadata": {
        "id": "ZeoD8-9xcRsS"
      },
      "outputs": [],
      "source": [
        "n = int(len(original_comments) / 7)\n",
        "x = [original_comments[i:i + n] for i in range(0, len(original_comments), n)]\n",
        "y = [original_genders[i:i + n] for i in range(0, len(original_genders), n)]"
      ]
    },
    {
      "cell_type": "code",
      "execution_count": null,
      "metadata": {
        "id": "gmpDeLKrcW06"
      },
      "outputs": [],
      "source": [
        "import csv\n",
        "words = {}\n",
        "wordsForCSV = []\n",
        "\n",
        "header=[\"word\", \"label\", \"limescore\"]\n",
        "file_path = '/content/drive/Shareddrives/Posting_Comments_On_Social_Networks/CNN/extracted_strong_words_by_cnn.csv'"
      ]
    },
    {
      "cell_type": "code",
      "execution_count": null,
      "metadata": {
        "id": "V8fKN_zRcW4L"
      },
      "outputs": [],
      "source": [
        "for comment in tqdm(x[0], total = len(x[0])):\n",
        "    words, wordsForCSV = get_max_explained_words(comment)\n",
        "\n",
        "with open(file_path, 'w', encoding='UTF8', newline='') as f:\n",
        "    writer = csv.writer(f)\n",
        "    writer.writerow(header)\n",
        "    writer.writerows(wordsForCSV)"
      ]
    },
    {
      "cell_type": "code",
      "execution_count": null,
      "metadata": {
        "id": "DdJSg6FCcW7K"
      },
      "outputs": [],
      "source": [
        "for comment in tqdm(x[1], total = len(x[1])):\n",
        "    words, wordsForCSV = get_max_explained_words(comment)\n",
        "\n",
        "with open(file_path, 'w', encoding='UTF8', newline='') as f:\n",
        "    writer = csv.writer(f)\n",
        "    writer.writerows(wordsForCSV)"
      ]
    }
  ],
  "metadata": {
    "colab": {
      "provenance": []
    },
    "kernelspec": {
      "display_name": "Python [conda env:anaconda3] *",
      "language": "python",
      "name": "conda-env-anaconda3-py"
    },
    "language_info": {
      "codemirror_mode": {
        "name": "ipython",
        "version": 3
      },
      "file_extension": ".py",
      "mimetype": "text/x-python",
      "name": "python",
      "nbconvert_exporter": "python",
      "pygments_lexer": "ipython3",
      "version": "3.12.3"
    }
  },
  "nbformat": 4,
  "nbformat_minor": 0
}